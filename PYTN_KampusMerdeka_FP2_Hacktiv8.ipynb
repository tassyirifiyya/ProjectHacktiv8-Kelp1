{
 "cells": [
  {
   "cell_type": "markdown",
   "id": "8238fb47",
   "metadata": {},
   "source": [
    "# Perkenalan"
   ]
  },
  {
   "cell_type": "markdown",
   "id": "9599e31b",
   "metadata": {},
   "source": [
    "## Team :\n",
    "1. Nichoulaus Verdhy P - PYTN-KS011-023\n",
    "2. Tassyirifiyya - PYTN-KS011-012\n",
    "3. Isma - PYTN-KS011-008\n",
    "\n",
    "Python for Data Science - Studi Independen - Kampus Merdeka"
   ]
  },
  {
   "cell_type": "markdown",
   "id": "6109bdef",
   "metadata": {},
   "source": [
    "## Latar Belakang\n",
    "\n",
    "Dataset WeatherAUS adalah dataset yang berisi data cuaca di beberapa kota di Australia selama beberapa tahun. Data diambil dari Australian Bureau of Meteorology dan terdiri dari informasi cuaca harian seperti suhu, kelembaban, kecepatan angin, dan curah hujan, Dataset ini sering digunakan dalam analisis prediksi cuaca.\n",
    "\n",
    "Tujuan utama dari dataset ini adalah untuk memprediksi apakah akan terjadi hujan pada hari berikutnya berdasarkan data cuaca pada hari sebelumnya. Variabel target dalam dataset ini adalah \"RainTomorrow\" yang menunjukkan apakah akan hujan atau tidak pada hari berikutnya. Selain itu, dataset ini juga berisi beberapa variabel input seperti lokasi, tanggal, suhu maksimum dan minimum, kelembaban, tekanan udara, dan kecepatan angin.\n",
    "\n",
    "Beberapa analisis dan prediksi yang dapat dilakukan dengan dataset WeatherAUS adalah:\n",
    "\n",
    "1. Prediksi apakah akan turun hujan pada hari berikutnya \n",
    "\n",
    "2. Analisis hubungan antara curah hujan dan faktor-faktor cuaca lainnya seperti suhu, kelembapan, dan arah angin \n",
    "\n",
    "3. Analisis pola cuaca di berbagai wilayah di Australia\n",
    "\n",
    "4. Prediksi curah hujan bulanan di suatu wilayah di Australia \n",
    "\n",
    "5. Analisis perubahan cuaca di Australia selama sepuluh tahun terakhir \n",
    "\n",
    "Dataset WeatherAUS penting karena dapat membantu dalam memprediksi cuaca di masa depan dan membantu orang dalam membuat keputusan yang tepat, seperti memilih pakaian yang sesuai, membawa payung Dan lain-lainnya"
   ]
  },
  {
   "cell_type": "markdown",
   "id": "f062c5e0",
   "metadata": {},
   "source": [
    "## Objektif"
   ]
  },
  {
   "cell_type": "markdown",
   "id": "2475ca43",
   "metadata": {},
   "source": [
    "Final Project 2 ini dibuat guna mengevaluasi konsep Logistic Regression dan SVM\n",
    "sebagai berikut:\n",
    "\n",
    "● Mampu memahami konsep Classification dengan Logistic Regression dan SVM\n",
    "\n",
    "● Mampu mempersiapkan data untuk digunakan dalam model Logistic Regression\n",
    "dan SVM\n",
    "\n",
    "● Mampu mengimplementasikan Logistic Regression dan SVM untuk membuat\n",
    "prediksi"
   ]
  },
  {
   "cell_type": "markdown",
   "id": "0da090a3",
   "metadata": {},
   "source": [
    "# Import Pustaka"
   ]
  },
  {
   "cell_type": "code",
   "execution_count": 1,
   "id": "02173d69",
   "metadata": {},
   "outputs": [],
   "source": [
    "#untuk dataframe\n",
    "import pandas as pd\n",
    "import numpy as np\n",
    "\n",
    "#untuk visualisasi data\n",
    "import matplotlib.pyplot as plt\n",
    "import seaborn as sns\n",
    "%matplotlib inline\n",
    "import folium\n",
    "from folium.plugins import FastMarkerCluster\n",
    "\n",
    "#mengatur display biar maximal\n",
    "pd.options.display.max_rows = None\n",
    "pd.options.display.max_columns = None\n",
    "\n",
    "#modeling\n",
    "from sklearn.linear_model import LogisticRegression\n",
    "from sklearn.model_selection import train_test_split\n",
    "from sklearn.svm import SVC\n",
    "from sklearn import preprocessing\n",
    "from sklearn.preprocessing import StandardScaler\n",
    "from sklearn.metrics import accuracy_score # mencari accurasi \n",
    "from sklearn.metrics import confusion_matrix # membuat confusion maytris\n",
    "from sklearn.metrics import classification_report # laporan klasifikasi\n",
    "from sklearn.metrics import r2_score # evaluasi performa model\n",
    "from sklearn.metrics import mean_squared_error # menghitung nilai error rata-rata\n"
   ]
  },
  {
   "cell_type": "markdown",
   "id": "df8bb67f",
   "metadata": {},
   "source": [
    "# Data Loading"
   ]
  },
  {
   "cell_type": "markdown",
   "id": "6a570b5c",
   "metadata": {},
   "source": [
    "## Memanggil Data set"
   ]
  },
  {
   "cell_type": "code",
   "execution_count": 2,
   "id": "f4af8a9e",
   "metadata": {},
   "outputs": [
    {
     "data": {
      "text/html": [
       "<div>\n",
       "<style scoped>\n",
       "    .dataframe tbody tr th:only-of-type {\n",
       "        vertical-align: middle;\n",
       "    }\n",
       "\n",
       "    .dataframe tbody tr th {\n",
       "        vertical-align: top;\n",
       "    }\n",
       "\n",
       "    .dataframe thead th {\n",
       "        text-align: right;\n",
       "    }\n",
       "</style>\n",
       "<table border=\"1\" class=\"dataframe\">\n",
       "  <thead>\n",
       "    <tr style=\"text-align: right;\">\n",
       "      <th></th>\n",
       "      <th>Date</th>\n",
       "      <th>Location</th>\n",
       "      <th>MinTemp</th>\n",
       "      <th>MaxTemp</th>\n",
       "      <th>Rainfall</th>\n",
       "      <th>Evaporation</th>\n",
       "      <th>Sunshine</th>\n",
       "      <th>WindGustDir</th>\n",
       "      <th>WindGustSpeed</th>\n",
       "      <th>WindDir9am</th>\n",
       "      <th>WindDir3pm</th>\n",
       "      <th>WindSpeed9am</th>\n",
       "      <th>WindSpeed3pm</th>\n",
       "      <th>Humidity9am</th>\n",
       "      <th>Humidity3pm</th>\n",
       "      <th>Pressure9am</th>\n",
       "      <th>Pressure3pm</th>\n",
       "      <th>Cloud9am</th>\n",
       "      <th>Cloud3pm</th>\n",
       "      <th>Temp9am</th>\n",
       "      <th>Temp3pm</th>\n",
       "      <th>RainToday</th>\n",
       "      <th>RainTomorrow</th>\n",
       "    </tr>\n",
       "  </thead>\n",
       "  <tbody>\n",
       "    <tr>\n",
       "      <th>0</th>\n",
       "      <td>2008-12-01</td>\n",
       "      <td>Albury</td>\n",
       "      <td>13.4</td>\n",
       "      <td>22.9</td>\n",
       "      <td>0.6</td>\n",
       "      <td>NaN</td>\n",
       "      <td>NaN</td>\n",
       "      <td>W</td>\n",
       "      <td>44.0</td>\n",
       "      <td>W</td>\n",
       "      <td>WNW</td>\n",
       "      <td>20.0</td>\n",
       "      <td>24.0</td>\n",
       "      <td>71.0</td>\n",
       "      <td>22.0</td>\n",
       "      <td>1007.7</td>\n",
       "      <td>1007.1</td>\n",
       "      <td>8.0</td>\n",
       "      <td>NaN</td>\n",
       "      <td>16.9</td>\n",
       "      <td>21.8</td>\n",
       "      <td>No</td>\n",
       "      <td>No</td>\n",
       "    </tr>\n",
       "    <tr>\n",
       "      <th>1</th>\n",
       "      <td>2008-12-02</td>\n",
       "      <td>Albury</td>\n",
       "      <td>7.4</td>\n",
       "      <td>25.1</td>\n",
       "      <td>0.0</td>\n",
       "      <td>NaN</td>\n",
       "      <td>NaN</td>\n",
       "      <td>WNW</td>\n",
       "      <td>44.0</td>\n",
       "      <td>NNW</td>\n",
       "      <td>WSW</td>\n",
       "      <td>4.0</td>\n",
       "      <td>22.0</td>\n",
       "      <td>44.0</td>\n",
       "      <td>25.0</td>\n",
       "      <td>1010.6</td>\n",
       "      <td>1007.8</td>\n",
       "      <td>NaN</td>\n",
       "      <td>NaN</td>\n",
       "      <td>17.2</td>\n",
       "      <td>24.3</td>\n",
       "      <td>No</td>\n",
       "      <td>No</td>\n",
       "    </tr>\n",
       "    <tr>\n",
       "      <th>2</th>\n",
       "      <td>2008-12-03</td>\n",
       "      <td>Albury</td>\n",
       "      <td>12.9</td>\n",
       "      <td>25.7</td>\n",
       "      <td>0.0</td>\n",
       "      <td>NaN</td>\n",
       "      <td>NaN</td>\n",
       "      <td>WSW</td>\n",
       "      <td>46.0</td>\n",
       "      <td>W</td>\n",
       "      <td>WSW</td>\n",
       "      <td>19.0</td>\n",
       "      <td>26.0</td>\n",
       "      <td>38.0</td>\n",
       "      <td>30.0</td>\n",
       "      <td>1007.6</td>\n",
       "      <td>1008.7</td>\n",
       "      <td>NaN</td>\n",
       "      <td>2.0</td>\n",
       "      <td>21.0</td>\n",
       "      <td>23.2</td>\n",
       "      <td>No</td>\n",
       "      <td>No</td>\n",
       "    </tr>\n",
       "    <tr>\n",
       "      <th>3</th>\n",
       "      <td>2008-12-04</td>\n",
       "      <td>Albury</td>\n",
       "      <td>9.2</td>\n",
       "      <td>28.0</td>\n",
       "      <td>0.0</td>\n",
       "      <td>NaN</td>\n",
       "      <td>NaN</td>\n",
       "      <td>NE</td>\n",
       "      <td>24.0</td>\n",
       "      <td>SE</td>\n",
       "      <td>E</td>\n",
       "      <td>11.0</td>\n",
       "      <td>9.0</td>\n",
       "      <td>45.0</td>\n",
       "      <td>16.0</td>\n",
       "      <td>1017.6</td>\n",
       "      <td>1012.8</td>\n",
       "      <td>NaN</td>\n",
       "      <td>NaN</td>\n",
       "      <td>18.1</td>\n",
       "      <td>26.5</td>\n",
       "      <td>No</td>\n",
       "      <td>No</td>\n",
       "    </tr>\n",
       "    <tr>\n",
       "      <th>4</th>\n",
       "      <td>2008-12-05</td>\n",
       "      <td>Albury</td>\n",
       "      <td>17.5</td>\n",
       "      <td>32.3</td>\n",
       "      <td>1.0</td>\n",
       "      <td>NaN</td>\n",
       "      <td>NaN</td>\n",
       "      <td>W</td>\n",
       "      <td>41.0</td>\n",
       "      <td>ENE</td>\n",
       "      <td>NW</td>\n",
       "      <td>7.0</td>\n",
       "      <td>20.0</td>\n",
       "      <td>82.0</td>\n",
       "      <td>33.0</td>\n",
       "      <td>1010.8</td>\n",
       "      <td>1006.0</td>\n",
       "      <td>7.0</td>\n",
       "      <td>8.0</td>\n",
       "      <td>17.8</td>\n",
       "      <td>29.7</td>\n",
       "      <td>No</td>\n",
       "      <td>No</td>\n",
       "    </tr>\n",
       "  </tbody>\n",
       "</table>\n",
       "</div>"
      ],
      "text/plain": [
       "         Date Location  MinTemp  MaxTemp  Rainfall  Evaporation  Sunshine  \\\n",
       "0  2008-12-01   Albury     13.4     22.9       0.6          NaN       NaN   \n",
       "1  2008-12-02   Albury      7.4     25.1       0.0          NaN       NaN   \n",
       "2  2008-12-03   Albury     12.9     25.7       0.0          NaN       NaN   \n",
       "3  2008-12-04   Albury      9.2     28.0       0.0          NaN       NaN   \n",
       "4  2008-12-05   Albury     17.5     32.3       1.0          NaN       NaN   \n",
       "\n",
       "  WindGustDir  WindGustSpeed WindDir9am WindDir3pm  WindSpeed9am  \\\n",
       "0           W           44.0          W        WNW          20.0   \n",
       "1         WNW           44.0        NNW        WSW           4.0   \n",
       "2         WSW           46.0          W        WSW          19.0   \n",
       "3          NE           24.0         SE          E          11.0   \n",
       "4           W           41.0        ENE         NW           7.0   \n",
       "\n",
       "   WindSpeed3pm  Humidity9am  Humidity3pm  Pressure9am  Pressure3pm  Cloud9am  \\\n",
       "0          24.0         71.0         22.0       1007.7       1007.1       8.0   \n",
       "1          22.0         44.0         25.0       1010.6       1007.8       NaN   \n",
       "2          26.0         38.0         30.0       1007.6       1008.7       NaN   \n",
       "3           9.0         45.0         16.0       1017.6       1012.8       NaN   \n",
       "4          20.0         82.0         33.0       1010.8       1006.0       7.0   \n",
       "\n",
       "   Cloud3pm  Temp9am  Temp3pm RainToday RainTomorrow  \n",
       "0       NaN     16.9     21.8        No           No  \n",
       "1       NaN     17.2     24.3        No           No  \n",
       "2       2.0     21.0     23.2        No           No  \n",
       "3       NaN     18.1     26.5        No           No  \n",
       "4       8.0     17.8     29.7        No           No  "
      ]
     },
     "execution_count": 2,
     "metadata": {},
     "output_type": "execute_result"
    }
   ],
   "source": [
    "df = pd.read_csv(\"weatherAUS.csv\")\n",
    "df.head()"
   ]
  },
  {
   "cell_type": "markdown",
   "id": "664db3fd",
   "metadata": {},
   "source": [
    "## Melihat ukuran data(baris, kolom)"
   ]
  },
  {
   "cell_type": "code",
   "execution_count": 3,
   "id": "4eaf1dfd",
   "metadata": {},
   "outputs": [
    {
     "data": {
      "text/plain": [
       "(145460, 23)"
      ]
     },
     "execution_count": 3,
     "metadata": {},
     "output_type": "execute_result"
    }
   ],
   "source": [
    "df.shape"
   ]
  },
  {
   "cell_type": "markdown",
   "id": "7ef12912",
   "metadata": {},
   "source": [
    "## Pengecekan Nama Kolom"
   ]
  },
  {
   "cell_type": "code",
   "execution_count": 4,
   "id": "6a63b1aa",
   "metadata": {},
   "outputs": [
    {
     "data": {
      "text/plain": [
       "array(['Date', 'Location', 'MinTemp', 'MaxTemp', 'Rainfall',\n",
       "       'Evaporation', 'Sunshine', 'WindGustDir', 'WindGustSpeed',\n",
       "       'WindDir9am', 'WindDir3pm', 'WindSpeed9am', 'WindSpeed3pm',\n",
       "       'Humidity9am', 'Humidity3pm', 'Pressure9am', 'Pressure3pm',\n",
       "       'Cloud9am', 'Cloud3pm', 'Temp9am', 'Temp3pm', 'RainToday',\n",
       "       'RainTomorrow'], dtype=object)"
      ]
     },
     "execution_count": 4,
     "metadata": {},
     "output_type": "execute_result"
    }
   ],
   "source": [
    "df.columns.values"
   ]
  },
  {
   "cell_type": "markdown",
   "id": "77d7bb80",
   "metadata": {},
   "source": [
    "## Penjelasan Per kolom"
   ]
  },
  {
   "cell_type": "markdown",
   "id": "6eb871e1",
   "metadata": {},
   "source": [
    "1. Date - tanggal hari itu\n",
    "2. Location - lokasi, nama kota di Australia\n",
    "3. MinTemp - temperatur terendah hari itu dalam celcius\n",
    "4. MaxTemp - temperatur tertinggi hari itu dalam celcius\n",
    "5. Rainfall - jumlah curah hujan hari itu dalam mm\n",
    "6. Evaporation - jumlah evaporasi dalam mm dari Class A pan selama 24 jam\n",
    "sebelum jam 9 pagi hari itu\n",
    "7. Sunshine - jumlah jam hari itu cerah dengan cahaya matahari\n",
    "8. WindGustDir - arah kecepatan angin yang paling tinggi selama 24 jam sebelum\n",
    "jam 12 malam hari itu\n",
    "9. WindGustSpeed - kecepatan angin yang paling tinggi dalam km/jam selama 24\n",
    "jam sebelum jam 12 malam hari itu\n",
    "10. WindDir9am - arah angin jam 9 pagi\n",
    "11. WindDir3pm - arah angin jam 3 sore\n",
    "12. WindSpeed9am - kecepatan angin jam 9 pagi dalam km/jam dihitung dari\n",
    "rata-rata kecepatan angin 10 menit sebelum jam 3 sore\n",
    "13. WindSpeed3pm - kecepatan angin jam 3 sore dalam km/jam dihitung dari\n",
    "rata-rata kecepatan angin 10 menit sebelum jam 3 sore\n",
    "14. Humidity9am - humiditas jam 9 pagi dalam persen\n",
    "15. Humidity3pm - humiditas jam 3 sore dalam persen\n",
    "16. Pressure9am - tekanan udara jam 9 pagi dalam hpa\n",
    "17. Pressure3pm - tekanan udara jam 3 sore dalam hpa\n",
    "18. Cloud9am - persentase langit yang tertutup awan jam 9 pagi. dihitung dalam\n",
    "oktas, unit ⅛, menghitung berapa unit ⅛ dari langit yang tertutup awan. Jika 0,\n",
    "langit cerah, jika 8, langit sepenuhnya tertutup awan.\n",
    "19. Cloud3pm - persentase langit yang tertutup awan jam 3 sore\n",
    "20. Temp9am - temperatur jam 9 pagi dalam celcius\n",
    "21. Temp3pm - temperatur jam 3 sore dalam celcius\n",
    "22. RainToday - apakah hari ini hujan: jika curah hujan 24 jam sebelum jam 9 pagi\n",
    "melebihi 1mm, maka nilai ini adalah 1, jika tidak nilai nya 0\n",
    "23. RainTomorrow - variable yang mau di prediksi"
   ]
  },
  {
   "cell_type": "markdown",
   "id": "c87f6905",
   "metadata": {},
   "source": [
    "## Tipe Data"
   ]
  },
  {
   "cell_type": "code",
   "execution_count": 5,
   "id": "77b90214",
   "metadata": {},
   "outputs": [
    {
     "name": "stdout",
     "output_type": "stream",
     "text": [
      "<class 'pandas.core.frame.DataFrame'>\n",
      "RangeIndex: 145460 entries, 0 to 145459\n",
      "Data columns (total 23 columns):\n",
      " #   Column         Non-Null Count   Dtype  \n",
      "---  ------         --------------   -----  \n",
      " 0   Date           145460 non-null  object \n",
      " 1   Location       145460 non-null  object \n",
      " 2   MinTemp        143975 non-null  float64\n",
      " 3   MaxTemp        144199 non-null  float64\n",
      " 4   Rainfall       142199 non-null  float64\n",
      " 5   Evaporation    82670 non-null   float64\n",
      " 6   Sunshine       75625 non-null   float64\n",
      " 7   WindGustDir    135134 non-null  object \n",
      " 8   WindGustSpeed  135197 non-null  float64\n",
      " 9   WindDir9am     134894 non-null  object \n",
      " 10  WindDir3pm     141232 non-null  object \n",
      " 11  WindSpeed9am   143693 non-null  float64\n",
      " 12  WindSpeed3pm   142398 non-null  float64\n",
      " 13  Humidity9am    142806 non-null  float64\n",
      " 14  Humidity3pm    140953 non-null  float64\n",
      " 15  Pressure9am    130395 non-null  float64\n",
      " 16  Pressure3pm    130432 non-null  float64\n",
      " 17  Cloud9am       89572 non-null   float64\n",
      " 18  Cloud3pm       86102 non-null   float64\n",
      " 19  Temp9am        143693 non-null  float64\n",
      " 20  Temp3pm        141851 non-null  float64\n",
      " 21  RainToday      142199 non-null  object \n",
      " 22  RainTomorrow   142193 non-null  object \n",
      "dtypes: float64(16), object(7)\n",
      "memory usage: 25.5+ MB\n"
     ]
    }
   ],
   "source": [
    "df.info()"
   ]
  },
  {
   "cell_type": "markdown",
   "id": "a6133368",
   "metadata": {},
   "source": [
    "## Deskriptif Statistik"
   ]
  },
  {
   "cell_type": "code",
   "execution_count": 6,
   "id": "bb06e2a3",
   "metadata": {},
   "outputs": [
    {
     "data": {
      "text/html": [
       "<div>\n",
       "<style scoped>\n",
       "    .dataframe tbody tr th:only-of-type {\n",
       "        vertical-align: middle;\n",
       "    }\n",
       "\n",
       "    .dataframe tbody tr th {\n",
       "        vertical-align: top;\n",
       "    }\n",
       "\n",
       "    .dataframe thead th {\n",
       "        text-align: right;\n",
       "    }\n",
       "</style>\n",
       "<table border=\"1\" class=\"dataframe\">\n",
       "  <thead>\n",
       "    <tr style=\"text-align: right;\">\n",
       "      <th></th>\n",
       "      <th>MinTemp</th>\n",
       "      <th>MaxTemp</th>\n",
       "      <th>Rainfall</th>\n",
       "      <th>Evaporation</th>\n",
       "      <th>Sunshine</th>\n",
       "      <th>WindGustSpeed</th>\n",
       "      <th>WindSpeed9am</th>\n",
       "      <th>WindSpeed3pm</th>\n",
       "      <th>Humidity9am</th>\n",
       "      <th>Humidity3pm</th>\n",
       "      <th>Pressure9am</th>\n",
       "      <th>Pressure3pm</th>\n",
       "      <th>Cloud9am</th>\n",
       "      <th>Cloud3pm</th>\n",
       "      <th>Temp9am</th>\n",
       "      <th>Temp3pm</th>\n",
       "    </tr>\n",
       "  </thead>\n",
       "  <tbody>\n",
       "    <tr>\n",
       "      <th>count</th>\n",
       "      <td>143975.000000</td>\n",
       "      <td>144199.000000</td>\n",
       "      <td>142199.000000</td>\n",
       "      <td>82670.000000</td>\n",
       "      <td>75625.000000</td>\n",
       "      <td>135197.000000</td>\n",
       "      <td>143693.000000</td>\n",
       "      <td>142398.000000</td>\n",
       "      <td>142806.000000</td>\n",
       "      <td>140953.000000</td>\n",
       "      <td>130395.00000</td>\n",
       "      <td>130432.000000</td>\n",
       "      <td>89572.000000</td>\n",
       "      <td>86102.000000</td>\n",
       "      <td>143693.000000</td>\n",
       "      <td>141851.00000</td>\n",
       "    </tr>\n",
       "    <tr>\n",
       "      <th>mean</th>\n",
       "      <td>12.194034</td>\n",
       "      <td>23.221348</td>\n",
       "      <td>2.360918</td>\n",
       "      <td>5.468232</td>\n",
       "      <td>7.611178</td>\n",
       "      <td>40.035230</td>\n",
       "      <td>14.043426</td>\n",
       "      <td>18.662657</td>\n",
       "      <td>68.880831</td>\n",
       "      <td>51.539116</td>\n",
       "      <td>1017.64994</td>\n",
       "      <td>1015.255889</td>\n",
       "      <td>4.447461</td>\n",
       "      <td>4.509930</td>\n",
       "      <td>16.990631</td>\n",
       "      <td>21.68339</td>\n",
       "    </tr>\n",
       "    <tr>\n",
       "      <th>std</th>\n",
       "      <td>6.398495</td>\n",
       "      <td>7.119049</td>\n",
       "      <td>8.478060</td>\n",
       "      <td>4.193704</td>\n",
       "      <td>3.785483</td>\n",
       "      <td>13.607062</td>\n",
       "      <td>8.915375</td>\n",
       "      <td>8.809800</td>\n",
       "      <td>19.029164</td>\n",
       "      <td>20.795902</td>\n",
       "      <td>7.10653</td>\n",
       "      <td>7.037414</td>\n",
       "      <td>2.887159</td>\n",
       "      <td>2.720357</td>\n",
       "      <td>6.488753</td>\n",
       "      <td>6.93665</td>\n",
       "    </tr>\n",
       "    <tr>\n",
       "      <th>min</th>\n",
       "      <td>-8.500000</td>\n",
       "      <td>-4.800000</td>\n",
       "      <td>0.000000</td>\n",
       "      <td>0.000000</td>\n",
       "      <td>0.000000</td>\n",
       "      <td>6.000000</td>\n",
       "      <td>0.000000</td>\n",
       "      <td>0.000000</td>\n",
       "      <td>0.000000</td>\n",
       "      <td>0.000000</td>\n",
       "      <td>980.50000</td>\n",
       "      <td>977.100000</td>\n",
       "      <td>0.000000</td>\n",
       "      <td>0.000000</td>\n",
       "      <td>-7.200000</td>\n",
       "      <td>-5.40000</td>\n",
       "    </tr>\n",
       "    <tr>\n",
       "      <th>25%</th>\n",
       "      <td>7.600000</td>\n",
       "      <td>17.900000</td>\n",
       "      <td>0.000000</td>\n",
       "      <td>2.600000</td>\n",
       "      <td>4.800000</td>\n",
       "      <td>31.000000</td>\n",
       "      <td>7.000000</td>\n",
       "      <td>13.000000</td>\n",
       "      <td>57.000000</td>\n",
       "      <td>37.000000</td>\n",
       "      <td>1012.90000</td>\n",
       "      <td>1010.400000</td>\n",
       "      <td>1.000000</td>\n",
       "      <td>2.000000</td>\n",
       "      <td>12.300000</td>\n",
       "      <td>16.60000</td>\n",
       "    </tr>\n",
       "    <tr>\n",
       "      <th>50%</th>\n",
       "      <td>12.000000</td>\n",
       "      <td>22.600000</td>\n",
       "      <td>0.000000</td>\n",
       "      <td>4.800000</td>\n",
       "      <td>8.400000</td>\n",
       "      <td>39.000000</td>\n",
       "      <td>13.000000</td>\n",
       "      <td>19.000000</td>\n",
       "      <td>70.000000</td>\n",
       "      <td>52.000000</td>\n",
       "      <td>1017.60000</td>\n",
       "      <td>1015.200000</td>\n",
       "      <td>5.000000</td>\n",
       "      <td>5.000000</td>\n",
       "      <td>16.700000</td>\n",
       "      <td>21.10000</td>\n",
       "    </tr>\n",
       "    <tr>\n",
       "      <th>75%</th>\n",
       "      <td>16.900000</td>\n",
       "      <td>28.200000</td>\n",
       "      <td>0.800000</td>\n",
       "      <td>7.400000</td>\n",
       "      <td>10.600000</td>\n",
       "      <td>48.000000</td>\n",
       "      <td>19.000000</td>\n",
       "      <td>24.000000</td>\n",
       "      <td>83.000000</td>\n",
       "      <td>66.000000</td>\n",
       "      <td>1022.40000</td>\n",
       "      <td>1020.000000</td>\n",
       "      <td>7.000000</td>\n",
       "      <td>7.000000</td>\n",
       "      <td>21.600000</td>\n",
       "      <td>26.40000</td>\n",
       "    </tr>\n",
       "    <tr>\n",
       "      <th>max</th>\n",
       "      <td>33.900000</td>\n",
       "      <td>48.100000</td>\n",
       "      <td>371.000000</td>\n",
       "      <td>145.000000</td>\n",
       "      <td>14.500000</td>\n",
       "      <td>135.000000</td>\n",
       "      <td>130.000000</td>\n",
       "      <td>87.000000</td>\n",
       "      <td>100.000000</td>\n",
       "      <td>100.000000</td>\n",
       "      <td>1041.00000</td>\n",
       "      <td>1039.600000</td>\n",
       "      <td>9.000000</td>\n",
       "      <td>9.000000</td>\n",
       "      <td>40.200000</td>\n",
       "      <td>46.70000</td>\n",
       "    </tr>\n",
       "  </tbody>\n",
       "</table>\n",
       "</div>"
      ],
      "text/plain": [
       "             MinTemp        MaxTemp       Rainfall   Evaporation  \\\n",
       "count  143975.000000  144199.000000  142199.000000  82670.000000   \n",
       "mean       12.194034      23.221348       2.360918      5.468232   \n",
       "std         6.398495       7.119049       8.478060      4.193704   \n",
       "min        -8.500000      -4.800000       0.000000      0.000000   \n",
       "25%         7.600000      17.900000       0.000000      2.600000   \n",
       "50%        12.000000      22.600000       0.000000      4.800000   \n",
       "75%        16.900000      28.200000       0.800000      7.400000   \n",
       "max        33.900000      48.100000     371.000000    145.000000   \n",
       "\n",
       "           Sunshine  WindGustSpeed   WindSpeed9am   WindSpeed3pm  \\\n",
       "count  75625.000000  135197.000000  143693.000000  142398.000000   \n",
       "mean       7.611178      40.035230      14.043426      18.662657   \n",
       "std        3.785483      13.607062       8.915375       8.809800   \n",
       "min        0.000000       6.000000       0.000000       0.000000   \n",
       "25%        4.800000      31.000000       7.000000      13.000000   \n",
       "50%        8.400000      39.000000      13.000000      19.000000   \n",
       "75%       10.600000      48.000000      19.000000      24.000000   \n",
       "max       14.500000     135.000000     130.000000      87.000000   \n",
       "\n",
       "         Humidity9am    Humidity3pm   Pressure9am    Pressure3pm  \\\n",
       "count  142806.000000  140953.000000  130395.00000  130432.000000   \n",
       "mean       68.880831      51.539116    1017.64994    1015.255889   \n",
       "std        19.029164      20.795902       7.10653       7.037414   \n",
       "min         0.000000       0.000000     980.50000     977.100000   \n",
       "25%        57.000000      37.000000    1012.90000    1010.400000   \n",
       "50%        70.000000      52.000000    1017.60000    1015.200000   \n",
       "75%        83.000000      66.000000    1022.40000    1020.000000   \n",
       "max       100.000000     100.000000    1041.00000    1039.600000   \n",
       "\n",
       "           Cloud9am      Cloud3pm        Temp9am       Temp3pm  \n",
       "count  89572.000000  86102.000000  143693.000000  141851.00000  \n",
       "mean       4.447461      4.509930      16.990631      21.68339  \n",
       "std        2.887159      2.720357       6.488753       6.93665  \n",
       "min        0.000000      0.000000      -7.200000      -5.40000  \n",
       "25%        1.000000      2.000000      12.300000      16.60000  \n",
       "50%        5.000000      5.000000      16.700000      21.10000  \n",
       "75%        7.000000      7.000000      21.600000      26.40000  \n",
       "max        9.000000      9.000000      40.200000      46.70000  "
      ]
     },
     "execution_count": 6,
     "metadata": {},
     "output_type": "execute_result"
    }
   ],
   "source": [
    "df.describe()"
   ]
  },
  {
   "cell_type": "markdown",
   "id": "54e578f4",
   "metadata": {},
   "source": [
    "## Pengecekan Missing Value"
   ]
  },
  {
   "cell_type": "code",
   "execution_count": 7,
   "id": "09e44445",
   "metadata": {},
   "outputs": [
    {
     "data": {
      "text/plain": [
       "Date                 0\n",
       "Location             0\n",
       "MinTemp           1485\n",
       "MaxTemp           1261\n",
       "Rainfall          3261\n",
       "Evaporation      62790\n",
       "Sunshine         69835\n",
       "WindGustDir      10326\n",
       "WindGustSpeed    10263\n",
       "WindDir9am       10566\n",
       "WindDir3pm        4228\n",
       "WindSpeed9am      1767\n",
       "WindSpeed3pm      3062\n",
       "Humidity9am       2654\n",
       "Humidity3pm       4507\n",
       "Pressure9am      15065\n",
       "Pressure3pm      15028\n",
       "Cloud9am         55888\n",
       "Cloud3pm         59358\n",
       "Temp9am           1767\n",
       "Temp3pm           3609\n",
       "RainToday         3261\n",
       "RainTomorrow      3267\n",
       "dtype: int64"
      ]
     },
     "execution_count": 7,
     "metadata": {},
     "output_type": "execute_result"
    }
   ],
   "source": [
    "df.isna().sum()"
   ]
  },
  {
   "cell_type": "markdown",
   "id": "0af66420",
   "metadata": {},
   "source": [
    "## Penghitungan Persentasi Missing Value"
   ]
  },
  {
   "cell_type": "code",
   "execution_count": 8,
   "id": "903b8604",
   "metadata": {},
   "outputs": [
    {
     "name": "stdout",
     "output_type": "stream",
     "text": [
      "Kolom Date:\n",
      "Jumlah nilai null: 0\n",
      "Total data: 145460\n",
      "Persentase missing value: 0.00%\n",
      "\n",
      "Kolom Location:\n",
      "Jumlah nilai null: 0\n",
      "Total data: 145460\n",
      "Persentase missing value: 0.00%\n",
      "\n",
      "Kolom MinTemp:\n",
      "Jumlah nilai null: 1485\n",
      "Total data: 145460\n",
      "Persentase missing value: 1.02%\n",
      "\n",
      "Kolom MaxTemp:\n",
      "Jumlah nilai null: 1261\n",
      "Total data: 145460\n",
      "Persentase missing value: 0.87%\n",
      "\n",
      "Kolom Rainfall:\n",
      "Jumlah nilai null: 3261\n",
      "Total data: 145460\n",
      "Persentase missing value: 2.24%\n",
      "\n",
      "Kolom Evaporation:\n",
      "Jumlah nilai null: 62790\n",
      "Total data: 145460\n",
      "Persentase missing value: 43.17%\n",
      "\n",
      "Kolom Sunshine:\n",
      "Jumlah nilai null: 69835\n",
      "Total data: 145460\n",
      "Persentase missing value: 48.01%\n",
      "\n",
      "Kolom WindGustDir:\n",
      "Jumlah nilai null: 10326\n",
      "Total data: 145460\n",
      "Persentase missing value: 7.10%\n",
      "\n",
      "Kolom WindGustSpeed:\n",
      "Jumlah nilai null: 10263\n",
      "Total data: 145460\n",
      "Persentase missing value: 7.06%\n",
      "\n",
      "Kolom WindDir9am:\n",
      "Jumlah nilai null: 10566\n",
      "Total data: 145460\n",
      "Persentase missing value: 7.26%\n",
      "\n",
      "Kolom WindDir3pm:\n",
      "Jumlah nilai null: 4228\n",
      "Total data: 145460\n",
      "Persentase missing value: 2.91%\n",
      "\n",
      "Kolom WindSpeed9am:\n",
      "Jumlah nilai null: 1767\n",
      "Total data: 145460\n",
      "Persentase missing value: 1.21%\n",
      "\n",
      "Kolom WindSpeed3pm:\n",
      "Jumlah nilai null: 3062\n",
      "Total data: 145460\n",
      "Persentase missing value: 2.11%\n",
      "\n",
      "Kolom Humidity9am:\n",
      "Jumlah nilai null: 2654\n",
      "Total data: 145460\n",
      "Persentase missing value: 1.82%\n",
      "\n",
      "Kolom Humidity3pm:\n",
      "Jumlah nilai null: 4507\n",
      "Total data: 145460\n",
      "Persentase missing value: 3.10%\n",
      "\n",
      "Kolom Pressure9am:\n",
      "Jumlah nilai null: 15065\n",
      "Total data: 145460\n",
      "Persentase missing value: 10.36%\n",
      "\n",
      "Kolom Pressure3pm:\n",
      "Jumlah nilai null: 15028\n",
      "Total data: 145460\n",
      "Persentase missing value: 10.33%\n",
      "\n",
      "Kolom Cloud9am:\n",
      "Jumlah nilai null: 55888\n",
      "Total data: 145460\n",
      "Persentase missing value: 38.42%\n",
      "\n",
      "Kolom Cloud3pm:\n",
      "Jumlah nilai null: 59358\n",
      "Total data: 145460\n",
      "Persentase missing value: 40.81%\n",
      "\n",
      "Kolom Temp9am:\n",
      "Jumlah nilai null: 1767\n",
      "Total data: 145460\n",
      "Persentase missing value: 1.21%\n",
      "\n",
      "Kolom Temp3pm:\n",
      "Jumlah nilai null: 3609\n",
      "Total data: 145460\n",
      "Persentase missing value: 2.48%\n",
      "\n",
      "Kolom RainToday:\n",
      "Jumlah nilai null: 3261\n",
      "Total data: 145460\n",
      "Persentase missing value: 2.24%\n",
      "\n",
      "Kolom RainTomorrow:\n",
      "Jumlah nilai null: 3267\n",
      "Total data: 145460\n",
      "Persentase missing value: 2.25%\n",
      "\n"
     ]
    }
   ],
   "source": [
    "for col in df.columns:\n",
    "    null_count = df[col].isnull().sum()\n",
    "    total_count = len(df[col])\n",
    "    perc_missing = (null_count / total_count) * 100\n",
    "    \n",
    "    print(f\"Kolom {col}:\")\n",
    "    print(f\"Jumlah nilai null: {null_count}\")\n",
    "    print(f\"Total data: {total_count}\")\n",
    "    print(f\"Persentase missing value: {perc_missing:.2f}%\\n\")"
   ]
  },
  {
   "cell_type": "markdown",
   "id": "c3f00eb8",
   "metadata": {},
   "source": [
    "## Pengecekan Data yang duplikat untuk semua kolom"
   ]
  },
  {
   "cell_type": "code",
   "execution_count": 9,
   "id": "352511e0",
   "metadata": {},
   "outputs": [
    {
     "data": {
      "text/html": [
       "<div>\n",
       "<style scoped>\n",
       "    .dataframe tbody tr th:only-of-type {\n",
       "        vertical-align: middle;\n",
       "    }\n",
       "\n",
       "    .dataframe tbody tr th {\n",
       "        vertical-align: top;\n",
       "    }\n",
       "\n",
       "    .dataframe thead th {\n",
       "        text-align: right;\n",
       "    }\n",
       "</style>\n",
       "<table border=\"1\" class=\"dataframe\">\n",
       "  <thead>\n",
       "    <tr style=\"text-align: right;\">\n",
       "      <th></th>\n",
       "      <th>Date</th>\n",
       "      <th>Location</th>\n",
       "      <th>MinTemp</th>\n",
       "      <th>MaxTemp</th>\n",
       "      <th>Rainfall</th>\n",
       "      <th>Evaporation</th>\n",
       "      <th>Sunshine</th>\n",
       "      <th>WindGustDir</th>\n",
       "      <th>WindGustSpeed</th>\n",
       "      <th>WindDir9am</th>\n",
       "      <th>WindDir3pm</th>\n",
       "      <th>WindSpeed9am</th>\n",
       "      <th>WindSpeed3pm</th>\n",
       "      <th>Humidity9am</th>\n",
       "      <th>Humidity3pm</th>\n",
       "      <th>Pressure9am</th>\n",
       "      <th>Pressure3pm</th>\n",
       "      <th>Cloud9am</th>\n",
       "      <th>Cloud3pm</th>\n",
       "      <th>Temp9am</th>\n",
       "      <th>Temp3pm</th>\n",
       "      <th>RainToday</th>\n",
       "      <th>RainTomorrow</th>\n",
       "    </tr>\n",
       "  </thead>\n",
       "  <tbody>\n",
       "  </tbody>\n",
       "</table>\n",
       "</div>"
      ],
      "text/plain": [
       "Empty DataFrame\n",
       "Columns: [Date, Location, MinTemp, MaxTemp, Rainfall, Evaporation, Sunshine, WindGustDir, WindGustSpeed, WindDir9am, WindDir3pm, WindSpeed9am, WindSpeed3pm, Humidity9am, Humidity3pm, Pressure9am, Pressure3pm, Cloud9am, Cloud3pm, Temp9am, Temp3pm, RainToday, RainTomorrow]\n",
       "Index: []"
      ]
     },
     "execution_count": 9,
     "metadata": {},
     "output_type": "execute_result"
    }
   ],
   "source": [
    "df[df.duplicated()]"
   ]
  },
  {
   "cell_type": "code",
   "execution_count": 10,
   "id": "4f1bfa8e",
   "metadata": {},
   "outputs": [
    {
     "data": {
      "text/plain": [
       "0"
      ]
     },
     "execution_count": 10,
     "metadata": {},
     "output_type": "execute_result"
    }
   ],
   "source": [
    "df.duplicated().sum()"
   ]
  },
  {
   "cell_type": "markdown",
   "id": "5691d85b",
   "metadata": {},
   "source": [
    "# Data Cleansing"
   ]
  },
  {
   "cell_type": "markdown",
   "id": "824aacf9",
   "metadata": {},
   "source": [
    "## Menghapus Kolom Missing Value Data diatas 30%"
   ]
  },
  {
   "cell_type": "markdown",
   "id": "9602929c",
   "metadata": {},
   "source": [
    "Dikarenakan banyak missing value, maka akan dilakukan penghitungan presentase dari missing value yang ada. Kita akan menghapus missing value yang ada jika data hilang diatas 30%"
   ]
  },
  {
   "cell_type": "markdown",
   "id": "9af75ca3",
   "metadata": {},
   "source": [
    "_kolom yang akan dihapus_\n",
    "\n",
    "Kolom Evaporation:\n",
    "Persentase missing value: 43.17%\n",
    "\n",
    "Kolom Sunshine:\n",
    "Persentase missing value: 48.01%\n",
    "    \n",
    "Kolom Cloud9am:\n",
    "Persentase missing value: 38.42%\n",
    "\n",
    "Kolom Cloud3pm:\n",
    "Persentase missing value: 40.81%"
   ]
  },
  {
   "cell_type": "code",
   "execution_count": 11,
   "id": "bc7784c9",
   "metadata": {},
   "outputs": [],
   "source": [
    "df.drop([\"Evaporation\",\"Sunshine\",\"Cloud9am\",\"Cloud3pm\"],axis=1, inplace=True)"
   ]
  },
  {
   "cell_type": "code",
   "execution_count": 12,
   "id": "6ca33492",
   "metadata": {},
   "outputs": [
    {
     "data": {
      "text/plain": [
       "array(['Date', 'Location', 'MinTemp', 'MaxTemp', 'Rainfall',\n",
       "       'WindGustDir', 'WindGustSpeed', 'WindDir9am', 'WindDir3pm',\n",
       "       'WindSpeed9am', 'WindSpeed3pm', 'Humidity9am', 'Humidity3pm',\n",
       "       'Pressure9am', 'Pressure3pm', 'Temp9am', 'Temp3pm', 'RainToday',\n",
       "       'RainTomorrow'], dtype=object)"
      ]
     },
     "execution_count": 12,
     "metadata": {},
     "output_type": "execute_result"
    }
   ],
   "source": [
    "df.columns.values"
   ]
  },
  {
   "cell_type": "markdown",
   "id": "9d8906b6",
   "metadata": {},
   "source": [
    "## Mengubah Format DataTime"
   ]
  },
  {
   "cell_type": "code",
   "execution_count": 13,
   "id": "2ebd2d83",
   "metadata": {},
   "outputs": [],
   "source": [
    "df[\"Date\"]= pd.to_datetime(df[\"Date\"])"
   ]
  },
  {
   "cell_type": "code",
   "execution_count": 14,
   "id": "86e2f001",
   "metadata": {},
   "outputs": [
    {
     "data": {
      "text/plain": [
       "0   2008-12-01\n",
       "1   2008-12-02\n",
       "2   2008-12-03\n",
       "3   2008-12-04\n",
       "4   2008-12-05\n",
       "Name: Date, dtype: datetime64[ns]"
      ]
     },
     "execution_count": 14,
     "metadata": {},
     "output_type": "execute_result"
    }
   ],
   "source": [
    "df[\"Date\"].head()"
   ]
  },
  {
   "cell_type": "markdown",
   "id": "42c92602",
   "metadata": {},
   "source": [
    "## Melakukan pengecekan ulang missing data"
   ]
  },
  {
   "cell_type": "code",
   "execution_count": 15,
   "id": "aff731e1",
   "metadata": {},
   "outputs": [
    {
     "data": {
      "text/plain": [
       "Date                 0\n",
       "Location             0\n",
       "MinTemp           1485\n",
       "MaxTemp           1261\n",
       "Rainfall          3261\n",
       "WindGustDir      10326\n",
       "WindGustSpeed    10263\n",
       "WindDir9am       10566\n",
       "WindDir3pm        4228\n",
       "WindSpeed9am      1767\n",
       "WindSpeed3pm      3062\n",
       "Humidity9am       2654\n",
       "Humidity3pm       4507\n",
       "Pressure9am      15065\n",
       "Pressure3pm      15028\n",
       "Temp9am           1767\n",
       "Temp3pm           3609\n",
       "RainToday         3261\n",
       "RainTomorrow      3267\n",
       "dtype: int64"
      ]
     },
     "execution_count": 15,
     "metadata": {},
     "output_type": "execute_result"
    }
   ],
   "source": [
    "df.isna().sum()"
   ]
  },
  {
   "cell_type": "markdown",
   "id": "c7564c44",
   "metadata": {},
   "source": [
    "## Normalisasi Dataset"
   ]
  },
  {
   "cell_type": "markdown",
   "id": "294328d2",
   "metadata": {},
   "source": [
    "### Menghilangkan missing value pada Target"
   ]
  },
  {
   "cell_type": "markdown",
   "id": "e48e3734",
   "metadata": {},
   "source": [
    "Menghilangkan missing value pada dataset, melakukan normalisasi pada dataset dengan cara melakukan dropping nilai null pada variabel target terlebih dahulu."
   ]
  },
  {
   "cell_type": "code",
   "execution_count": 16,
   "id": "dedc0ada",
   "metadata": {},
   "outputs": [
    {
     "data": {
      "text/html": [
       "<div>\n",
       "<style scoped>\n",
       "    .dataframe tbody tr th:only-of-type {\n",
       "        vertical-align: middle;\n",
       "    }\n",
       "\n",
       "    .dataframe tbody tr th {\n",
       "        vertical-align: top;\n",
       "    }\n",
       "\n",
       "    .dataframe thead th {\n",
       "        text-align: right;\n",
       "    }\n",
       "</style>\n",
       "<table border=\"1\" class=\"dataframe\">\n",
       "  <thead>\n",
       "    <tr style=\"text-align: right;\">\n",
       "      <th></th>\n",
       "      <th>Date</th>\n",
       "      <th>Location</th>\n",
       "      <th>MinTemp</th>\n",
       "      <th>MaxTemp</th>\n",
       "      <th>Rainfall</th>\n",
       "      <th>WindGustDir</th>\n",
       "      <th>WindGustSpeed</th>\n",
       "      <th>WindDir9am</th>\n",
       "      <th>WindDir3pm</th>\n",
       "      <th>WindSpeed9am</th>\n",
       "      <th>WindSpeed3pm</th>\n",
       "      <th>Humidity9am</th>\n",
       "      <th>Humidity3pm</th>\n",
       "      <th>Pressure9am</th>\n",
       "      <th>Pressure3pm</th>\n",
       "      <th>Temp9am</th>\n",
       "      <th>Temp3pm</th>\n",
       "      <th>RainToday</th>\n",
       "      <th>RainTomorrow</th>\n",
       "    </tr>\n",
       "  </thead>\n",
       "  <tbody>\n",
       "    <tr>\n",
       "      <th>0</th>\n",
       "      <td>2008-12-01</td>\n",
       "      <td>Albury</td>\n",
       "      <td>13.4</td>\n",
       "      <td>22.9</td>\n",
       "      <td>0.6</td>\n",
       "      <td>W</td>\n",
       "      <td>44.0</td>\n",
       "      <td>W</td>\n",
       "      <td>WNW</td>\n",
       "      <td>20.0</td>\n",
       "      <td>24.0</td>\n",
       "      <td>71.0</td>\n",
       "      <td>22.0</td>\n",
       "      <td>1007.7</td>\n",
       "      <td>1007.1</td>\n",
       "      <td>16.9</td>\n",
       "      <td>21.8</td>\n",
       "      <td>No</td>\n",
       "      <td>No</td>\n",
       "    </tr>\n",
       "    <tr>\n",
       "      <th>1</th>\n",
       "      <td>2008-12-02</td>\n",
       "      <td>Albury</td>\n",
       "      <td>7.4</td>\n",
       "      <td>25.1</td>\n",
       "      <td>0.0</td>\n",
       "      <td>WNW</td>\n",
       "      <td>44.0</td>\n",
       "      <td>NNW</td>\n",
       "      <td>WSW</td>\n",
       "      <td>4.0</td>\n",
       "      <td>22.0</td>\n",
       "      <td>44.0</td>\n",
       "      <td>25.0</td>\n",
       "      <td>1010.6</td>\n",
       "      <td>1007.8</td>\n",
       "      <td>17.2</td>\n",
       "      <td>24.3</td>\n",
       "      <td>No</td>\n",
       "      <td>No</td>\n",
       "    </tr>\n",
       "    <tr>\n",
       "      <th>2</th>\n",
       "      <td>2008-12-03</td>\n",
       "      <td>Albury</td>\n",
       "      <td>12.9</td>\n",
       "      <td>25.7</td>\n",
       "      <td>0.0</td>\n",
       "      <td>WSW</td>\n",
       "      <td>46.0</td>\n",
       "      <td>W</td>\n",
       "      <td>WSW</td>\n",
       "      <td>19.0</td>\n",
       "      <td>26.0</td>\n",
       "      <td>38.0</td>\n",
       "      <td>30.0</td>\n",
       "      <td>1007.6</td>\n",
       "      <td>1008.7</td>\n",
       "      <td>21.0</td>\n",
       "      <td>23.2</td>\n",
       "      <td>No</td>\n",
       "      <td>No</td>\n",
       "    </tr>\n",
       "    <tr>\n",
       "      <th>3</th>\n",
       "      <td>2008-12-04</td>\n",
       "      <td>Albury</td>\n",
       "      <td>9.2</td>\n",
       "      <td>28.0</td>\n",
       "      <td>0.0</td>\n",
       "      <td>NE</td>\n",
       "      <td>24.0</td>\n",
       "      <td>SE</td>\n",
       "      <td>E</td>\n",
       "      <td>11.0</td>\n",
       "      <td>9.0</td>\n",
       "      <td>45.0</td>\n",
       "      <td>16.0</td>\n",
       "      <td>1017.6</td>\n",
       "      <td>1012.8</td>\n",
       "      <td>18.1</td>\n",
       "      <td>26.5</td>\n",
       "      <td>No</td>\n",
       "      <td>No</td>\n",
       "    </tr>\n",
       "    <tr>\n",
       "      <th>4</th>\n",
       "      <td>2008-12-05</td>\n",
       "      <td>Albury</td>\n",
       "      <td>17.5</td>\n",
       "      <td>32.3</td>\n",
       "      <td>1.0</td>\n",
       "      <td>W</td>\n",
       "      <td>41.0</td>\n",
       "      <td>ENE</td>\n",
       "      <td>NW</td>\n",
       "      <td>7.0</td>\n",
       "      <td>20.0</td>\n",
       "      <td>82.0</td>\n",
       "      <td>33.0</td>\n",
       "      <td>1010.8</td>\n",
       "      <td>1006.0</td>\n",
       "      <td>17.8</td>\n",
       "      <td>29.7</td>\n",
       "      <td>No</td>\n",
       "      <td>No</td>\n",
       "    </tr>\n",
       "  </tbody>\n",
       "</table>\n",
       "</div>"
      ],
      "text/plain": [
       "        Date Location  MinTemp  MaxTemp  Rainfall WindGustDir  WindGustSpeed  \\\n",
       "0 2008-12-01   Albury     13.4     22.9       0.6           W           44.0   \n",
       "1 2008-12-02   Albury      7.4     25.1       0.0         WNW           44.0   \n",
       "2 2008-12-03   Albury     12.9     25.7       0.0         WSW           46.0   \n",
       "3 2008-12-04   Albury      9.2     28.0       0.0          NE           24.0   \n",
       "4 2008-12-05   Albury     17.5     32.3       1.0           W           41.0   \n",
       "\n",
       "  WindDir9am WindDir3pm  WindSpeed9am  WindSpeed3pm  Humidity9am  Humidity3pm  \\\n",
       "0          W        WNW          20.0          24.0         71.0         22.0   \n",
       "1        NNW        WSW           4.0          22.0         44.0         25.0   \n",
       "2          W        WSW          19.0          26.0         38.0         30.0   \n",
       "3         SE          E          11.0           9.0         45.0         16.0   \n",
       "4        ENE         NW           7.0          20.0         82.0         33.0   \n",
       "\n",
       "   Pressure9am  Pressure3pm  Temp9am  Temp3pm RainToday RainTomorrow  \n",
       "0       1007.7       1007.1     16.9     21.8        No           No  \n",
       "1       1010.6       1007.8     17.2     24.3        No           No  \n",
       "2       1007.6       1008.7     21.0     23.2        No           No  \n",
       "3       1017.6       1012.8     18.1     26.5        No           No  \n",
       "4       1010.8       1006.0     17.8     29.7        No           No  "
      ]
     },
     "execution_count": 16,
     "metadata": {},
     "output_type": "execute_result"
    }
   ],
   "source": [
    "df = df[df['RainTomorrow'].notna()] \n",
    "df.head()"
   ]
  },
  {
   "cell_type": "markdown",
   "id": "57eafdcf",
   "metadata": {},
   "source": [
    "### Mengisi Missing Value untuk Tipe data Kategori/Objec"
   ]
  },
  {
   "cell_type": "markdown",
   "id": "ebee7cbd",
   "metadata": {},
   "source": [
    "Selanjutnya melakukan pengelompokkan category variable data dan melakukan pengisian nilai"
   ]
  },
  {
   "cell_type": "code",
   "execution_count": 17,
   "id": "2c1b9d0b",
   "metadata": {},
   "outputs": [
    {
     "name": "stdout",
     "output_type": "stream",
     "text": [
      "Ada 6 variabel kategori \n",
      "\n",
      "Category Variables : ['Location', 'WindGustDir', 'WindDir9am', 'WindDir3pm', 'RainToday', 'RainTomorrow']\n"
     ]
    }
   ],
   "source": [
    "# mencari tipe data object/ categoty\n",
    "\n",
    "category = [var for var in df.columns if df[var].dtype=='O']\n",
    "\n",
    "print('Ada {} variabel kategori \\n'.format(len(category)))\n",
    "\n",
    "print('Category Variables :', category)"
   ]
  },
  {
   "cell_type": "markdown",
   "id": "9b44030e",
   "metadata": {},
   "source": [
    "Setelah mendapatkan kategori, mari kita isi missing valuenya dengan mode untuk tipe data kategori"
   ]
  },
  {
   "cell_type": "code",
   "execution_count": 18,
   "id": "aa6a1d0b",
   "metadata": {},
   "outputs": [
    {
     "data": {
      "text/html": [
       "<div>\n",
       "<style scoped>\n",
       "    .dataframe tbody tr th:only-of-type {\n",
       "        vertical-align: middle;\n",
       "    }\n",
       "\n",
       "    .dataframe tbody tr th {\n",
       "        vertical-align: top;\n",
       "    }\n",
       "\n",
       "    .dataframe thead th {\n",
       "        text-align: right;\n",
       "    }\n",
       "</style>\n",
       "<table border=\"1\" class=\"dataframe\">\n",
       "  <thead>\n",
       "    <tr style=\"text-align: right;\">\n",
       "      <th></th>\n",
       "      <th>Location</th>\n",
       "      <th>WindGustDir</th>\n",
       "      <th>WindDir9am</th>\n",
       "      <th>WindDir3pm</th>\n",
       "      <th>RainToday</th>\n",
       "      <th>RainTomorrow</th>\n",
       "    </tr>\n",
       "  </thead>\n",
       "  <tbody>\n",
       "    <tr>\n",
       "      <th>0</th>\n",
       "      <td>Albury</td>\n",
       "      <td>W</td>\n",
       "      <td>W</td>\n",
       "      <td>WNW</td>\n",
       "      <td>No</td>\n",
       "      <td>No</td>\n",
       "    </tr>\n",
       "    <tr>\n",
       "      <th>1</th>\n",
       "      <td>Albury</td>\n",
       "      <td>WNW</td>\n",
       "      <td>NNW</td>\n",
       "      <td>WSW</td>\n",
       "      <td>No</td>\n",
       "      <td>No</td>\n",
       "    </tr>\n",
       "    <tr>\n",
       "      <th>2</th>\n",
       "      <td>Albury</td>\n",
       "      <td>WSW</td>\n",
       "      <td>W</td>\n",
       "      <td>WSW</td>\n",
       "      <td>No</td>\n",
       "      <td>No</td>\n",
       "    </tr>\n",
       "    <tr>\n",
       "      <th>3</th>\n",
       "      <td>Albury</td>\n",
       "      <td>NE</td>\n",
       "      <td>SE</td>\n",
       "      <td>E</td>\n",
       "      <td>No</td>\n",
       "      <td>No</td>\n",
       "    </tr>\n",
       "    <tr>\n",
       "      <th>4</th>\n",
       "      <td>Albury</td>\n",
       "      <td>W</td>\n",
       "      <td>ENE</td>\n",
       "      <td>NW</td>\n",
       "      <td>No</td>\n",
       "      <td>No</td>\n",
       "    </tr>\n",
       "  </tbody>\n",
       "</table>\n",
       "</div>"
      ],
      "text/plain": [
       "  Location WindGustDir WindDir9am WindDir3pm RainToday RainTomorrow\n",
       "0   Albury           W          W        WNW        No           No\n",
       "1   Albury         WNW        NNW        WSW        No           No\n",
       "2   Albury         WSW          W        WSW        No           No\n",
       "3   Albury          NE         SE          E        No           No\n",
       "4   Albury           W        ENE         NW        No           No"
      ]
     },
     "execution_count": 18,
     "metadata": {},
     "output_type": "execute_result"
    }
   ],
   "source": [
    "df[category].head()"
   ]
  },
  {
   "cell_type": "code",
   "execution_count": 19,
   "id": "a997ce93",
   "metadata": {},
   "outputs": [],
   "source": [
    "#mengganti missing value yang ada dengan mode\n",
    "df['WindGustDir'].fillna(df['WindGustDir'].mode()[0], inplace=True)\n",
    "df['WindDir9am'].fillna(df['WindDir9am'].mode()[0], inplace=True)\n",
    "df['WindDir3pm'].fillna(df['WindDir3pm'].mode()[0], inplace=True)\n",
    "df['RainToday'].fillna(df['RainToday'].mode()[0], inplace=True)"
   ]
  },
  {
   "cell_type": "markdown",
   "id": "ad1ad34c",
   "metadata": {},
   "source": [
    "Mari kita cek missing value untuk kolom diatas"
   ]
  },
  {
   "cell_type": "code",
   "execution_count": 20,
   "id": "e844eb5a",
   "metadata": {},
   "outputs": [
    {
     "data": {
      "text/plain": [
       "Date                 0\n",
       "Location             0\n",
       "MinTemp            637\n",
       "MaxTemp            322\n",
       "Rainfall          1406\n",
       "WindGustDir          0\n",
       "WindGustSpeed     9270\n",
       "WindDir9am           0\n",
       "WindDir3pm           0\n",
       "WindSpeed9am      1348\n",
       "WindSpeed3pm      2630\n",
       "Humidity9am       1774\n",
       "Humidity3pm       3610\n",
       "Pressure9am      14014\n",
       "Pressure3pm      13981\n",
       "Temp9am            904\n",
       "Temp3pm           2726\n",
       "RainToday            0\n",
       "RainTomorrow         0\n",
       "dtype: int64"
      ]
     },
     "execution_count": 20,
     "metadata": {},
     "output_type": "execute_result"
    }
   ],
   "source": [
    "df.isnull().sum()"
   ]
  },
  {
   "cell_type": "markdown",
   "id": "ca8d2d11",
   "metadata": {},
   "source": [
    "Bisa kita lihat untuk Missing value data yang bertipe pbject/kategorial sudah terisi"
   ]
  },
  {
   "cell_type": "markdown",
   "id": "8ee966f5",
   "metadata": {},
   "source": [
    "### Mengisi Missing Value untuk Kolom Numerik"
   ]
  },
  {
   "cell_type": "markdown",
   "id": "da427548",
   "metadata": {},
   "source": [
    "Selanjutnya melakukan pengelompokkan numerik data dan pengisian nilai"
   ]
  },
  {
   "cell_type": "code",
   "execution_count": 21,
   "id": "102dee2c",
   "metadata": {},
   "outputs": [
    {
     "name": "stdout",
     "output_type": "stream",
     "text": [
      "Ada 13 Tipe data numerik \n",
      "\n",
      "categorical numerik : ['Date', 'MinTemp', 'MaxTemp', 'Rainfall', 'WindGustSpeed', 'WindSpeed9am', 'WindSpeed3pm', 'Humidity9am', 'Humidity3pm', 'Pressure9am', 'Pressure3pm', 'Temp9am', 'Temp3pm']\n"
     ]
    }
   ],
   "source": [
    "# Mencari numerik\n",
    "\n",
    "numerik = [var for var in df.columns if df[var].dtype!='O']\n",
    "\n",
    "print('Ada {} Tipe data numerik \\n'.format(len(numerik)))\n",
    "\n",
    "print('categorical numerik :', numerik)"
   ]
  },
  {
   "cell_type": "markdown",
   "id": "16b7d45b",
   "metadata": {},
   "source": [
    "Setelah kita mendapatkan tipe data numerik, mari kita cek minssing valuenya ulang"
   ]
  },
  {
   "cell_type": "code",
   "execution_count": 22,
   "id": "468c73f6",
   "metadata": {},
   "outputs": [
    {
     "data": {
      "text/plain": [
       "Date                 0\n",
       "Location             0\n",
       "MinTemp            637\n",
       "MaxTemp            322\n",
       "Rainfall          1406\n",
       "WindGustDir          0\n",
       "WindGustSpeed     9270\n",
       "WindDir9am           0\n",
       "WindDir3pm           0\n",
       "WindSpeed9am      1348\n",
       "WindSpeed3pm      2630\n",
       "Humidity9am       1774\n",
       "Humidity3pm       3610\n",
       "Pressure9am      14014\n",
       "Pressure3pm      13981\n",
       "Temp9am            904\n",
       "Temp3pm           2726\n",
       "RainToday            0\n",
       "RainTomorrow         0\n",
       "dtype: int64"
      ]
     },
     "execution_count": 22,
     "metadata": {},
     "output_type": "execute_result"
    }
   ],
   "source": [
    "df.isna().sum()"
   ]
  },
  {
   "cell_type": "markdown",
   "id": "566e6266",
   "metadata": {},
   "source": [
    "Sekarang mari kita isi mising value yanga ada dengan nilai Rata Rata"
   ]
  },
  {
   "cell_type": "code",
   "execution_count": 23,
   "id": "1dc574d6",
   "metadata": {},
   "outputs": [],
   "source": [
    "df[\"MinTemp\"]=df[\"MinTemp\"].fillna(df[\"MinTemp\"].mean())\n",
    "df[\"MaxTemp\"]=df[\"MaxTemp\"].fillna(df[\"MaxTemp\"].mean())\n",
    "df[\"Rainfall\"]=df[\"Rainfall\"].fillna(df[\"Rainfall\"].mean())\n",
    "df[\"WindGustSpeed\"]=df[\"WindGustSpeed\"].fillna(df[\"WindGustSpeed\"].mean())\n",
    "df[\"WindSpeed9am\"]=df[\"WindSpeed9am\"].fillna(df[\"WindSpeed9am\"].mean())\n",
    "df[\"WindSpeed3pm\"]=df[\"WindSpeed3pm\"].fillna(df[\"WindSpeed3pm\"].mean())\n",
    "df[\"Humidity9am\"]=df[\"Humidity9am\"].fillna(df[\"Humidity9am\"].mean())\n",
    "df[\"Humidity3pm\"]=df[\"Humidity3pm\"].fillna(df[\"Humidity3pm\"].mean())\n",
    "df[\"Pressure9am\"]=df[\"Pressure9am\"].fillna(df[\"Pressure9am\"].mean())\n",
    "df[\"Pressure3pm\"]=df[\"Pressure3pm\"].fillna(df[\"Pressure3pm\"].mean())\n",
    "df[\"Temp9am\"]=df[\"Temp9am\"].fillna(df[\"Temp9am\"].mean())\n",
    "df[\"Temp3pm\"]=df[\"Temp3pm\"].fillna(df[\"Temp3pm\"].mean())"
   ]
  },
  {
   "cell_type": "markdown",
   "id": "7d0896fb",
   "metadata": {},
   "source": [
    "Setelah mengisi dengan miissing Value, mari kita cek missing valuenya"
   ]
  },
  {
   "cell_type": "code",
   "execution_count": 24,
   "id": "407ea924",
   "metadata": {},
   "outputs": [
    {
     "data": {
      "text/plain": [
       "Date             0\n",
       "Location         0\n",
       "MinTemp          0\n",
       "MaxTemp          0\n",
       "Rainfall         0\n",
       "WindGustDir      0\n",
       "WindGustSpeed    0\n",
       "WindDir9am       0\n",
       "WindDir3pm       0\n",
       "WindSpeed9am     0\n",
       "WindSpeed3pm     0\n",
       "Humidity9am      0\n",
       "Humidity3pm      0\n",
       "Pressure9am      0\n",
       "Pressure3pm      0\n",
       "Temp9am          0\n",
       "Temp3pm          0\n",
       "RainToday        0\n",
       "RainTomorrow     0\n",
       "dtype: int64"
      ]
     },
     "execution_count": 24,
     "metadata": {},
     "output_type": "execute_result"
    }
   ],
   "source": [
    "df.isna().sum()"
   ]
  },
  {
   "cell_type": "markdown",
   "id": "e213a52a",
   "metadata": {},
   "source": [
    "# Explorasi data Analist"
   ]
  },
  {
   "cell_type": "markdown",
   "id": "48113511",
   "metadata": {},
   "source": [
    "## Target : RainTomorrow"
   ]
  },
  {
   "cell_type": "markdown",
   "id": "790b2beb",
   "metadata": {},
   "source": [
    "Sekarang kita akan melihat nilai YES dan NO pada kolom RainTomorrow menggunakan BarChart"
   ]
  },
  {
   "cell_type": "code",
   "execution_count": 25,
   "id": "8b2bca3f",
   "metadata": {},
   "outputs": [
    {
     "name": "stdout",
     "output_type": "stream",
     "text": [
      "No     110316\n",
      "Yes     31877\n",
      "Name: RainTomorrow, dtype: int64\n"
     ]
    },
    {
     "data": {
      "image/png": "[encoded data removed]",
      "text/plain": [
       "<Figure size 432x288 with 1 Axes>"
      ]
     },
     "metadata": {
      "needs_background": "light"
     },
     "output_type": "display_data"
    }
   ],
   "source": [
    "df[\"RainTomorrow\"].value_counts().plot(kind=\"bar\")\n",
    "plt.title(\" Perbandingan YES dan NO pada RainTomorrow\")\n",
    "plt.xlabel(\" Indikator YES dan NO \")\n",
    "plt.ylabel(\" Jumlah \")\n",
    "print(df[\"RainTomorrow\"].value_counts())"
   ]
  },
  {
   "cell_type": "markdown",
   "id": "a0fb8c2d",
   "metadata": {},
   "source": [
    "_Keterangan_\n",
    "\n",
    "BarChart diatas menunjukan hasil perbandingan nilai YES dan NO pada kolom RainTomorrow"
   ]
  },
  {
   "cell_type": "markdown",
   "id": "a96b006f",
   "metadata": {},
   "source": [
    "### Kesimpulan dari analisis Target RainTomorrow"
   ]
  },
  {
   "cell_type": "markdown",
   "id": "2eab5e15",
   "metadata": {},
   "source": [
    "_Kesimpulan_\n",
    "\n",
    "Hasil dari BarChart diatas menunjukkan, Hasil \"NO\" ada pada angka 110.316 dan \"YES\" ada pada angka 31.877. Dari hasil BarChart diatas menunjukan bahwa jumlah hasil prediksi \"NO\" menghasilkan angka yang sangat tinggi sekali.Hasil ini membuktikan bahwa hasil nilai\"NO\" lebih mendominasi dari pada nilai \"YES\" dan jumlah selisihnya sangat jauh. Hasil Dari \"YES\" dan \"NO\" ini harus dilakukan balancing data. Jikalau tidak dilakukan _Balancing_ data, Model akan cenderung memprediksi kelas mayoritas karena data mayoritas memiliki lebih banyak sampel daripada data minoritas."
   ]
  },
  {
   "cell_type": "markdown",
   "id": "f644727c",
   "metadata": {},
   "source": [
    "## Lokasi dengan RainTomorrow"
   ]
  },
  {
   "cell_type": "markdown",
   "id": "f2281c32",
   "metadata": {},
   "source": [
    "### Analsis berdasarkan Kota"
   ]
  },
  {
   "cell_type": "markdown",
   "id": "c2fd3472",
   "metadata": {},
   "source": [
    "Kita akan melihat perbandingan Yes dan No pada Setiap Lokasi yang ada"
   ]
  },
  {
   "cell_type": "code",
   "execution_count": 26,
   "id": "63270188",
   "metadata": {},
   "outputs": [
    {
     "data": {
      "image/png": "[encoded data removed]",
      "text/plain": [
       "<Figure size 1440x432 with 1 Axes>"
      ]
     },
     "metadata": {
      "needs_background": "light"
     },
     "output_type": "display_data"
    }
   ],
   "source": [
    "# Hitung jumlah kejadian \"RainTomorrow\" yang sama dengan \"Yes\" untuk setiap lokasi\n",
    "df_rain_tomorrow_yes = df.loc[df['RainTomorrow']=='Yes'].groupby('Location')['RainTomorrow'].count().reset_index(name='Yes')\n",
    "df_rain_tomorrow_yes = df_rain_tomorrow_yes.sort_values(by='Yes', ascending=False)\n",
    "\n",
    "df_rain_tomorrow_no = df.loc[df[\"RainTomorrow\"]==\"No\"].groupby(\"Location\")[\"RainTomorrow\"].value_counts().reset_index(name=\"No\")\n",
    "df_rain_tomorrow_no = df_rain_tomorrow_no.sort_values(by=\"No\", ascending=False)\n",
    "\n",
    "# Buat figure dengan ukuran 10 x 6 inci\n",
    "fig, ax = plt.subplots(figsize=(20, 6))\n",
    "\n",
    "\n",
    "# Buat line chart untuk jumlah No\n",
    "ax.bar(df_rain_tomorrow_no['Location'], df_rain_tomorrow_no['No'], label='No')\n",
    "\n",
    "# Buat line chart untuk jumlah Yes\n",
    "ax.bar(df_rain_tomorrow_yes['Location'], df_rain_tomorrow_yes['Yes'], label='Yes',color='red')\n",
    "\n",
    "\n",
    "\n",
    "# Atur judul, label sumbu-x dan sumbu-y\n",
    "ax.set_title('Line Chart Menunjukkan Jumlah RainTomorrow Yes dan No pada Tiap Lokasi')\n",
    "ax.set_xlabel('Nama Kota')\n",
    "ax.set_ylabel('Jumlah')\n",
    "\n",
    "# Atur label untuk setiap line chart\n",
    "ax.legend()\n",
    "\n",
    "# Putar label sumbu-x supaya mudah dibaca\n",
    "plt.xticks(rotation=90)\n",
    "\n",
    "# Tampilkan plot\n",
    "plt.show()\n"
   ]
  },
  {
   "cell_type": "markdown",
   "id": "9108b93a",
   "metadata": {},
   "source": [
    "_Keterangan_ :\n",
    "\n",
    "Bar diatas menunjukan jumlah \"YES\" dan \"NO\" untuk setiap daerah nya"
   ]
  },
  {
   "cell_type": "markdown",
   "id": "b333452b",
   "metadata": {},
   "source": [
    "Kita lihat yang lokasi kotanya bernilai YES saja"
   ]
  },
  {
   "cell_type": "code",
   "execution_count": 27,
   "id": "47c1002e",
   "metadata": {},
   "outputs": [
    {
     "name": "stdout",
     "output_type": "stream",
     "text": [
      " Top 5 YES \n",
      "        Location   Yes\n",
      "33      Portland  1095\n",
      "8         Cairns   950\n",
      "43       Walpole   949\n",
      "12      Dartmoor   922\n",
      "22  MountGambier   920\n"
     ]
    },
    {
     "data": {
      "image/png": "[encoded data removed]",
      "text/plain": [
       "<Figure size 1440x432 with 1 Axes>"
      ]
     },
     "metadata": {
      "needs_background": "light"
     },
     "output_type": "display_data"
    }
   ],
   "source": [
    "# Buat figure dengan ukuran 10 x 6 inci\n",
    "fig, ax = plt.subplots(figsize=(20, 6))\n",
    "\n",
    "# Buat line chart untuk jumlah Yes\n",
    "ax.bar(df_rain_tomorrow_yes['Location'], df_rain_tomorrow_yes['Yes'], label='Yes',color='red')\n",
    "\n",
    "\n",
    "\n",
    "# Atur judul, label sumbu-x dan sumbu-y\n",
    "ax.set_title('Line Chart Menunjukkan Jumlah RainTomorrow Yes dan No pada Tiap Lokasi')\n",
    "ax.set_xlabel('Nama Kota')\n",
    "ax.set_ylabel('Jumlah')\n",
    "\n",
    "# Atur label untuk setiap line chart\n",
    "ax.legend()\n",
    "\n",
    "# Putar label sumbu-x supaya mudah dibaca\n",
    "plt.xticks(rotation=90)\n",
    "\n",
    "print(\" Top 5 YES \")\n",
    "print(df_rain_tomorrow_yes.head())\n",
    "plt.show()"
   ]
  },
  {
   "cell_type": "markdown",
   "id": "ffa9576c",
   "metadata": {},
   "source": [
    "_Keterangan_ :\n",
    "\n",
    "Bar diatas menunjukan jumlah \"YES\" untuk setiap daerah nya"
   ]
  },
  {
   "cell_type": "markdown",
   "id": "0bdaea9f",
   "metadata": {},
   "source": [
    "Kita lihat yang lokasi kotanya bernilai No saja"
   ]
  },
  {
   "cell_type": "code",
   "execution_count": 28,
   "id": "ac7bdb89",
   "metadata": {},
   "outputs": [
    {
     "name": "stdout",
     "output_type": "stream",
     "text": [
      " Top 5 NO \n",
      "        Location RainTomorrow    No\n",
      "9       Canberra           No  2789\n",
      "48       Woomera           No  2788\n",
      "3   AliceSprings           No  2787\n",
      "20       Mildura           No  2680\n",
      "10         Cobar           No  2602\n"
     ]
    },
    {
     "data": {
      "image/png": "[encoded data removed]",
      "text/plain": [
       "<Figure size 1440x432 with 1 Axes>"
      ]
     },
     "metadata": {
      "needs_background": "light"
     },
     "output_type": "display_data"
    }
   ],
   "source": [
    "# Buat figure dengan ukuran 10 x 6 inci\n",
    "fig, ax = plt.subplots(figsize=(20, 6))\n",
    "\n",
    "# Buat line chart untuk jumlah Yes\n",
    "ax.bar(df_rain_tomorrow_no['Location'], df_rain_tomorrow_no['No'], label='No',color='blue')\n",
    "\n",
    "\n",
    "\n",
    "# Atur judul, label sumbu-x dan sumbu-y\n",
    "ax.set_title('Line Chart Menunjukkan Jumlah RainTomorrow Yes dan No pada Tiap Lokasi')\n",
    "ax.set_xlabel('Nama Kota')\n",
    "ax.set_ylabel('Jumlah')\n",
    "\n",
    "# Atur label untuk setiap line chart\n",
    "ax.legend()\n",
    "\n",
    "# Putar label sumbu-x supaya mudah dibaca\n",
    "plt.xticks(rotation=90)\n",
    "\n",
    "print(\" Top 5 NO \")\n",
    "print(df_rain_tomorrow_no.head())\n",
    "plt.show()"
   ]
  },
  {
   "cell_type": "markdown",
   "id": "8f7815ce",
   "metadata": {},
   "source": [
    "_Keterangan_ :\n",
    "\n",
    "Bar diatas menunjukan jumlah \"NO\" untuk setiap daerah nya"
   ]
  },
  {
   "cell_type": "markdown",
   "id": "895ddba4",
   "metadata": {},
   "source": [
    "#### Kesimpulan Analisis berdasarkan kota"
   ]
  },
  {
   "cell_type": "markdown",
   "id": "619543a1",
   "metadata": {},
   "source": [
    "Hasil dari kesimpulan yang ada, setiap kota mempunyai nilai prediktor RainTomorrow \"YES\" dan \"NO\" yang berbeda-beda. Hasil dari data yang ada, kota kota nya berbeda antara bernilai Yes dan No. Hal ini menunjukkan bahwa kota dapat mempengaruhi hasil prediksi pada RainTomorrow"
   ]
  },
  {
   "cell_type": "markdown",
   "id": "068edb7c",
   "metadata": {},
   "source": [
    "### Analsis berdasarkan daerah"
   ]
  },
  {
   "cell_type": "markdown",
   "id": "8c45f9da",
   "metadata": {},
   "source": [
    "Sekarang kita akan membandingkan berdasarkan daerah. Berikut List daerahnya\n",
    "\n",
    "**New South Wales**:\n",
    "\n",
    ">Albury, Badgerys Creek, Cobar, CoffsHarbour, Newcastle, Norah Head, Penrith, Richmond, Sydney, SydneyAirport, WaggaWagga, Williamtown, Wollongong.\n",
    "\n",
    "**Australian Capital Territory**: \n",
    "> Canberra, Tuggeranong\n",
    "\n",
    "**Victoria**:\n",
    ">Ballarat, Bendigo, Sale, MelbourneAirport, Melbourne, Mildura, Nhil, Portland, Watsonia, Dartmoor\n",
    "\n",
    "**Queensland**:\n",
    ">Brisbane, Cairns, GoldCoast, Townsville\n",
    "\n",
    "**South Australia**:\n",
    ">Adelaide, MountGambier, Nuriootpa, Woomera.\n",
    "\n",
    "**Western Australia**:\n",
    ">Albany, Witchcliffe, PearceRAAF, PerthAirport, Perth, SalmonGums, Walpole\n",
    "\n",
    "**Tasmania**:\n",
    ">Hobart, Launceston\n",
    "\n",
    "**Northern Territory**:\n",
    ">AliceSprings, Darwin, Katherine, Uluru"
   ]
  },
  {
   "cell_type": "markdown",
   "id": "e161f84c",
   "metadata": {},
   "source": [
    "Sekarang mari kita buat kolom barunya"
   ]
  },
  {
   "cell_type": "code",
   "execution_count": 29,
   "id": "de98afe2",
   "metadata": {},
   "outputs": [
    {
     "data": {
      "text/html": [
       "<div>\n",
       "<style scoped>\n",
       "    .dataframe tbody tr th:only-of-type {\n",
       "        vertical-align: middle;\n",
       "    }\n",
       "\n",
       "    .dataframe tbody tr th {\n",
       "        vertical-align: top;\n",
       "    }\n",
       "\n",
       "    .dataframe thead th {\n",
       "        text-align: right;\n",
       "    }\n",
       "</style>\n",
       "<table border=\"1\" class=\"dataframe\">\n",
       "  <thead>\n",
       "    <tr style=\"text-align: right;\">\n",
       "      <th></th>\n",
       "      <th>Location</th>\n",
       "      <th>RainTomorrow</th>\n",
       "    </tr>\n",
       "  </thead>\n",
       "  <tbody>\n",
       "    <tr>\n",
       "      <th>0</th>\n",
       "      <td>Albury</td>\n",
       "      <td>No</td>\n",
       "    </tr>\n",
       "    <tr>\n",
       "      <th>1</th>\n",
       "      <td>Albury</td>\n",
       "      <td>No</td>\n",
       "    </tr>\n",
       "    <tr>\n",
       "      <th>2</th>\n",
       "      <td>Albury</td>\n",
       "      <td>No</td>\n",
       "    </tr>\n",
       "    <tr>\n",
       "      <th>3</th>\n",
       "      <td>Albury</td>\n",
       "      <td>No</td>\n",
       "    </tr>\n",
       "    <tr>\n",
       "      <th>4</th>\n",
       "      <td>Albury</td>\n",
       "      <td>No</td>\n",
       "    </tr>\n",
       "  </tbody>\n",
       "</table>\n",
       "</div>"
      ],
      "text/plain": [
       "  Location RainTomorrow\n",
       "0   Albury           No\n",
       "1   Albury           No\n",
       "2   Albury           No\n",
       "3   Albury           No\n",
       "4   Albury           No"
      ]
     },
     "execution_count": 29,
     "metadata": {},
     "output_type": "execute_result"
    }
   ],
   "source": [
    "df_provinsi=df.loc[:,[\"Location\",\"RainTomorrow\"]]\n",
    "df_provinsi.head()"
   ]
  },
  {
   "cell_type": "code",
   "execution_count": 30,
   "id": "049ca0ac",
   "metadata": {},
   "outputs": [
    {
     "data": {
      "text/plain": [
       "RainTomorrow\n",
       "No     25329\n",
       "Yes     7347\n",
       "dtype: int64"
      ]
     },
     "execution_count": 30,
     "metadata": {},
     "output_type": "execute_result"
    },
    {
     "data": {
      "image/png": "[encoded data removed]",
      "text/plain": [
       "<Figure size 432x288 with 1 Axes>"
      ]
     },
     "metadata": {
      "needs_background": "light"
     },
     "output_type": "display_data"
    }
   ],
   "source": [
    "# Filter data untuk New_South_Wales\n",
    "df_New_South_Wales = df_provinsi.loc[(df_provinsi['Location'] == 'Albury') | (df_provinsi['Location'] == 'Badgerys Creek') \n",
    "                                     | (df_provinsi['Location'] == 'Cobar')| (df_provinsi['Location'] == 'CoffsHarbour')\n",
    "                                     | (df_provinsi['Location'] == 'Newcastle')| (df_provinsi['Location'] == 'Norah Head')\n",
    "                                     | (df_provinsi['Location'] == 'Penrith')| (df_provinsi['Location'] == 'Richmond')\n",
    "                                     | (df_provinsi['Location'] == 'Sydney')| (df_provinsi['Location'] == 'SydneyAirport')\n",
    "                                     | (df_provinsi['Location'] == 'WaggaWagga')| (df_provinsi['Location'] == 'Williamtown')\n",
    "                                     | (df_provinsi['Location'] == 'Wollongong')]\n",
    "\n",
    "# Buat tabel pivot\n",
    "df_pivot_New_South_Wales = df_New_South_Wales.pivot_table(index='Location', columns='RainTomorrow', aggfunc='size', fill_value=0)\n",
    "\n",
    "# Tampilkan tabel pivot\n",
    "a = df_pivot_New_South_Wales.sum()\n",
    "df_pivot_New_South_Wales.sum().plot(kind='bar')\n",
    "plt.title(\"RainTomorrow Daerah New South Wales\")\n",
    "a"
   ]
  },
  {
   "cell_type": "markdown",
   "id": "4b235e63",
   "metadata": {},
   "source": [
    "_keterangan_:\n",
    "\n",
    "Grafik yang menunjukkan RainTomorrow dari Daerah New South Wales"
   ]
  },
  {
   "cell_type": "code",
   "execution_count": 31,
   "id": "bc28d60b",
   "metadata": {},
   "outputs": [
    {
     "data": {
      "text/plain": [
       "RainTomorrow\n",
       "No     5219\n",
       "Yes    1197\n",
       "dtype: int64"
      ]
     },
     "execution_count": 31,
     "metadata": {},
     "output_type": "execute_result"
    },
    {
     "data": {
      "image/png": "[encoded data removed]",
      "text/plain": [
       "<Figure size 432x288 with 1 Axes>"
      ]
     },
     "metadata": {
      "needs_background": "light"
     },
     "output_type": "display_data"
    }
   ],
   "source": [
    "# Filter data untuk \n",
    "df_Australian_Capital_Territory = df_provinsi.loc[(df_provinsi['Location'] == 'Canberra') | (df_provinsi['Location'] == 'Tuggeranong')]\n",
    "\n",
    "# Buat tabel pivot\n",
    "df_pivot_Australian_Capital_Territory = df_Australian_Capital_Territory.pivot_table(index='Location', columns='RainTomorrow', aggfunc='size', fill_value=0)\n",
    "\n",
    "# Tampilkan tabel pivot\n",
    "b = df_pivot_Australian_Capital_Territory.sum()\n",
    "df_pivot_Australian_Capital_Territory.sum().plot(kind='bar')\n",
    "plt.title(\"RainTomorrow Daerah Australian Capital Territory\")\n",
    "b"
   ]
  },
  {
   "cell_type": "markdown",
   "id": "a87e1e1a",
   "metadata": {},
   "source": [
    "_keterangan_:\n",
    "\n",
    "Grafik yang menunjukkan RainTomorrow dari Daerah Australian Capital Territory"
   ]
  },
  {
   "cell_type": "code",
   "execution_count": 32,
   "id": "7fbae53d",
   "metadata": {},
   "outputs": [
    {
     "data": {
      "text/plain": [
       "RainTomorrow\n",
       "No     21421\n",
       "Yes     6599\n",
       "dtype: int64"
      ]
     },
     "execution_count": 32,
     "metadata": {},
     "output_type": "execute_result"
    },
    {
     "data": {
      "image/png": "[encoded data removed]",
      "text/plain": [
       "<Figure size 432x288 with 1 Axes>"
      ]
     },
     "metadata": {
      "needs_background": "light"
     },
     "output_type": "display_data"
    }
   ],
   "source": [
    "# Filter data untuk Australian_Capital_Territory\n",
    "df_Victoria = df_provinsi.loc[(df_provinsi['Location'] == 'Ballarat') | (df_provinsi['Location'] == 'Bendigo')\n",
    "                             | (df_provinsi['Location'] == 'Sale')| (df_provinsi['Location'] == 'MelbourneAirport')\n",
    "                             | (df_provinsi['Location'] == 'Melbourne')| (df_provinsi['Location'] == 'Mildura')\n",
    "                             | (df_provinsi['Location'] == 'Nhil')| (df_provinsi['Location'] == 'Portland')\n",
    "                             | (df_provinsi['Location'] == 'Watsonia')| (df_provinsi['Location'] == 'Dartmoor')]\n",
    "\n",
    "# Buat tabel pivot\n",
    "df_pivot_Victoria = df_Victoria.pivot_table(index='Location', columns='RainTomorrow', aggfunc='size', fill_value=0)\n",
    "\n",
    "# Tampilkan tabel pivot\n",
    "c = df_pivot_Victoria.sum()\n",
    "df_pivot_Victoria.sum().plot(kind='bar')\n",
    "plt.title(\"RainTomorrow Daerah Victoria\")\n",
    "c"
   ]
  },
  {
   "cell_type": "markdown",
   "id": "01e7e62f",
   "metadata": {},
   "source": [
    "_keterangan_:\n",
    "\n",
    "Grafik yang menunjukkan RainTomorrow dari Daerah Victoria"
   ]
  },
  {
   "cell_type": "code",
   "execution_count": 33,
   "id": "b4fa1b7b",
   "metadata": {},
   "outputs": [
    {
     "data": {
      "text/plain": [
       "RainTomorrow\n",
       "No     9209\n",
       "Yes    2953\n",
       "dtype: int64"
      ]
     },
     "execution_count": 33,
     "metadata": {},
     "output_type": "execute_result"
    },
    {
     "data": {
      "image/png": "[encoded data removed]",
      "text/plain": [
       "<Figure size 432x288 with 1 Axes>"
      ]
     },
     "metadata": {
      "needs_background": "light"
     },
     "output_type": "display_data"
    }
   ],
   "source": [
    "# Filter data untuk Australian_Capital_Territory\n",
    "df_Queensland = df_provinsi.loc[(df_provinsi['Location'] == 'Brisbane') | (df_provinsi['Location'] == 'Cairns')\n",
    "                             | (df_provinsi['Location'] == 'GoldCoast')| (df_provinsi['Location'] == 'Townsville')]\n",
    "\n",
    "# Buat tabel pivot\n",
    "df_pivot_Queensland = df_Queensland.pivot_table(index='Location', columns='RainTomorrow', aggfunc='size', fill_value=0)\n",
    "\n",
    "# Tampilkan tabel pivot\n",
    "d = df_pivot_Queensland.sum()\n",
    "df_pivot_Queensland.sum().plot(kind='bar')\n",
    "plt.title(\"RainTomorrow Daerah Queensland\")\n",
    "d"
   ]
  },
  {
   "cell_type": "markdown",
   "id": "14430d9d",
   "metadata": {},
   "source": [
    "_keterangan_:\n",
    "\n",
    "Grafik yang menunjukkan RainTomorrow dari Daerah Quesland"
   ]
  },
  {
   "cell_type": "code",
   "execution_count": 34,
   "id": "ea4cd0ae",
   "metadata": {},
   "outputs": [
    {
     "data": {
      "text/plain": [
       "RainTomorrow\n",
       "No     9710\n",
       "Yes    2402\n",
       "dtype: int64"
      ]
     },
     "execution_count": 34,
     "metadata": {},
     "output_type": "execute_result"
    },
    {
     "data": {
      "image/png": "[encoded data removed]",
      "text/plain": [
       "<Figure size 432x288 with 1 Axes>"
      ]
     },
     "metadata": {
      "needs_background": "light"
     },
     "output_type": "display_data"
    }
   ],
   "source": [
    "# Filter data untuk Australian_Capital_Territory\n",
    "df_South_Australia = df_provinsi.loc[(df_provinsi['Location'] == 'Adelaide') | (df_provinsi['Location'] == 'MountGambier')\n",
    "                             | (df_provinsi['Location'] == 'Nuriootpa')| (df_provinsi['Location'] == 'Woomera')]\n",
    "\n",
    "# Buat tabel pivot\n",
    "df_pivot_South_Australia = df_South_Australia.pivot_table(index='Location', columns='RainTomorrow', aggfunc='size', fill_value=0)\n",
    "\n",
    "# Tampilkan tabel pivot\n",
    "e = df_pivot_South_Australia.sum()\n",
    "df_pivot_South_Australia.sum().plot(kind='bar')\n",
    "plt.title(\"RainTomorrow Daerah South Australia\")\n",
    "e"
   ]
  },
  {
   "cell_type": "markdown",
   "id": "c1a9b95b",
   "metadata": {},
   "source": [
    "_keterangan_:\n",
    "\n",
    "Grafik yang menunjukkan RainTomorrow dari Daerah South Australia"
   ]
  },
  {
   "cell_type": "code",
   "execution_count": 35,
   "id": "1c4c437f",
   "metadata": {},
   "outputs": [
    {
     "data": {
      "text/plain": [
       "RainTomorrow\n",
       "No     15787\n",
       "Yes     4919\n",
       "dtype: int64"
      ]
     },
     "execution_count": 35,
     "metadata": {},
     "output_type": "execute_result"
    },
    {
     "data": {
      "image/png": "[encoded data removed]",
      "text/plain": [
       "<Figure size 432x288 with 1 Axes>"
      ]
     },
     "metadata": {
      "needs_background": "light"
     },
     "output_type": "display_data"
    }
   ],
   "source": [
    "# Filter data untuk Australian_Capital_Territory\n",
    "df_Western_Australia = df_provinsi.loc[(df_provinsi['Location'] == 'Albany') | (df_provinsi['Location'] == 'Witchcliffe')\n",
    "                             | (df_provinsi['Location'] == 'PearceRAAF')| (df_provinsi['Location'] == 'PerthAirport')\n",
    "                            | (df_provinsi['Location'] == 'Perth')| (df_provinsi['Location'] == 'SalmonGums')\n",
    "                            | (df_provinsi['Location'] == 'Walpole')]\n",
    "\n",
    "# Buat tabel pivot\n",
    "df_pivot_Western_Australia = df_Western_Australia.pivot_table(index='Location', columns='RainTomorrow', aggfunc='size', fill_value=0)\n",
    "\n",
    "# Tampilkan tabel pivot\n",
    "f = df_pivot_Western_Australia.sum()\n",
    "df_pivot_Western_Australia.sum().plot(kind='bar')\n",
    "plt.title(\"RainTomorrow Daerah Western Australia\")\n",
    "f"
   ]
  },
  {
   "cell_type": "markdown",
   "id": "3b20c0e6",
   "metadata": {},
   "source": [
    "_keterangan_:\n",
    "\n",
    "Grafik yang menunjukkan RainTomorrow dari Daerah Western Australia"
   ]
  },
  {
   "cell_type": "code",
   "execution_count": 36,
   "id": "4b161a3b",
   "metadata": {},
   "outputs": [
    {
     "data": {
      "text/plain": [
       "RainTomorrow\n",
       "No     4756\n",
       "Yes    1460\n",
       "dtype: int64"
      ]
     },
     "execution_count": 36,
     "metadata": {},
     "output_type": "execute_result"
    },
    {
     "data": {
      "image/png": "[encoded data removed]",
      "text/plain": [
       "<Figure size 432x288 with 1 Axes>"
      ]
     },
     "metadata": {
      "needs_background": "light"
     },
     "output_type": "display_data"
    }
   ],
   "source": [
    "# Filter data untuk Australian_Capital_Territory\n",
    "df_Tasmania = df_provinsi.loc[(df_provinsi['Location'] == 'Hobart') | (df_provinsi['Location'] == 'Launceston')]\n",
    "\n",
    "# Buat tabel pivot\n",
    "df_pivot_Tasmania = df_Tasmania.pivot_table(index='Location', columns='RainTomorrow', aggfunc='size', fill_value=0)\n",
    "\n",
    "# Tampilkan tabel pivot\n",
    "g = df_pivot_Tasmania.sum()\n",
    "df_pivot_Tasmania.sum().plot(kind='bar')\n",
    "plt.title(\"RainTomorrow Daerah Tasmania\")\n",
    "g"
   ]
  },
  {
   "cell_type": "markdown",
   "id": "79b024f1",
   "metadata": {},
   "source": [
    "_keterangan_:\n",
    "\n",
    "Grafik yang menunjukkan RainTomorrow dari Daerah Tasmania"
   ]
  },
  {
   "cell_type": "code",
   "execution_count": 37,
   "id": "03da7cd4",
   "metadata": {},
   "outputs": [
    {
     "data": {
      "text/plain": [
       "RainTomorrow\n",
       "No     21421\n",
       "Yes     6599\n",
       "dtype: int64"
      ]
     },
     "execution_count": 37,
     "metadata": {},
     "output_type": "execute_result"
    },
    {
     "data": {
      "image/png": "[encoded data removed]",
      "text/plain": [
       "<Figure size 432x288 with 1 Axes>"
      ]
     },
     "metadata": {
      "needs_background": "light"
     },
     "output_type": "display_data"
    }
   ],
   "source": [
    "# Filter data untuk Australian_Capital_Territory\n",
    "df_Northern_Territory = df_provinsi.loc[(df_provinsi['Location'] == 'Ballarat') | (df_provinsi['Location'] == 'Bendigo')\n",
    "                             | (df_provinsi['Location'] == 'Sale')| (df_provinsi['Location'] == 'MelbourneAirport')\n",
    "                             | (df_provinsi['Location'] == 'Melbourne')| (df_provinsi['Location'] == 'Mildura')\n",
    "                             | (df_provinsi['Location'] == 'Nhil')| (df_provinsi['Location'] == 'Portland')\n",
    "                             | (df_provinsi['Location'] == 'Watsonia')| (df_provinsi['Location'] == 'Dartmoor')]\n",
    "\n",
    "# Buat tabel pivot\n",
    "df_pivot_Northern_Territory = df_Northern_Territory.pivot_table(index='Location', columns='RainTomorrow', aggfunc='size', fill_value=0)\n",
    "\n",
    "# Tampilkan tabel pivot\n",
    "h = df_pivot_Northern_Territory.sum()\n",
    "df_pivot_Northern_Territory.sum().plot(kind='bar')\n",
    "plt.title(\"RainTomorrow Daerah Northern Territory\")\n",
    "h"
   ]
  },
  {
   "cell_type": "markdown",
   "id": "1f41ae54",
   "metadata": {},
   "source": [
    "_keterangan_:\n",
    "\n",
    "Grafik yang menunjukkan RainTomorrow dari Daerah Northern Territory"
   ]
  },
  {
   "cell_type": "markdown",
   "id": "a1669f0d",
   "metadata": {},
   "source": [
    "Membuat Dataframe baru unbtuk melihat perbadningnya dalam grafik"
   ]
  },
  {
   "cell_type": "code",
   "execution_count": 38,
   "id": "b7001521",
   "metadata": {},
   "outputs": [],
   "source": [
    "dataFrame_provinsi = pd.DataFrame({\"Provinsi_New_South_Wales\":a,\n",
    "                                  \"Provinsi_Australian_Capital_Territory\":b,\n",
    "                                  \"Provinsi_Victoria\":c,\n",
    "                                  \"Provinsi_Quessland\":d,\n",
    "                                  \"Provinsi_South_Australia\":e,\n",
    "                                  \"Provinsi_Western_Australia\":f,\n",
    "                                  \"Provinsi_Tasmania\":g,\n",
    "                                  \"Provinsi_Northen_teority\":h\n",
    "                                  })"
   ]
  },
  {
   "cell_type": "code",
   "execution_count": 39,
   "id": "1d696d63",
   "metadata": {},
   "outputs": [
    {
     "data": {
      "text/html": [
       "<div>\n",
       "<style scoped>\n",
       "    .dataframe tbody tr th:only-of-type {\n",
       "        vertical-align: middle;\n",
       "    }\n",
       "\n",
       "    .dataframe tbody tr th {\n",
       "        vertical-align: top;\n",
       "    }\n",
       "\n",
       "    .dataframe thead th {\n",
       "        text-align: right;\n",
       "    }\n",
       "</style>\n",
       "<table border=\"1\" class=\"dataframe\">\n",
       "  <thead>\n",
       "    <tr style=\"text-align: right;\">\n",
       "      <th></th>\n",
       "      <th>Provinsi_New_South_Wales</th>\n",
       "      <th>Provinsi_Australian_Capital_Territory</th>\n",
       "      <th>Provinsi_Victoria</th>\n",
       "      <th>Provinsi_Quessland</th>\n",
       "      <th>Provinsi_South_Australia</th>\n",
       "      <th>Provinsi_Western_Australia</th>\n",
       "      <th>Provinsi_Tasmania</th>\n",
       "      <th>Provinsi_Northen_teority</th>\n",
       "    </tr>\n",
       "  </thead>\n",
       "  <tbody>\n",
       "    <tr>\n",
       "      <th>No</th>\n",
       "      <td>25329</td>\n",
       "      <td>5219</td>\n",
       "      <td>21421</td>\n",
       "      <td>9209</td>\n",
       "      <td>9710</td>\n",
       "      <td>15787</td>\n",
       "      <td>4756</td>\n",
       "      <td>21421</td>\n",
       "    </tr>\n",
       "    <tr>\n",
       "      <th>Yes</th>\n",
       "      <td>7347</td>\n",
       "      <td>1197</td>\n",
       "      <td>6599</td>\n",
       "      <td>2953</td>\n",
       "      <td>2402</td>\n",
       "      <td>4919</td>\n",
       "      <td>1460</td>\n",
       "      <td>6599</td>\n",
       "    </tr>\n",
       "  </tbody>\n",
       "</table>\n",
       "</div>"
      ],
      "text/plain": [
       "     Provinsi_New_South_Wales  Provinsi_Australian_Capital_Territory  \\\n",
       "No                      25329                                   5219   \n",
       "Yes                      7347                                   1197   \n",
       "\n",
       "     Provinsi_Victoria  Provinsi_Quessland  Provinsi_South_Australia  \\\n",
       "No               21421                9209                      9710   \n",
       "Yes               6599                2953                      2402   \n",
       "\n",
       "     Provinsi_Western_Australia  Provinsi_Tasmania  Provinsi_Northen_teority  \n",
       "No                        15787               4756                     21421  \n",
       "Yes                        4919               1460                      6599  "
      ]
     },
     "execution_count": 39,
     "metadata": {},
     "output_type": "execute_result"
    }
   ],
   "source": [
    "dataFrame_provinsi.index.name=None\n",
    "dataFrame_provinsi"
   ]
  },
  {
   "cell_type": "code",
   "execution_count": 40,
   "id": "c722072b",
   "metadata": {},
   "outputs": [
    {
     "data": {
      "image/png": "[encoded data removed]",
      "text/plain": [
       "<Figure size 576x432 with 1 Axes>"
      ]
     },
     "metadata": {
      "needs_background": "light"
     },
     "output_type": "display_data"
    }
   ],
   "source": [
    "fig, ax = plt.subplots(figsize=(8, 6))\n",
    "dataFrame_provinsi.plot.bar(ax=ax)\n",
    "\n",
    "# konfigurasi plot\n",
    "ax.set_title('Perbandingan RainTomorrow Setiap Provinsi')\n",
    "ax.set_xlabel('RainTomorrow')\n",
    "ax.set_ylabel('Jumlah')\n",
    "plt.show()"
   ]
  },
  {
   "cell_type": "markdown",
   "id": "f92a317c",
   "metadata": {},
   "source": [
    "_Keterangan_\n",
    "\n",
    "Menampilakn perbandingan RainTomorrow pada setiap Provinsi"
   ]
  },
  {
   "cell_type": "markdown",
   "id": "bab8a0f9",
   "metadata": {},
   "source": [
    "#### Kesimpulan Analisis berdasarkan Daerah"
   ]
  },
  {
   "cell_type": "markdown",
   "id": "d3134898",
   "metadata": {},
   "source": [
    "Hasil dari barchart diatas menunjukan bahwa, setiap daerah di Australia mempunyai Raintomorrow yang berbeda beda. Alhasil menunjukan nilai YES dan NO yang berbeda beda seperti kota. Nantinya untuk lokasi akan kita ganti dengan daerah, karena jumlahnya lebih sedikit yakni dari 49 menjadi 8. Daerah bisa menjadi prediktor untuk Raintomorrow"
   ]
  },
  {
   "cell_type": "markdown",
   "id": "21aaae76",
   "metadata": {},
   "source": [
    "## Perbandingan MinTemp MaxTemp dengan RainTomorrow"
   ]
  },
  {
   "cell_type": "markdown",
   "id": "73750cc8",
   "metadata": {},
   "source": [
    "### Analisis Berdasarkan MinMaxTemp"
   ]
  },
  {
   "cell_type": "markdown",
   "id": "1450a3dc",
   "metadata": {},
   "source": [
    "Melihat MinMaxTemp dengan nilai Yes"
   ]
  },
  {
   "cell_type": "code",
   "execution_count": 41,
   "id": "f097ecc8",
   "metadata": {},
   "outputs": [
    {
     "data": {
      "text/html": [
       "<div>\n",
       "<style scoped>\n",
       "    .dataframe tbody tr th:only-of-type {\n",
       "        vertical-align: middle;\n",
       "    }\n",
       "\n",
       "    .dataframe tbody tr th {\n",
       "        vertical-align: top;\n",
       "    }\n",
       "\n",
       "    .dataframe thead th {\n",
       "        text-align: right;\n",
       "    }\n",
       "</style>\n",
       "<table border=\"1\" class=\"dataframe\">\n",
       "  <thead>\n",
       "    <tr style=\"text-align: right;\">\n",
       "      <th></th>\n",
       "      <th>MinTemp</th>\n",
       "      <th>MaxTemp</th>\n",
       "      <th>RainTomorrow</th>\n",
       "    </tr>\n",
       "  </thead>\n",
       "  <tbody>\n",
       "    <tr>\n",
       "      <th>64228</th>\n",
       "      <td>18.8</td>\n",
       "      <td>46.8</td>\n",
       "      <td>Yes</td>\n",
       "    </tr>\n",
       "    <tr>\n",
       "      <th>34937</th>\n",
       "      <td>22.7</td>\n",
       "      <td>46.4</td>\n",
       "      <td>Yes</td>\n",
       "    </tr>\n",
       "    <tr>\n",
       "      <th>105884</th>\n",
       "      <td>24.3</td>\n",
       "      <td>44.9</td>\n",
       "      <td>Yes</td>\n",
       "    </tr>\n",
       "    <tr>\n",
       "      <th>107342</th>\n",
       "      <td>26.2</td>\n",
       "      <td>44.9</td>\n",
       "      <td>Yes</td>\n",
       "    </tr>\n",
       "    <tr>\n",
       "      <th>125558</th>\n",
       "      <td>13.7</td>\n",
       "      <td>44.5</td>\n",
       "      <td>Yes</td>\n",
       "    </tr>\n",
       "  </tbody>\n",
       "</table>\n",
       "</div>"
      ],
      "text/plain": [
       "        MinTemp  MaxTemp RainTomorrow\n",
       "64228      18.8     46.8          Yes\n",
       "34937      22.7     46.4          Yes\n",
       "105884     24.3     44.9          Yes\n",
       "107342     26.2     44.9          Yes\n",
       "125558     13.7     44.5          Yes"
      ]
     },
     "execution_count": 41,
     "metadata": {},
     "output_type": "execute_result"
    }
   ],
   "source": [
    "MinMaxTemp_Rainfall = df[[\"MinTemp\",\"MaxTemp\",\"RainTomorrow\"]]\n",
    "MinMaxTemp_Rainfall[MinMaxTemp_Rainfall[\"RainTomorrow\"]==\"Yes\"].sort_values(by=\"MaxTemp\", ascending=False).head()"
   ]
  },
  {
   "cell_type": "markdown",
   "id": "34d406f7",
   "metadata": {},
   "source": [
    "_Keterangan_\n",
    "\n",
    "Tabel diatas menunjukkan RainTomorrow yang memiliki NIlai YES dan diurutkan berdasarkan nilai tertinggi MaxTemp. Dari tabel yang ada bisa kita lihat MaxTemp dengan nilai diatas 40.0 memiliki output nilai RainTomorrow YES"
   ]
  },
  {
   "cell_type": "code",
   "execution_count": 42,
   "id": "5de8b8fc",
   "metadata": {},
   "outputs": [
    {
     "data": {
      "text/html": [
       "<div>\n",
       "<style scoped>\n",
       "    .dataframe tbody tr th:only-of-type {\n",
       "        vertical-align: middle;\n",
       "    }\n",
       "\n",
       "    .dataframe tbody tr th {\n",
       "        vertical-align: top;\n",
       "    }\n",
       "\n",
       "    .dataframe thead th {\n",
       "        text-align: right;\n",
       "    }\n",
       "</style>\n",
       "<table border=\"1\" class=\"dataframe\">\n",
       "  <thead>\n",
       "    <tr style=\"text-align: right;\">\n",
       "      <th></th>\n",
       "      <th>MinTemp</th>\n",
       "      <th>MaxTemp</th>\n",
       "      <th>RainTomorrow</th>\n",
       "    </tr>\n",
       "  </thead>\n",
       "  <tbody>\n",
       "    <tr>\n",
       "      <th>98946</th>\n",
       "      <td>30.7</td>\n",
       "      <td>38.5</td>\n",
       "      <td>Yes</td>\n",
       "    </tr>\n",
       "    <tr>\n",
       "      <th>144900</th>\n",
       "      <td>30.2</td>\n",
       "      <td>39.5</td>\n",
       "      <td>Yes</td>\n",
       "    </tr>\n",
       "    <tr>\n",
       "      <th>70769</th>\n",
       "      <td>29.8</td>\n",
       "      <td>41.1</td>\n",
       "      <td>Yes</td>\n",
       "    </tr>\n",
       "    <tr>\n",
       "      <th>139638</th>\n",
       "      <td>29.7</td>\n",
       "      <td>32.3</td>\n",
       "      <td>Yes</td>\n",
       "    </tr>\n",
       "    <tr>\n",
       "      <th>144211</th>\n",
       "      <td>29.3</td>\n",
       "      <td>42.3</td>\n",
       "      <td>Yes</td>\n",
       "    </tr>\n",
       "  </tbody>\n",
       "</table>\n",
       "</div>"
      ],
      "text/plain": [
       "        MinTemp  MaxTemp RainTomorrow\n",
       "98946      30.7     38.5          Yes\n",
       "144900     30.2     39.5          Yes\n",
       "70769      29.8     41.1          Yes\n",
       "139638     29.7     32.3          Yes\n",
       "144211     29.3     42.3          Yes"
      ]
     },
     "execution_count": 42,
     "metadata": {},
     "output_type": "execute_result"
    }
   ],
   "source": [
    "MinMaxTemp_Rainfall = df[[\"MinTemp\",\"MaxTemp\",\"RainTomorrow\"]]\n",
    "MinMaxTemp_Rainfall[MinMaxTemp_Rainfall[\"RainTomorrow\"]==\"Yes\"].sort_values(by=\"MinTemp\", ascending=False).head()"
   ]
  },
  {
   "cell_type": "markdown",
   "id": "5828b660",
   "metadata": {},
   "source": [
    "_Keterangan_\n",
    "\n",
    "Dari tabel diatas menunjukan data data yang memiliki MinTemp terbesar yang RainTOmorrow memiliki nilai YES. Dapat kita lihat dalam tabel yang ada MinTemp yang mempunyai nilai diatas 29."
   ]
  },
  {
   "cell_type": "markdown",
   "id": "332e5ccb",
   "metadata": {},
   "source": [
    "Melihat MinMaxTemp dengan nilai No"
   ]
  },
  {
   "cell_type": "code",
   "execution_count": 43,
   "id": "2f476558",
   "metadata": {},
   "outputs": [
    {
     "data": {
      "text/html": [
       "<div>\n",
       "<style scoped>\n",
       "    .dataframe tbody tr th:only-of-type {\n",
       "        vertical-align: middle;\n",
       "    }\n",
       "\n",
       "    .dataframe tbody tr th {\n",
       "        vertical-align: top;\n",
       "    }\n",
       "\n",
       "    .dataframe thead th {\n",
       "        text-align: right;\n",
       "    }\n",
       "</style>\n",
       "<table border=\"1\" class=\"dataframe\">\n",
       "  <thead>\n",
       "    <tr style=\"text-align: right;\">\n",
       "      <th></th>\n",
       "      <th>MinTemp</th>\n",
       "      <th>MaxTemp</th>\n",
       "      <th>RainTomorrow</th>\n",
       "    </tr>\n",
       "  </thead>\n",
       "  <tbody>\n",
       "    <tr>\n",
       "      <th>4</th>\n",
       "      <td>17.5</td>\n",
       "      <td>32.3</td>\n",
       "      <td>No</td>\n",
       "    </tr>\n",
       "    <tr>\n",
       "      <th>3</th>\n",
       "      <td>9.2</td>\n",
       "      <td>28.0</td>\n",
       "      <td>No</td>\n",
       "    </tr>\n",
       "    <tr>\n",
       "      <th>2</th>\n",
       "      <td>12.9</td>\n",
       "      <td>25.7</td>\n",
       "      <td>No</td>\n",
       "    </tr>\n",
       "    <tr>\n",
       "      <th>1</th>\n",
       "      <td>7.4</td>\n",
       "      <td>25.1</td>\n",
       "      <td>No</td>\n",
       "    </tr>\n",
       "    <tr>\n",
       "      <th>0</th>\n",
       "      <td>13.4</td>\n",
       "      <td>22.9</td>\n",
       "      <td>No</td>\n",
       "    </tr>\n",
       "  </tbody>\n",
       "</table>\n",
       "</div>"
      ],
      "text/plain": [
       "   MinTemp  MaxTemp RainTomorrow\n",
       "4     17.5     32.3           No\n",
       "3      9.2     28.0           No\n",
       "2     12.9     25.7           No\n",
       "1      7.4     25.1           No\n",
       "0     13.4     22.9           No"
      ]
     },
     "execution_count": 43,
     "metadata": {},
     "output_type": "execute_result"
    }
   ],
   "source": [
    "MinMaxTemp_Rainfall = df[[\"MinTemp\",\"MaxTemp\",\"RainTomorrow\"]]\n",
    "MinMaxTemp_Rainfall[MinMaxTemp_Rainfall[\"RainTomorrow\"]==\"No\"].head().sort_values(by=\"MaxTemp\", ascending=False).head()"
   ]
  },
  {
   "cell_type": "markdown",
   "id": "e5db268a",
   "metadata": {},
   "source": [
    "_Keterangan_\n",
    "\n",
    "Dari Tabel diatas menunjukan hasil prediksi NO dengan MAxTemp mempunyai nilai dibawah 33.0"
   ]
  },
  {
   "cell_type": "code",
   "execution_count": 44,
   "id": "cbfd357c",
   "metadata": {},
   "outputs": [
    {
     "data": {
      "text/html": [
       "<div>\n",
       "<style scoped>\n",
       "    .dataframe tbody tr th:only-of-type {\n",
       "        vertical-align: middle;\n",
       "    }\n",
       "\n",
       "    .dataframe tbody tr th {\n",
       "        vertical-align: top;\n",
       "    }\n",
       "\n",
       "    .dataframe thead th {\n",
       "        text-align: right;\n",
       "    }\n",
       "</style>\n",
       "<table border=\"1\" class=\"dataframe\">\n",
       "  <thead>\n",
       "    <tr style=\"text-align: right;\">\n",
       "      <th></th>\n",
       "      <th>MinTemp</th>\n",
       "      <th>MaxTemp</th>\n",
       "      <th>RainTomorrow</th>\n",
       "    </tr>\n",
       "  </thead>\n",
       "  <tbody>\n",
       "    <tr>\n",
       "      <th>4</th>\n",
       "      <td>17.5</td>\n",
       "      <td>32.3</td>\n",
       "      <td>No</td>\n",
       "    </tr>\n",
       "    <tr>\n",
       "      <th>0</th>\n",
       "      <td>13.4</td>\n",
       "      <td>22.9</td>\n",
       "      <td>No</td>\n",
       "    </tr>\n",
       "    <tr>\n",
       "      <th>2</th>\n",
       "      <td>12.9</td>\n",
       "      <td>25.7</td>\n",
       "      <td>No</td>\n",
       "    </tr>\n",
       "    <tr>\n",
       "      <th>3</th>\n",
       "      <td>9.2</td>\n",
       "      <td>28.0</td>\n",
       "      <td>No</td>\n",
       "    </tr>\n",
       "    <tr>\n",
       "      <th>1</th>\n",
       "      <td>7.4</td>\n",
       "      <td>25.1</td>\n",
       "      <td>No</td>\n",
       "    </tr>\n",
       "  </tbody>\n",
       "</table>\n",
       "</div>"
      ],
      "text/plain": [
       "   MinTemp  MaxTemp RainTomorrow\n",
       "4     17.5     32.3           No\n",
       "0     13.4     22.9           No\n",
       "2     12.9     25.7           No\n",
       "3      9.2     28.0           No\n",
       "1      7.4     25.1           No"
      ]
     },
     "execution_count": 44,
     "metadata": {},
     "output_type": "execute_result"
    }
   ],
   "source": [
    "MinMaxTemp_Rainfall = df[[\"MinTemp\",\"MaxTemp\",\"RainTomorrow\"]]\n",
    "MinMaxTemp_Rainfall[MinMaxTemp_Rainfall[\"RainTomorrow\"]==\"No\"].head().sort_values(by=\"MinTemp\", ascending=False).head()"
   ]
  },
  {
   "cell_type": "markdown",
   "id": "0d599175",
   "metadata": {},
   "source": [
    "_Keterangan_\n",
    "\n",
    "Dari tabel diatas menunjukan data data yang memiliki MinTemp dibawah 18.0. yang emmiliki nilai RainTomorrow No"
   ]
  },
  {
   "cell_type": "markdown",
   "id": "c6c290e7",
   "metadata": {},
   "source": [
    "Melihat rata rata Dari MinMaxTemp"
   ]
  },
  {
   "cell_type": "code",
   "execution_count": 45,
   "id": "9bb85059",
   "metadata": {},
   "outputs": [
    {
     "data": {
      "text/html": [
       "<div>\n",
       "<style scoped>\n",
       "    .dataframe tbody tr th:only-of-type {\n",
       "        vertical-align: middle;\n",
       "    }\n",
       "\n",
       "    .dataframe tbody tr th {\n",
       "        vertical-align: top;\n",
       "    }\n",
       "\n",
       "    .dataframe thead th {\n",
       "        text-align: right;\n",
       "    }\n",
       "</style>\n",
       "<table border=\"1\" class=\"dataframe\">\n",
       "  <thead>\n",
       "    <tr style=\"text-align: right;\">\n",
       "      <th></th>\n",
       "      <th>MinTemp</th>\n",
       "      <th>MaxTemp</th>\n",
       "    </tr>\n",
       "    <tr>\n",
       "      <th>RainTomorrow</th>\n",
       "      <th></th>\n",
       "      <th></th>\n",
       "    </tr>\n",
       "  </thead>\n",
       "  <tbody>\n",
       "    <tr>\n",
       "      <th>No</th>\n",
       "      <td>11.898884</td>\n",
       "      <td>23.834771</td>\n",
       "    </tr>\n",
       "    <tr>\n",
       "      <th>Yes</th>\n",
       "      <td>13.181398</td>\n",
       "      <td>21.122737</td>\n",
       "    </tr>\n",
       "  </tbody>\n",
       "</table>\n",
       "</div>"
      ],
      "text/plain": [
       "                MinTemp    MaxTemp\n",
       "RainTomorrow                      \n",
       "No            11.898884  23.834771\n",
       "Yes           13.181398  21.122737"
      ]
     },
     "execution_count": 45,
     "metadata": {},
     "output_type": "execute_result"
    }
   ],
   "source": [
    "df.groupby(\"RainTomorrow\")[[\"MinTemp\",\"MaxTemp\"]].mean()"
   ]
  },
  {
   "cell_type": "code",
   "execution_count": 46,
   "id": "a5af80b5",
   "metadata": {},
   "outputs": [
    {
     "data": {
      "text/plain": [
       "Text(0.5, 1.0, 'Hubungan MinMaxTemperature dengan RainTomorrow')"
      ]
     },
     "execution_count": 46,
     "metadata": {},
     "output_type": "execute_result"
    },
    {
     "data": {
      "image/png": "[encoded data removed]",
      "text/plain": [
       "<Figure size 576x432 with 1 Axes>"
      ]
     },
     "metadata": {
      "needs_background": "light"
     },
     "output_type": "display_data"
    }
   ],
   "source": [
    "plt.figure(figsize=(8,6))\n",
    "sns.scatterplot(x=\"MinTemp\", y=\"MaxTemp\", hue = \"RainTomorrow\", data=df)\n",
    "plt.title(\"Hubungan MinMaxTemperature dengan RainTomorrow\")"
   ]
  },
  {
   "cell_type": "markdown",
   "id": "e128a5c0",
   "metadata": {},
   "source": [
    "_Keterangan_\n",
    "\n",
    "Dari Scater plot diatas menunjukan keterangan nilai Min dan Max temperature yang menghasilkan prediksi  RainTomorrow Yes dan No"
   ]
  },
  {
   "cell_type": "markdown",
   "id": "705c1099",
   "metadata": {},
   "source": [
    "#### Kesimpulan Analisis Perbandingan Min Max Temp dengan Rainfall"
   ]
  },
  {
   "cell_type": "markdown",
   "id": "4b694d3e",
   "metadata": {},
   "source": [
    "Hasil dari kesimpulan scater plot dan tabel diatas menunjukan, hasilnya MinTemp dan MaxTemp mempunyai pengaruh yang sangat kuat pada hasil prediksi rainTomorrow. BIsa kita lihat pada scatter plot yang ada, persebarannya menampakan titik MinTemp dan MaxTemp yang ada menhasilkan nilai RainTomorrow. Dari hasil ini, menunjukkan bahwa MinTemp dan MaxTemp dapat mempengaruhi feature kolom Raintomorrow"
   ]
  },
  {
   "cell_type": "markdown",
   "id": "e4ca68a7",
   "metadata": {},
   "source": [
    "### Korelasi MinMaxTemp dengan RainTomorrow"
   ]
  },
  {
   "cell_type": "markdown",
   "id": "c74f7e9b",
   "metadata": {},
   "source": [
    "Sebelum melakukan korelasi, mari kita ubah raintomorrow menjadi bernilai 1 dan 0 dengan label Encoder"
   ]
  },
  {
   "cell_type": "code",
   "execution_count": 47,
   "id": "252a081d",
   "metadata": {},
   "outputs": [],
   "source": [
    "label_encoder = preprocessing.LabelEncoder()\n",
    "df['RainTomorrow']= label_encoder.fit_transform(df['RainTomorrow'])"
   ]
  },
  {
   "cell_type": "code",
   "execution_count": 48,
   "id": "0eb5d840",
   "metadata": {},
   "outputs": [
    {
     "data": {
      "image/png": "[encoded data removed]",
      "text/plain": [
       "<Figure size 720x576 with 2 Axes>"
      ]
     },
     "metadata": {
      "needs_background": "light"
     },
     "output_type": "display_data"
    }
   ],
   "source": [
    "cols = [\"MinTemp\",\"MaxTemp\",\"RainTomorrow\"]\n",
    "matriksKorelasiMM = df[cols].corr()\n",
    "plt.figure(figsize=(10,8))\n",
    "sns.heatmap(matriksKorelasiMM, cmap='Reds', annot=True, annot_kws={'fontsize':12})\n",
    "plt.show()"
   ]
  },
  {
   "cell_type": "markdown",
   "id": "80e4a2de",
   "metadata": {},
   "source": [
    "_Keterangan_\n",
    "\n",
    "Korelasi antar variabel MinMaxTemp denganRainTomorrow"
   ]
  },
  {
   "cell_type": "markdown",
   "id": "d2f0d6cc",
   "metadata": {},
   "source": [
    "#### Kesimpulan Analisis Terhadap RainTomorrow dari MinMaxTemp"
   ]
  },
  {
   "cell_type": "markdown",
   "id": "c2d4aef5",
   "metadata": {},
   "source": [
    "Korelasi antara MaxTemp dan RainTomorrow sangat lemah, sedangkan korelasi antara MinTemp dan RainTomorrow lemah namun mengindikasikan adanya pengaruh negatif yang sangat lemah. Akan tetapi kedua data ini mempunyai korelasi yang kuat antar variabel independennya. Maka dari itu kita akan tetap menggunakan kolom ini dikarenakan prediksi untuk RainTomorrow juga berdasarkan temperatur"
   ]
  },
  {
   "cell_type": "markdown",
   "id": "03425804",
   "metadata": {},
   "source": [
    "## Perbandingan anatara RainToday dengan RainTomorrow"
   ]
  },
  {
   "cell_type": "markdown",
   "id": "7e68999d",
   "metadata": {},
   "source": [
    "### Analsis RainToday dengan Tomorrow"
   ]
  },
  {
   "cell_type": "code",
   "execution_count": 49,
   "id": "20d3b508",
   "metadata": {},
   "outputs": [
    {
     "data": {
      "text/plain": [
       "No     110738\n",
       "Yes     31455\n",
       "Name: RainToday, dtype: int64"
      ]
     },
     "execution_count": 49,
     "metadata": {},
     "output_type": "execute_result"
    }
   ],
   "source": [
    "df[\"RainToday\"].value_counts()"
   ]
  },
  {
   "cell_type": "markdown",
   "id": "c7193a00",
   "metadata": {},
   "source": [
    "_Keterangan_\n",
    "\n",
    "Menampilkan jumlah frekuensi dari YES NO kolom RainToday"
   ]
  },
  {
   "cell_type": "code",
   "execution_count": 50,
   "id": "3d7e3532",
   "metadata": {},
   "outputs": [
    {
     "data": {
      "text/plain": [
       "0    110316\n",
       "1     31877\n",
       "Name: RainTomorrow, dtype: int64"
      ]
     },
     "execution_count": 50,
     "metadata": {},
     "output_type": "execute_result"
    }
   ],
   "source": [
    "df[\"RainTomorrow\"].value_counts()"
   ]
  },
  {
   "cell_type": "markdown",
   "id": "dcfbbcb9",
   "metadata": {},
   "source": [
    "_Keterangan_\n",
    "\n",
    "Menampilkan jumlah frekuensi dari YES NO kolom RainTomorrow"
   ]
  },
  {
   "cell_type": "code",
   "execution_count": 51,
   "id": "d28743d2",
   "metadata": {},
   "outputs": [
    {
     "data": {
      "text/plain": [
       "RainToday  RainTomorrow\n",
       "No         0               93458\n",
       "           1               17280\n",
       "Yes        0               16858\n",
       "           1               14597\n",
       "Name: RainTomorrow, dtype: int64"
      ]
     },
     "execution_count": 51,
     "metadata": {},
     "output_type": "execute_result"
    }
   ],
   "source": [
    "df.groupby(\"RainToday\")[\"RainTomorrow\"].value_counts()"
   ]
  },
  {
   "cell_type": "markdown",
   "id": "15fe8eee",
   "metadata": {},
   "source": [
    "_Keterangan_\n",
    "\n",
    "Menampilkan jumlah frekuensi dari YES NO kolom RainToday dengan RainTomorrow"
   ]
  },
  {
   "cell_type": "code",
   "execution_count": 52,
   "id": "1f45ca47",
   "metadata": {},
   "outputs": [
    {
     "data": {
      "image/png": "[encoded data removed]",
      "text/plain": [
       "<Figure size 432x288 with 1 Axes>"
      ]
     },
     "metadata": {
      "needs_background": "light"
     },
     "output_type": "display_data"
    }
   ],
   "source": [
    "# Plot bar chart\n",
    "plot = df.groupby(\"RainTomorrow\")[\"RainToday\"].value_counts().plot(kind=\"bar\", color=['blue', 'orange',\"red\",\"purple\"])\n",
    "\n",
    "# Set judul dan label sumbu x dan y\n",
    "plot.set_title(\"Rain Today vs Rain Tomorrow\")\n",
    "plot.set_xlabel(\"Rain Today, Rain Tomorrow\")\n",
    "plot.set_ylabel(\"Count\")\n",
    "\n",
    "#menampilkan\n",
    "plt.show()"
   ]
  },
  {
   "cell_type": "markdown",
   "id": "6dfb0f27",
   "metadata": {},
   "source": [
    "_Keterangan_\n",
    "\n",
    "Menampilkan diagram Raintoday dengan raintomorrow"
   ]
  },
  {
   "cell_type": "markdown",
   "id": "32de6489",
   "metadata": {},
   "source": [
    "#### Kesimpulan Perbandingan antara RainToday dengan Raintomorrow"
   ]
  },
  {
   "cell_type": "markdown",
   "id": "a87105ec",
   "metadata": {},
   "source": [
    "Kesimpulan dari data diatas antara raintoday dan raintomorrow, Ketika rainToday memiliki nilai NO, hasil untuk nilai raintomorrow YES dan NO sangat berbeda jauh. Hal ini dapat dikatakan bahwa RainToday bisa jadi salah satu prediktor untuk  memprediksi rainTomorrow"
   ]
  },
  {
   "cell_type": "markdown",
   "id": "0d67f691",
   "metadata": {},
   "source": [
    "### Korelasi RainFall dengan RainTomorrow"
   ]
  },
  {
   "cell_type": "markdown",
   "id": "678e69c8",
   "metadata": {},
   "source": [
    "Sebelum melihat korelasi yang ada, mari kita ubah RainToday menjadi bernilai 1 dan 0"
   ]
  },
  {
   "cell_type": "code",
   "execution_count": 53,
   "id": "c6208b25",
   "metadata": {},
   "outputs": [],
   "source": [
    "df[\"RainToday\"]=label_encoder.fit_transform(df[\"RainToday\"])"
   ]
  },
  {
   "cell_type": "code",
   "execution_count": 54,
   "id": "4700f222",
   "metadata": {},
   "outputs": [
    {
     "data": {
      "image/png": "[encoded data removed]",
      "text/plain": [
       "<Figure size 720x576 with 2 Axes>"
      ]
     },
     "metadata": {
      "needs_background": "light"
     },
     "output_type": "display_data"
    }
   ],
   "source": [
    "cols = [\"RainToday\",\"RainTomorrow\"]\n",
    "matriksKorelasiMM = df[cols].corr()\n",
    "plt.figure(figsize=(10,8))\n",
    "sns.heatmap(matriksKorelasiMM, cmap='Reds', annot=True, annot_kws={'fontsize':12})\n",
    "plt.show()"
   ]
  },
  {
   "cell_type": "markdown",
   "id": "a3174990",
   "metadata": {},
   "source": [
    "_Keteragan_\n",
    "\n",
    "Heatmap korelasi antara RainToday dengan RainTomorrow"
   ]
  },
  {
   "cell_type": "markdown",
   "id": "83eae283",
   "metadata": {},
   "source": [
    "#### Kesimpulan Korelasi RainToday dan RainTomorrow"
   ]
  },
  {
   "cell_type": "markdown",
   "id": "7bd81fae",
   "metadata": {},
   "source": [
    "Dengan korelasi antara \"RainToday\" dan \"RainTomorrow\" sebesar 0,31, kita dapat menyimpulkan bahwa ada korelasi positif yang sedang antara kedua variabel ini. Artinya, jika \"RainToday\" mengalami kenaikan, kemungkinan \"RainTomorrow\" juga akan meningkat. Kolom RainToday akan menjadi prediktor untuk RainTomorrow"
   ]
  },
  {
   "cell_type": "markdown",
   "id": "a587bcbb",
   "metadata": {},
   "source": [
    "## Perbandingan Wind dengan RainTomorrow"
   ]
  },
  {
   "cell_type": "markdown",
   "id": "3e47603a",
   "metadata": {},
   "source": [
    "### Mengubah nilai Arah Mata angin dengan derajat"
   ]
  },
  {
   "cell_type": "code",
   "execution_count": 55,
   "id": "4fca8e53",
   "metadata": {},
   "outputs": [],
   "source": [
    "columns_wind = df[[\"WindGustDir\",'WindGustSpeed','WindDir9am','WindDir3pm','WindSpeed9am','WindSpeed3pm']]"
   ]
  },
  {
   "cell_type": "code",
   "execution_count": 56,
   "id": "36f9d07a",
   "metadata": {},
   "outputs": [
    {
     "data": {
      "text/html": [
       "<div>\n",
       "<style scoped>\n",
       "    .dataframe tbody tr th:only-of-type {\n",
       "        vertical-align: middle;\n",
       "    }\n",
       "\n",
       "    .dataframe tbody tr th {\n",
       "        vertical-align: top;\n",
       "    }\n",
       "\n",
       "    .dataframe thead th {\n",
       "        text-align: right;\n",
       "    }\n",
       "</style>\n",
       "<table border=\"1\" class=\"dataframe\">\n",
       "  <thead>\n",
       "    <tr style=\"text-align: right;\">\n",
       "      <th></th>\n",
       "      <th>WindGustDir</th>\n",
       "      <th>WindGustSpeed</th>\n",
       "      <th>WindDir9am</th>\n",
       "      <th>WindDir3pm</th>\n",
       "      <th>WindSpeed9am</th>\n",
       "      <th>WindSpeed3pm</th>\n",
       "    </tr>\n",
       "  </thead>\n",
       "  <tbody>\n",
       "    <tr>\n",
       "      <th>0</th>\n",
       "      <td>W</td>\n",
       "      <td>44.0</td>\n",
       "      <td>W</td>\n",
       "      <td>WNW</td>\n",
       "      <td>20.0</td>\n",
       "      <td>24.0</td>\n",
       "    </tr>\n",
       "    <tr>\n",
       "      <th>1</th>\n",
       "      <td>WNW</td>\n",
       "      <td>44.0</td>\n",
       "      <td>NNW</td>\n",
       "      <td>WSW</td>\n",
       "      <td>4.0</td>\n",
       "      <td>22.0</td>\n",
       "    </tr>\n",
       "    <tr>\n",
       "      <th>2</th>\n",
       "      <td>WSW</td>\n",
       "      <td>46.0</td>\n",
       "      <td>W</td>\n",
       "      <td>WSW</td>\n",
       "      <td>19.0</td>\n",
       "      <td>26.0</td>\n",
       "    </tr>\n",
       "    <tr>\n",
       "      <th>3</th>\n",
       "      <td>NE</td>\n",
       "      <td>24.0</td>\n",
       "      <td>SE</td>\n",
       "      <td>E</td>\n",
       "      <td>11.0</td>\n",
       "      <td>9.0</td>\n",
       "    </tr>\n",
       "    <tr>\n",
       "      <th>4</th>\n",
       "      <td>W</td>\n",
       "      <td>41.0</td>\n",
       "      <td>ENE</td>\n",
       "      <td>NW</td>\n",
       "      <td>7.0</td>\n",
       "      <td>20.0</td>\n",
       "    </tr>\n",
       "  </tbody>\n",
       "</table>\n",
       "</div>"
      ],
      "text/plain": [
       "  WindGustDir  WindGustSpeed WindDir9am WindDir3pm  WindSpeed9am  WindSpeed3pm\n",
       "0           W           44.0          W        WNW          20.0          24.0\n",
       "1         WNW           44.0        NNW        WSW           4.0          22.0\n",
       "2         WSW           46.0          W        WSW          19.0          26.0\n",
       "3          NE           24.0         SE          E          11.0           9.0\n",
       "4           W           41.0        ENE         NW           7.0          20.0"
      ]
     },
     "execution_count": 56,
     "metadata": {},
     "output_type": "execute_result"
    }
   ],
   "source": [
    "columns_wind.head()"
   ]
  },
  {
   "cell_type": "code",
   "execution_count": 57,
   "id": "5e51b50a",
   "metadata": {},
   "outputs": [],
   "source": [
    "directions = {'N': 0, 'NNE': 22.5, 'NE': 45, 'ENE': 67.5, \n",
    "              'E': 90, 'ESE': 112.5, 'SE': 135, 'SSE': 157.5, \n",
    "              'S': 180, 'SSW': 202.5, 'SW': 225, 'WSW': 247.5, \n",
    "              'W': 270, 'WNW': 292.5, 'NW': 315, 'NNW': 337.5}\n",
    "\n",
    "#pada df asli\n",
    "df['WindGustDir'] = df['WindGustDir'].map(directions)\n",
    "df['WindDir9am'] = df['WindDir9am'].map(directions)\n",
    "df['WindDir3pm'] = df['WindDir3pm'].map(directions)"
   ]
  },
  {
   "cell_type": "code",
   "execution_count": 58,
   "id": "95d1b7c2",
   "metadata": {},
   "outputs": [
    {
     "data": {
      "text/html": [
       "<div>\n",
       "<style scoped>\n",
       "    .dataframe tbody tr th:only-of-type {\n",
       "        vertical-align: middle;\n",
       "    }\n",
       "\n",
       "    .dataframe tbody tr th {\n",
       "        vertical-align: top;\n",
       "    }\n",
       "\n",
       "    .dataframe thead th {\n",
       "        text-align: right;\n",
       "    }\n",
       "</style>\n",
       "<table border=\"1\" class=\"dataframe\">\n",
       "  <thead>\n",
       "    <tr style=\"text-align: right;\">\n",
       "      <th></th>\n",
       "      <th>WindGustDir</th>\n",
       "      <th>WindGustSpeed</th>\n",
       "      <th>WindDir9am</th>\n",
       "      <th>WindDir3pm</th>\n",
       "      <th>WindSpeed9am</th>\n",
       "      <th>WindSpeed3pm</th>\n",
       "    </tr>\n",
       "  </thead>\n",
       "  <tbody>\n",
       "    <tr>\n",
       "      <th>0</th>\n",
       "      <td>W</td>\n",
       "      <td>44.0</td>\n",
       "      <td>W</td>\n",
       "      <td>WNW</td>\n",
       "      <td>20.0</td>\n",
       "      <td>24.0</td>\n",
       "    </tr>\n",
       "    <tr>\n",
       "      <th>1</th>\n",
       "      <td>WNW</td>\n",
       "      <td>44.0</td>\n",
       "      <td>NNW</td>\n",
       "      <td>WSW</td>\n",
       "      <td>4.0</td>\n",
       "      <td>22.0</td>\n",
       "    </tr>\n",
       "    <tr>\n",
       "      <th>2</th>\n",
       "      <td>WSW</td>\n",
       "      <td>46.0</td>\n",
       "      <td>W</td>\n",
       "      <td>WSW</td>\n",
       "      <td>19.0</td>\n",
       "      <td>26.0</td>\n",
       "    </tr>\n",
       "    <tr>\n",
       "      <th>3</th>\n",
       "      <td>NE</td>\n",
       "      <td>24.0</td>\n",
       "      <td>SE</td>\n",
       "      <td>E</td>\n",
       "      <td>11.0</td>\n",
       "      <td>9.0</td>\n",
       "    </tr>\n",
       "    <tr>\n",
       "      <th>4</th>\n",
       "      <td>W</td>\n",
       "      <td>41.0</td>\n",
       "      <td>ENE</td>\n",
       "      <td>NW</td>\n",
       "      <td>7.0</td>\n",
       "      <td>20.0</td>\n",
       "    </tr>\n",
       "  </tbody>\n",
       "</table>\n",
       "</div>"
      ],
      "text/plain": [
       "  WindGustDir  WindGustSpeed WindDir9am WindDir3pm  WindSpeed9am  WindSpeed3pm\n",
       "0           W           44.0          W        WNW          20.0          24.0\n",
       "1         WNW           44.0        NNW        WSW           4.0          22.0\n",
       "2         WSW           46.0          W        WSW          19.0          26.0\n",
       "3          NE           24.0         SE          E          11.0           9.0\n",
       "4           W           41.0        ENE         NW           7.0          20.0"
      ]
     },
     "execution_count": 58,
     "metadata": {},
     "output_type": "execute_result"
    }
   ],
   "source": [
    "columns_wind.head()"
   ]
  },
  {
   "cell_type": "markdown",
   "id": "019cb1c3",
   "metadata": {},
   "source": [
    "### Heat Map Wind"
   ]
  },
  {
   "cell_type": "code",
   "execution_count": 59,
   "id": "f19a9c08",
   "metadata": {},
   "outputs": [
    {
     "data": {
      "image/png": "[encoded data removed]",
      "text/plain": [
       "<Figure size 720x576 with 2 Axes>"
      ]
     },
     "metadata": {
      "needs_background": "light"
     },
     "output_type": "display_data"
    }
   ],
   "source": [
    "cols = [\"WindGustDir\",'WindGustSpeed','WindDir9am','WindDir3pm','WindSpeed9am','WindSpeed3pm']\n",
    "matriksKorelasiMM = df[cols].corr()\n",
    "plt.figure(figsize=(10,8))\n",
    "sns.heatmap(matriksKorelasiMM, cmap='Reds', annot=True, annot_kws={'fontsize':12})\n",
    "plt.show()"
   ]
  },
  {
   "cell_type": "markdown",
   "id": "6e8b6c1d",
   "metadata": {},
   "source": [
    "_keterangan_\n",
    "\n",
    "\n",
    "Korelasi Antar kolom Wind dengan RainTomorow."
   ]
  },
  {
   "cell_type": "markdown",
   "id": "bf351b12",
   "metadata": {},
   "source": [
    "#### Kesimpulan Korelasi Wind Ddengan RainTomorrow"
   ]
  },
  {
   "cell_type": "markdown",
   "id": "9092d627",
   "metadata": {},
   "source": [
    "Hasil kesimpulan korelasi diatas, menunjukan semua kolom berkorelasi kuat dengan RainTomorrow. Akan tetapi ada beberapa kolom independen yang mempuynai korelasi yang bisa dibilang sama kuatnya. Hal ini bisa mempengaruhi model. Kita akan menggunakan salah satu dari korelasi tersebut. Korelasi independen yang sama kuat adalah \n",
    "1. Windspeed9am dengan Windspeed3pm\n",
    "2. Windspeed9am dengan WindGustSpeed\n",
    "3. Windspeed3am dengan WindGustSpeed\n",
    "\n",
    "disini kita akan menghapus Windgustspeed9am. Karena korelasinya lebih rendah dari pada windspeed3pm dengan WindGustSpeed"
   ]
  },
  {
   "cell_type": "markdown",
   "id": "910c290c",
   "metadata": {},
   "source": [
    "## Humidity dengan RainTOmorrow"
   ]
  },
  {
   "cell_type": "markdown",
   "id": "9c97f901",
   "metadata": {},
   "source": [
    "### Heat Map Humidity"
   ]
  },
  {
   "cell_type": "code",
   "execution_count": 60,
   "id": "e004a24b",
   "metadata": {},
   "outputs": [
    {
     "data": {
      "image/png": "[encoded data removed]",
      "text/plain": [
       "<Figure size 720x576 with 2 Axes>"
      ]
     },
     "metadata": {
      "needs_background": "light"
     },
     "output_type": "display_data"
    }
   ],
   "source": [
    "cols = [\"Humidity9am\",\"Humidity3pm\",\"RainTomorrow\"]\n",
    "matriksKorelasiMM = df[cols].corr()\n",
    "plt.figure(figsize=(10,8))\n",
    "sns.heatmap(matriksKorelasiMM, cmap='Reds', annot=True, annot_kws={'fontsize':12})\n",
    "plt.show()"
   ]
  },
  {
   "cell_type": "markdown",
   "id": "162bac6d",
   "metadata": {},
   "source": [
    "_Keterangan_ :\n",
    "\n",
    "Korelasi antara humidity dengan RainTomorrow"
   ]
  },
  {
   "cell_type": "markdown",
   "id": "72de1032",
   "metadata": {},
   "source": [
    "#### Kesimpulan Dari Heatmap"
   ]
  },
  {
   "cell_type": "markdown",
   "id": "d5862492",
   "metadata": {},
   "source": [
    "Kesimpulan dari data diatas menunjukan, hubungan antara variabel independen dengna dependen mempunyai nilai 0.26 dan 0.44. Akan tetapi untuk variabel independennya memiliki korelasi yang sama sama kuat. Maka dari itu kita akan mengambil nilai korelasi yang kuat dengan target 1 saja. Kita akan mengambil Humidity3pm sebagai prediktornya"
   ]
  },
  {
   "cell_type": "markdown",
   "id": "655fd7bc",
   "metadata": {},
   "source": [
    "## Pressure dengan RainTomorrow"
   ]
  },
  {
   "cell_type": "markdown",
   "id": "a32575ed",
   "metadata": {},
   "source": [
    "### Heat map Pressure dengan RainTomorrow"
   ]
  },
  {
   "cell_type": "code",
   "execution_count": 61,
   "id": "7cca0009",
   "metadata": {},
   "outputs": [
    {
     "data": {
      "image/png": "[encoded data removed]",
      "text/plain": [
       "<Figure size 720x576 with 2 Axes>"
      ]
     },
     "metadata": {
      "needs_background": "light"
     },
     "output_type": "display_data"
    }
   ],
   "source": [
    "cols = [\"Pressure9am\",\"Pressure3pm\",\"RainTomorrow\"]\n",
    "matriksKorelasiMM = df[cols].corr()\n",
    "plt.figure(figsize=(10,8))\n",
    "sns.heatmap(matriksKorelasiMM, cmap='Reds', annot=True, annot_kws={'fontsize':12})\n",
    "plt.show()"
   ]
  },
  {
   "cell_type": "markdown",
   "id": "b7375931",
   "metadata": {},
   "source": [
    "#### Kesimpulan dari HeatMap"
   ]
  },
  {
   "cell_type": "markdown",
   "id": "5b8a5734",
   "metadata": {},
   "source": [
    "Kesimpulan dari heatmap diatas, variabel independen memiliki korelasi negatif dengan Raintomoorow. Akan tetapi sama halnya seperti Humidity. KOrelasi antar independenya sama sama kuat. Maka dari itu kita ambil salah satu yang korelasi dengan targetnya yang lebih kuat. Kita ambil Pressure3pm dengan korelasi -0.21 terhadap target untuk prediktornya"
   ]
  },
  {
   "cell_type": "markdown",
   "id": "e9040705",
   "metadata": {},
   "source": [
    "## Temp dengan RainTomorrow"
   ]
  },
  {
   "cell_type": "markdown",
   "id": "352c5200",
   "metadata": {},
   "source": [
    "### Heat Map Temp dengan Raintomorrow"
   ]
  },
  {
   "cell_type": "code",
   "execution_count": 62,
   "id": "a4f41b4d",
   "metadata": {},
   "outputs": [
    {
     "data": {
      "image/png": "[encoded data removed]",
      "text/plain": [
       "<Figure size 720x576 with 2 Axes>"
      ]
     },
     "metadata": {
      "needs_background": "light"
     },
     "output_type": "display_data"
    }
   ],
   "source": [
    "cols = [\"Temp9am\",\"Temp3pm\",\"RainTomorrow\"]\n",
    "matriksKorelasiMM = df[cols].corr()\n",
    "plt.figure(figsize=(10,8))\n",
    "sns.heatmap(matriksKorelasiMM, cmap='Reds', annot=True, annot_kws={'fontsize':12})\n",
    "plt.show()"
   ]
  },
  {
   "cell_type": "markdown",
   "id": "c155f094",
   "metadata": {},
   "source": [
    "#### Kesimpulan dari HeatMap TEmp dengan RainTomorrow"
   ]
  },
  {
   "cell_type": "markdown",
   "id": "62529ee2",
   "metadata": {},
   "source": [
    "Kesimpulan dari Korelasi diatas, sama seperti sebebelumnya, memiliki korelasi yang antar independen yang sama kuat yaitu 0.85. Tapi disini terlihat jelas bahwa Temp9am korelasinya sangat rendah dengan RainTomorrow. Maka dari itu kita mengambil Temp3pm untuk Cariabel Prediktornya"
   ]
  },
  {
   "cell_type": "markdown",
   "id": "e7249971",
   "metadata": {},
   "source": [
    "## Melihat MinMaxTemp, Temp dengan RainTomorrow"
   ]
  },
  {
   "cell_type": "markdown",
   "id": "e90f2396",
   "metadata": {},
   "source": [
    "Dikarenakan ada kesamaan arti antara MinTemp, MaxTemp, dengan Temp. Mari kita lihat dalam korelasi HeatMap"
   ]
  },
  {
   "cell_type": "code",
   "execution_count": 63,
   "id": "b365697d",
   "metadata": {},
   "outputs": [
    {
     "data": {
      "image/png": "[encoded data removed]",
      "text/plain": [
       "<Figure size 720x576 with 2 Axes>"
      ]
     },
     "metadata": {
      "needs_background": "light"
     },
     "output_type": "display_data"
    }
   ],
   "source": [
    "cols = [\"MinTemp\",\"MaxTemp\",\"Temp9am\",\"Temp3pm\",\"RainTomorrow\"]\n",
    "matriksKorelasiMM = df[cols].corr()\n",
    "plt.figure(figsize=(10,8))\n",
    "sns.heatmap(matriksKorelasiMM, cmap='Reds', annot=True, annot_kws={'fontsize':12})\n",
    "plt.show()"
   ]
  },
  {
   "cell_type": "markdown",
   "id": "14526868",
   "metadata": {},
   "source": [
    "Seperti yang kita duga, korelasi antara variabel independen sangatlah kuat. Hal ini dapat menyebabkan redudansi. Kita akan mengambil korelasi yang kuat saja yaitu Temp3pm -0.19 yang memiliki korelasi negatif kuat dari pada lainnya."
   ]
  },
  {
   "cell_type": "markdown",
   "id": "db9af33d",
   "metadata": {},
   "source": [
    "## Melihat korelasi kolom terpilih (numerikal)"
   ]
  },
  {
   "cell_type": "code",
   "execution_count": 64,
   "id": "e885234e",
   "metadata": {},
   "outputs": [
    {
     "data": {
      "image/png": "[encoded data removed]",
      "text/plain": [
       "<Figure size 720x576 with 2 Axes>"
      ]
     },
     "metadata": {
      "needs_background": "light"
     },
     "output_type": "display_data"
    }
   ],
   "source": [
    "cols = [\"Rainfall\",\"WindGustDir\",\"WindDir9am\",\"WindDir3pm\",\"WindSpeed3pm\",\"Humidity3pm\",\"Pressure3pm\",\"Temp3pm\",\"RainToday\",\"RainTomorrow\"]\n",
    "matriksKorelasiMM = df[cols].corr()\n",
    "plt.figure(figsize=(10,8))\n",
    "sns.heatmap(matriksKorelasiMM, cmap='Reds', annot=True, annot_kws={'fontsize':12})\n",
    "plt.show()"
   ]
  },
  {
   "cell_type": "markdown",
   "id": "3ca9c10f",
   "metadata": {},
   "source": [
    "# PreProcesing Data"
   ]
  },
  {
   "cell_type": "markdown",
   "id": "9f7804bd",
   "metadata": {},
   "source": [
    "## Balancing Data"
   ]
  },
  {
   "cell_type": "markdown",
   "id": "c9e79b23",
   "metadata": {},
   "source": [
    "Dikarenakan Jumlah pada Target \"NO\" Sangatlah tinggi. Sekarang kita akan lakukan UnderSampling pada data yang ada."
   ]
  },
  {
   "cell_type": "code",
   "execution_count": 65,
   "id": "655450df",
   "metadata": {},
   "outputs": [
    {
     "data": {
      "text/plain": [
       "0    110316\n",
       "1     31877\n",
       "Name: RainTomorrow, dtype: int64"
      ]
     },
     "execution_count": 65,
     "metadata": {},
     "output_type": "execute_result"
    }
   ],
   "source": [
    "countRT = df[\"RainTomorrow\"].value_counts()\n",
    "countRT"
   ]
  },
  {
   "cell_type": "markdown",
   "id": "94cbda4e",
   "metadata": {},
   "source": [
    "### UnderSampling"
   ]
  },
  {
   "cell_type": "code",
   "execution_count": 66,
   "id": "4c527996",
   "metadata": {},
   "outputs": [
    {
     "data": {
      "text/plain": [
       "31877"
      ]
     },
     "execution_count": 66,
     "metadata": {},
     "output_type": "execute_result"
    }
   ],
   "source": [
    "n = min(countRT)\n",
    "n"
   ]
  },
  {
   "cell_type": "markdown",
   "id": "a22e17a3",
   "metadata": {},
   "source": [
    "Setelah kita mendapatkan nilai N untuk nilai terkecil, skrg kita pisahkan YUes dan No untuk mendapatkan N yang sama"
   ]
  },
  {
   "cell_type": "code",
   "execution_count": 67,
   "id": "cb02cdf3",
   "metadata": {},
   "outputs": [],
   "source": [
    "subset_yes = df[df['RainTomorrow'] == 1].sample(n=31877, random_state=42)\n",
    "subset_no = df[df['RainTomorrow'] == 0].sample(n=31877, random_state=42)"
   ]
  },
  {
   "cell_type": "code",
   "execution_count": 68,
   "id": "25cc3203",
   "metadata": {},
   "outputs": [],
   "source": [
    "new_df = pd.concat([subset_yes, subset_no])"
   ]
  },
  {
   "cell_type": "code",
   "execution_count": 69,
   "id": "becbe348",
   "metadata": {},
   "outputs": [
    {
     "data": {
      "text/html": [
       "<div>\n",
       "<style scoped>\n",
       "    .dataframe tbody tr th:only-of-type {\n",
       "        vertical-align: middle;\n",
       "    }\n",
       "\n",
       "    .dataframe tbody tr th {\n",
       "        vertical-align: top;\n",
       "    }\n",
       "\n",
       "    .dataframe thead th {\n",
       "        text-align: right;\n",
       "    }\n",
       "</style>\n",
       "<table border=\"1\" class=\"dataframe\">\n",
       "  <thead>\n",
       "    <tr style=\"text-align: right;\">\n",
       "      <th></th>\n",
       "      <th>Date</th>\n",
       "      <th>Location</th>\n",
       "      <th>MinTemp</th>\n",
       "      <th>MaxTemp</th>\n",
       "      <th>Rainfall</th>\n",
       "      <th>WindGustDir</th>\n",
       "      <th>WindGustSpeed</th>\n",
       "      <th>WindDir9am</th>\n",
       "      <th>WindDir3pm</th>\n",
       "      <th>WindSpeed9am</th>\n",
       "      <th>WindSpeed3pm</th>\n",
       "      <th>Humidity9am</th>\n",
       "      <th>Humidity3pm</th>\n",
       "      <th>Pressure9am</th>\n",
       "      <th>Pressure3pm</th>\n",
       "      <th>Temp9am</th>\n",
       "      <th>Temp3pm</th>\n",
       "      <th>RainToday</th>\n",
       "      <th>RainTomorrow</th>\n",
       "    </tr>\n",
       "  </thead>\n",
       "  <tbody>\n",
       "    <tr>\n",
       "      <th>126713</th>\n",
       "      <td>2017-02-27</td>\n",
       "      <td>SalmonGums</td>\n",
       "      <td>17.2</td>\n",
       "      <td>26.0</td>\n",
       "      <td>0.6</td>\n",
       "      <td>112.5</td>\n",
       "      <td>44.0</td>\n",
       "      <td>157.5</td>\n",
       "      <td>135.0</td>\n",
       "      <td>11.0</td>\n",
       "      <td>13.0</td>\n",
       "      <td>85.0</td>\n",
       "      <td>64.0</td>\n",
       "      <td>1017.653758</td>\n",
       "      <td>1015.258204</td>\n",
       "      <td>18.8</td>\n",
       "      <td>25.0</td>\n",
       "      <td>0</td>\n",
       "      <td>1</td>\n",
       "    </tr>\n",
       "    <tr>\n",
       "      <th>120998</th>\n",
       "      <td>2009-06-26</td>\n",
       "      <td>Perth</td>\n",
       "      <td>9.5</td>\n",
       "      <td>16.6</td>\n",
       "      <td>0.6</td>\n",
       "      <td>22.5</td>\n",
       "      <td>41.0</td>\n",
       "      <td>45.0</td>\n",
       "      <td>0.0</td>\n",
       "      <td>11.0</td>\n",
       "      <td>15.0</td>\n",
       "      <td>89.0</td>\n",
       "      <td>86.0</td>\n",
       "      <td>1009.100000</td>\n",
       "      <td>1004.700000</td>\n",
       "      <td>12.8</td>\n",
       "      <td>15.9</td>\n",
       "      <td>0</td>\n",
       "      <td>1</td>\n",
       "    </tr>\n",
       "    <tr>\n",
       "      <th>20516</th>\n",
       "      <td>2015-11-01</td>\n",
       "      <td>NorahHead</td>\n",
       "      <td>17.0</td>\n",
       "      <td>23.4</td>\n",
       "      <td>0.0</td>\n",
       "      <td>45.0</td>\n",
       "      <td>50.0</td>\n",
       "      <td>22.5</td>\n",
       "      <td>45.0</td>\n",
       "      <td>17.0</td>\n",
       "      <td>35.0</td>\n",
       "      <td>86.0</td>\n",
       "      <td>82.0</td>\n",
       "      <td>1015.700000</td>\n",
       "      <td>1010.900000</td>\n",
       "      <td>20.2</td>\n",
       "      <td>22.2</td>\n",
       "      <td>0</td>\n",
       "      <td>1</td>\n",
       "    </tr>\n",
       "    <tr>\n",
       "      <th>63805</th>\n",
       "      <td>2016-06-05</td>\n",
       "      <td>Sale</td>\n",
       "      <td>11.3</td>\n",
       "      <td>14.9</td>\n",
       "      <td>9.6</td>\n",
       "      <td>270.0</td>\n",
       "      <td>35.0</td>\n",
       "      <td>135.0</td>\n",
       "      <td>157.5</td>\n",
       "      <td>9.0</td>\n",
       "      <td>6.0</td>\n",
       "      <td>99.0</td>\n",
       "      <td>98.0</td>\n",
       "      <td>1007.000000</td>\n",
       "      <td>1003.000000</td>\n",
       "      <td>12.0</td>\n",
       "      <td>14.0</td>\n",
       "      <td>1</td>\n",
       "      <td>1</td>\n",
       "    </tr>\n",
       "    <tr>\n",
       "      <th>41951</th>\n",
       "      <td>2015-11-08</td>\n",
       "      <td>Williamtown</td>\n",
       "      <td>16.1</td>\n",
       "      <td>19.9</td>\n",
       "      <td>11.4</td>\n",
       "      <td>180.0</td>\n",
       "      <td>41.0</td>\n",
       "      <td>202.5</td>\n",
       "      <td>90.0</td>\n",
       "      <td>22.0</td>\n",
       "      <td>15.0</td>\n",
       "      <td>83.0</td>\n",
       "      <td>79.0</td>\n",
       "      <td>1019.900000</td>\n",
       "      <td>1019.600000</td>\n",
       "      <td>17.7</td>\n",
       "      <td>18.5</td>\n",
       "      <td>1</td>\n",
       "      <td>1</td>\n",
       "    </tr>\n",
       "  </tbody>\n",
       "</table>\n",
       "</div>"
      ],
      "text/plain": [
       "             Date     Location  MinTemp  MaxTemp  Rainfall  WindGustDir  \\\n",
       "126713 2017-02-27   SalmonGums     17.2     26.0       0.6        112.5   \n",
       "120998 2009-06-26        Perth      9.5     16.6       0.6         22.5   \n",
       "20516  2015-11-01    NorahHead     17.0     23.4       0.0         45.0   \n",
       "63805  2016-06-05         Sale     11.3     14.9       9.6        270.0   \n",
       "41951  2015-11-08  Williamtown     16.1     19.9      11.4        180.0   \n",
       "\n",
       "        WindGustSpeed  WindDir9am  WindDir3pm  WindSpeed9am  WindSpeed3pm  \\\n",
       "126713           44.0       157.5       135.0          11.0          13.0   \n",
       "120998           41.0        45.0         0.0          11.0          15.0   \n",
       "20516            50.0        22.5        45.0          17.0          35.0   \n",
       "63805            35.0       135.0       157.5           9.0           6.0   \n",
       "41951            41.0       202.5        90.0          22.0          15.0   \n",
       "\n",
       "        Humidity9am  Humidity3pm  Pressure9am  Pressure3pm  Temp9am  Temp3pm  \\\n",
       "126713         85.0         64.0  1017.653758  1015.258204     18.8     25.0   \n",
       "120998         89.0         86.0  1009.100000  1004.700000     12.8     15.9   \n",
       "20516          86.0         82.0  1015.700000  1010.900000     20.2     22.2   \n",
       "63805          99.0         98.0  1007.000000  1003.000000     12.0     14.0   \n",
       "41951          83.0         79.0  1019.900000  1019.600000     17.7     18.5   \n",
       "\n",
       "        RainToday  RainTomorrow  \n",
       "126713          0             1  \n",
       "120998          0             1  \n",
       "20516           0             1  \n",
       "63805           1             1  \n",
       "41951           1             1  "
      ]
     },
     "execution_count": 69,
     "metadata": {},
     "output_type": "execute_result"
    }
   ],
   "source": [
    "new_df.head()"
   ]
  },
  {
   "cell_type": "code",
   "execution_count": 70,
   "id": "6b39f98a",
   "metadata": {},
   "outputs": [
    {
     "data": {
      "text/plain": [
       "1    31877\n",
       "0    31877\n",
       "Name: RainTomorrow, dtype: int64"
      ]
     },
     "execution_count": 70,
     "metadata": {},
     "output_type": "execute_result"
    }
   ],
   "source": [
    "new_df[\"RainTomorrow\"].value_counts()"
   ]
  },
  {
   "cell_type": "code",
   "execution_count": 71,
   "id": "f7817807",
   "metadata": {},
   "outputs": [
    {
     "data": {
      "text/plain": [
       "(63754, 19)"
      ]
     },
     "execution_count": 71,
     "metadata": {},
     "output_type": "execute_result"
    }
   ],
   "source": [
    "new_df.shape"
   ]
  },
  {
   "cell_type": "markdown",
   "id": "f1599d8d",
   "metadata": {},
   "source": [
    "Proses Undersampling sudah selesai, jumlah data menjadi balance."
   ]
  },
  {
   "cell_type": "markdown",
   "id": "21c6fe44",
   "metadata": {},
   "source": [
    "## Mengubah kolom location (kota) menjadi location(daerah)"
   ]
  },
  {
   "cell_type": "markdown",
   "id": "d2876695",
   "metadata": {},
   "source": [
    "### Pengubahan"
   ]
  },
  {
   "cell_type": "markdown",
   "id": "8cd51557",
   "metadata": {},
   "source": [
    "Pada EDA Location terhadap RainTomorrow, kami membuat 2 versi, yarni berdasarkan kota dan satunya perdaerah. Untuk jumlah kotanya sendiri ada 49 kota dan itu sangatla banyak. Skrg kita akan ubah menjadi 4 kolom saja yang nantinya akan beriskan 1 dan 0 jika data tersebut ada di kota daerah tertentu"
   ]
  },
  {
   "cell_type": "code",
   "execution_count": 72,
   "id": "dbc9e85d",
   "metadata": {},
   "outputs": [],
   "source": [
    "# Membuat dictionary yang berisi mapping antara kota dan provinsi\n",
    "city_to_province = {\n",
    "    'Albury': 'New South Wales',\n",
    "    'Badgerys Creek': 'New South Wales',\n",
    "    'Cobar': 'New South Wales',\n",
    "    'Coffs Harbour': 'New South Wales',\n",
    "    'Newcastle': 'New South Wales',\n",
    "    'Norah Head': 'New South Wales',\n",
    "    'Penrith': 'New South Wales',\n",
    "    'Richmond': 'New South Wales',\n",
    "    'Sydney': 'New South Wales',\n",
    "    'SydneyAirport': 'New South Wales',\n",
    "    'Wagga Wagga': 'New South Wales',\n",
    "    'Williamtown': 'New South Wales',\n",
    "    'Wollongong': 'New South Wales',\n",
    "    'Canberra': 'Australian Capital Territory',\n",
    "    'Tuggeranong': 'Australian Capital Territory',\n",
    "    'Ballarat': 'Victoria',\n",
    "    'Bendigo': 'Victoria',\n",
    "    'Sale': 'Victoria',\n",
    "    'MelbourneAirport': 'Victoria',\n",
    "    'Melbourne': 'Victoria',\n",
    "    'Mildura': 'Victoria',\n",
    "    'Nhil': 'Victoria',\n",
    "    'Portland': 'Victoria',\n",
    "    'Watsonia': 'Victoria',\n",
    "    'Dartmoor': 'Victoria',\n",
    "    'Brisbane': 'Queensland',\n",
    "    'Cairns': 'Queensland',\n",
    "    'GoldCoast': 'Queensland',\n",
    "    'Townsville': 'Queensland',\n",
    "    'Adelaide': 'South Australia',\n",
    "    'MountGambier': 'South Australia',\n",
    "    'Nuriootpa': 'South Australia',\n",
    "    'Woomera': 'South Australia',\n",
    "    'Albany': 'Western Australia',\n",
    "    'Witchcliffe': 'Western Australia',\n",
    "    'PearceRAAF': 'Western Australia',\n",
    "    'PerthAirport': 'Western Australia',\n",
    "    'Perth': 'Western Australia',\n",
    "    'SalmonGums': 'Western Australia',\n",
    "    'Walpole': 'Western Australia',\n",
    "    'Hobart': 'Tasmania',\n",
    "    'Launceston': 'Tasmania',\n",
    "    'Darwin': 'Northern Territory',\n",
    "    'Katherine': 'Northern Territory',\n",
    "    'Uluru': 'Northern Territory'\n",
    "}\n",
    "\n",
    "# Menambahkan kolom 'Location_Province' berdasarkan mapping dari dictionary\n",
    "new_df['Location_Province'] = new_df['Location'].map(city_to_province)\n",
    "\n",
    "# Melakukan One-Hot Encoding pada kolom 'location_province'\n",
    "df_encoded = pd.get_dummies(new_df['Location_Province'])\n",
    "\n",
    "# Menggabungkan kolom-kolom yang merepresentasikan provinsi yang sama\n",
    "df_encoded['New South Wales'] = df_encoded[['New South Wales', 'Australian Capital Territory']].max(axis=1)\n",
    "df_encoded['Victoria'] = df_encoded[['Victoria', 'Northern Territory']].max(axis=1)\n",
    "\n",
    "# Menggabungkan DataFrame hasil One-Hot Encoding dengan DataFrame awal\n",
    "new_df = pd.concat([new_df, df_encoded], axis=1)\n",
    "\n",
    "# Menghapus kolom 'Location_Province' dan 'Location' yang tidak diperlukan\n",
    "new_df.drop(['Location_Province', 'Location'], axis=1, inplace=True)"
   ]
  },
  {
   "cell_type": "code",
   "execution_count": 73,
   "id": "b14a4784",
   "metadata": {},
   "outputs": [
    {
     "data": {
      "text/html": [
       "<div>\n",
       "<style scoped>\n",
       "    .dataframe tbody tr th:only-of-type {\n",
       "        vertical-align: middle;\n",
       "    }\n",
       "\n",
       "    .dataframe tbody tr th {\n",
       "        vertical-align: top;\n",
       "    }\n",
       "\n",
       "    .dataframe thead th {\n",
       "        text-align: right;\n",
       "    }\n",
       "</style>\n",
       "<table border=\"1\" class=\"dataframe\">\n",
       "  <thead>\n",
       "    <tr style=\"text-align: right;\">\n",
       "      <th></th>\n",
       "      <th>Date</th>\n",
       "      <th>MinTemp</th>\n",
       "      <th>MaxTemp</th>\n",
       "      <th>Rainfall</th>\n",
       "      <th>WindGustDir</th>\n",
       "      <th>WindGustSpeed</th>\n",
       "      <th>WindDir9am</th>\n",
       "      <th>WindDir3pm</th>\n",
       "      <th>WindSpeed9am</th>\n",
       "      <th>WindSpeed3pm</th>\n",
       "      <th>Humidity9am</th>\n",
       "      <th>Humidity3pm</th>\n",
       "      <th>Pressure9am</th>\n",
       "      <th>Pressure3pm</th>\n",
       "      <th>Temp9am</th>\n",
       "      <th>Temp3pm</th>\n",
       "      <th>RainToday</th>\n",
       "      <th>RainTomorrow</th>\n",
       "      <th>Australian Capital Territory</th>\n",
       "      <th>New South Wales</th>\n",
       "      <th>Northern Territory</th>\n",
       "      <th>Queensland</th>\n",
       "      <th>South Australia</th>\n",
       "      <th>Tasmania</th>\n",
       "      <th>Victoria</th>\n",
       "      <th>Western Australia</th>\n",
       "    </tr>\n",
       "  </thead>\n",
       "  <tbody>\n",
       "    <tr>\n",
       "      <th>126713</th>\n",
       "      <td>2017-02-27</td>\n",
       "      <td>17.2</td>\n",
       "      <td>26.0</td>\n",
       "      <td>0.6</td>\n",
       "      <td>112.5</td>\n",
       "      <td>44.0</td>\n",
       "      <td>157.5</td>\n",
       "      <td>135.0</td>\n",
       "      <td>11.0</td>\n",
       "      <td>13.0</td>\n",
       "      <td>85.0</td>\n",
       "      <td>64.0</td>\n",
       "      <td>1017.653758</td>\n",
       "      <td>1015.258204</td>\n",
       "      <td>18.8</td>\n",
       "      <td>25.0</td>\n",
       "      <td>0</td>\n",
       "      <td>1</td>\n",
       "      <td>0</td>\n",
       "      <td>0</td>\n",
       "      <td>0</td>\n",
       "      <td>0</td>\n",
       "      <td>0</td>\n",
       "      <td>0</td>\n",
       "      <td>0</td>\n",
       "      <td>1</td>\n",
       "    </tr>\n",
       "    <tr>\n",
       "      <th>120998</th>\n",
       "      <td>2009-06-26</td>\n",
       "      <td>9.5</td>\n",
       "      <td>16.6</td>\n",
       "      <td>0.6</td>\n",
       "      <td>22.5</td>\n",
       "      <td>41.0</td>\n",
       "      <td>45.0</td>\n",
       "      <td>0.0</td>\n",
       "      <td>11.0</td>\n",
       "      <td>15.0</td>\n",
       "      <td>89.0</td>\n",
       "      <td>86.0</td>\n",
       "      <td>1009.100000</td>\n",
       "      <td>1004.700000</td>\n",
       "      <td>12.8</td>\n",
       "      <td>15.9</td>\n",
       "      <td>0</td>\n",
       "      <td>1</td>\n",
       "      <td>0</td>\n",
       "      <td>0</td>\n",
       "      <td>0</td>\n",
       "      <td>0</td>\n",
       "      <td>0</td>\n",
       "      <td>0</td>\n",
       "      <td>0</td>\n",
       "      <td>1</td>\n",
       "    </tr>\n",
       "    <tr>\n",
       "      <th>20516</th>\n",
       "      <td>2015-11-01</td>\n",
       "      <td>17.0</td>\n",
       "      <td>23.4</td>\n",
       "      <td>0.0</td>\n",
       "      <td>45.0</td>\n",
       "      <td>50.0</td>\n",
       "      <td>22.5</td>\n",
       "      <td>45.0</td>\n",
       "      <td>17.0</td>\n",
       "      <td>35.0</td>\n",
       "      <td>86.0</td>\n",
       "      <td>82.0</td>\n",
       "      <td>1015.700000</td>\n",
       "      <td>1010.900000</td>\n",
       "      <td>20.2</td>\n",
       "      <td>22.2</td>\n",
       "      <td>0</td>\n",
       "      <td>1</td>\n",
       "      <td>0</td>\n",
       "      <td>0</td>\n",
       "      <td>0</td>\n",
       "      <td>0</td>\n",
       "      <td>0</td>\n",
       "      <td>0</td>\n",
       "      <td>0</td>\n",
       "      <td>0</td>\n",
       "    </tr>\n",
       "    <tr>\n",
       "      <th>63805</th>\n",
       "      <td>2016-06-05</td>\n",
       "      <td>11.3</td>\n",
       "      <td>14.9</td>\n",
       "      <td>9.6</td>\n",
       "      <td>270.0</td>\n",
       "      <td>35.0</td>\n",
       "      <td>135.0</td>\n",
       "      <td>157.5</td>\n",
       "      <td>9.0</td>\n",
       "      <td>6.0</td>\n",
       "      <td>99.0</td>\n",
       "      <td>98.0</td>\n",
       "      <td>1007.000000</td>\n",
       "      <td>1003.000000</td>\n",
       "      <td>12.0</td>\n",
       "      <td>14.0</td>\n",
       "      <td>1</td>\n",
       "      <td>1</td>\n",
       "      <td>0</td>\n",
       "      <td>0</td>\n",
       "      <td>0</td>\n",
       "      <td>0</td>\n",
       "      <td>0</td>\n",
       "      <td>0</td>\n",
       "      <td>1</td>\n",
       "      <td>0</td>\n",
       "    </tr>\n",
       "    <tr>\n",
       "      <th>41951</th>\n",
       "      <td>2015-11-08</td>\n",
       "      <td>16.1</td>\n",
       "      <td>19.9</td>\n",
       "      <td>11.4</td>\n",
       "      <td>180.0</td>\n",
       "      <td>41.0</td>\n",
       "      <td>202.5</td>\n",
       "      <td>90.0</td>\n",
       "      <td>22.0</td>\n",
       "      <td>15.0</td>\n",
       "      <td>83.0</td>\n",
       "      <td>79.0</td>\n",
       "      <td>1019.900000</td>\n",
       "      <td>1019.600000</td>\n",
       "      <td>17.7</td>\n",
       "      <td>18.5</td>\n",
       "      <td>1</td>\n",
       "      <td>1</td>\n",
       "      <td>0</td>\n",
       "      <td>1</td>\n",
       "      <td>0</td>\n",
       "      <td>0</td>\n",
       "      <td>0</td>\n",
       "      <td>0</td>\n",
       "      <td>0</td>\n",
       "      <td>0</td>\n",
       "    </tr>\n",
       "  </tbody>\n",
       "</table>\n",
       "</div>"
      ],
      "text/plain": [
       "             Date  MinTemp  MaxTemp  Rainfall  WindGustDir  WindGustSpeed  \\\n",
       "126713 2017-02-27     17.2     26.0       0.6        112.5           44.0   \n",
       "120998 2009-06-26      9.5     16.6       0.6         22.5           41.0   \n",
       "20516  2015-11-01     17.0     23.4       0.0         45.0           50.0   \n",
       "63805  2016-06-05     11.3     14.9       9.6        270.0           35.0   \n",
       "41951  2015-11-08     16.1     19.9      11.4        180.0           41.0   \n",
       "\n",
       "        WindDir9am  WindDir3pm  WindSpeed9am  WindSpeed3pm  Humidity9am  \\\n",
       "126713       157.5       135.0          11.0          13.0         85.0   \n",
       "120998        45.0         0.0          11.0          15.0         89.0   \n",
       "20516         22.5        45.0          17.0          35.0         86.0   \n",
       "63805        135.0       157.5           9.0           6.0         99.0   \n",
       "41951        202.5        90.0          22.0          15.0         83.0   \n",
       "\n",
       "        Humidity3pm  Pressure9am  Pressure3pm  Temp9am  Temp3pm  RainToday  \\\n",
       "126713         64.0  1017.653758  1015.258204     18.8     25.0          0   \n",
       "120998         86.0  1009.100000  1004.700000     12.8     15.9          0   \n",
       "20516          82.0  1015.700000  1010.900000     20.2     22.2          0   \n",
       "63805          98.0  1007.000000  1003.000000     12.0     14.0          1   \n",
       "41951          79.0  1019.900000  1019.600000     17.7     18.5          1   \n",
       "\n",
       "        RainTomorrow  Australian Capital Territory  New South Wales  \\\n",
       "126713             1                             0                0   \n",
       "120998             1                             0                0   \n",
       "20516              1                             0                0   \n",
       "63805              1                             0                0   \n",
       "41951              1                             0                1   \n",
       "\n",
       "        Northern Territory  Queensland  South Australia  Tasmania  Victoria  \\\n",
       "126713                   0           0                0         0         0   \n",
       "120998                   0           0                0         0         0   \n",
       "20516                    0           0                0         0         0   \n",
       "63805                    0           0                0         0         1   \n",
       "41951                    0           0                0         0         0   \n",
       "\n",
       "        Western Australia  \n",
       "126713                  1  \n",
       "120998                  1  \n",
       "20516                   0  \n",
       "63805                   0  \n",
       "41951                   0  "
      ]
     },
     "execution_count": 73,
     "metadata": {},
     "output_type": "execute_result"
    }
   ],
   "source": [
    "new_df.head()"
   ]
  },
  {
   "cell_type": "markdown",
   "id": "9e0f02f2",
   "metadata": {},
   "source": [
    "## Drop Kolom yang tidak dibutuhkan"
   ]
  },
  {
   "cell_type": "code",
   "execution_count": 74,
   "id": "a0f1f637",
   "metadata": {},
   "outputs": [],
   "source": [
    "df_model=new_df.loc[:,[\"Rainfall\",\"WindGustDir\",\"WindDir9am\",\"WindDir3pm\",\"WindSpeed3pm\",\"Humidity3pm\",\"Pressure3pm\",\"Temp3pm\",\"RainToday\",\"RainTomorrow\",\"Australian Capital Territory\",\"Northern Territory\",\"Queensland\",\"South Australia\",\"Tasmania\",\"Victoria\",\"Western Australia\"]]\n"
   ]
  },
  {
   "cell_type": "code",
   "execution_count": 75,
   "id": "4f31def2",
   "metadata": {},
   "outputs": [
    {
     "data": {
      "text/html": [
       "<div>\n",
       "<style scoped>\n",
       "    .dataframe tbody tr th:only-of-type {\n",
       "        vertical-align: middle;\n",
       "    }\n",
       "\n",
       "    .dataframe tbody tr th {\n",
       "        vertical-align: top;\n",
       "    }\n",
       "\n",
       "    .dataframe thead th {\n",
       "        text-align: right;\n",
       "    }\n",
       "</style>\n",
       "<table border=\"1\" class=\"dataframe\">\n",
       "  <thead>\n",
       "    <tr style=\"text-align: right;\">\n",
       "      <th></th>\n",
       "      <th>Rainfall</th>\n",
       "      <th>WindGustDir</th>\n",
       "      <th>WindDir9am</th>\n",
       "      <th>WindDir3pm</th>\n",
       "      <th>WindSpeed3pm</th>\n",
       "      <th>Humidity3pm</th>\n",
       "      <th>Pressure3pm</th>\n",
       "      <th>Temp3pm</th>\n",
       "      <th>RainToday</th>\n",
       "      <th>RainTomorrow</th>\n",
       "      <th>Australian Capital Territory</th>\n",
       "      <th>Northern Territory</th>\n",
       "      <th>Queensland</th>\n",
       "      <th>South Australia</th>\n",
       "      <th>Tasmania</th>\n",
       "      <th>Victoria</th>\n",
       "      <th>Western Australia</th>\n",
       "    </tr>\n",
       "  </thead>\n",
       "  <tbody>\n",
       "    <tr>\n",
       "      <th>126713</th>\n",
       "      <td>0.6</td>\n",
       "      <td>112.5</td>\n",
       "      <td>157.5</td>\n",
       "      <td>135.0</td>\n",
       "      <td>13.0</td>\n",
       "      <td>64.0</td>\n",
       "      <td>1015.258204</td>\n",
       "      <td>25.0</td>\n",
       "      <td>0</td>\n",
       "      <td>1</td>\n",
       "      <td>0</td>\n",
       "      <td>0</td>\n",
       "      <td>0</td>\n",
       "      <td>0</td>\n",
       "      <td>0</td>\n",
       "      <td>0</td>\n",
       "      <td>1</td>\n",
       "    </tr>\n",
       "    <tr>\n",
       "      <th>120998</th>\n",
       "      <td>0.6</td>\n",
       "      <td>22.5</td>\n",
       "      <td>45.0</td>\n",
       "      <td>0.0</td>\n",
       "      <td>15.0</td>\n",
       "      <td>86.0</td>\n",
       "      <td>1004.700000</td>\n",
       "      <td>15.9</td>\n",
       "      <td>0</td>\n",
       "      <td>1</td>\n",
       "      <td>0</td>\n",
       "      <td>0</td>\n",
       "      <td>0</td>\n",
       "      <td>0</td>\n",
       "      <td>0</td>\n",
       "      <td>0</td>\n",
       "      <td>1</td>\n",
       "    </tr>\n",
       "    <tr>\n",
       "      <th>20516</th>\n",
       "      <td>0.0</td>\n",
       "      <td>45.0</td>\n",
       "      <td>22.5</td>\n",
       "      <td>45.0</td>\n",
       "      <td>35.0</td>\n",
       "      <td>82.0</td>\n",
       "      <td>1010.900000</td>\n",
       "      <td>22.2</td>\n",
       "      <td>0</td>\n",
       "      <td>1</td>\n",
       "      <td>0</td>\n",
       "      <td>0</td>\n",
       "      <td>0</td>\n",
       "      <td>0</td>\n",
       "      <td>0</td>\n",
       "      <td>0</td>\n",
       "      <td>0</td>\n",
       "    </tr>\n",
       "    <tr>\n",
       "      <th>63805</th>\n",
       "      <td>9.6</td>\n",
       "      <td>270.0</td>\n",
       "      <td>135.0</td>\n",
       "      <td>157.5</td>\n",
       "      <td>6.0</td>\n",
       "      <td>98.0</td>\n",
       "      <td>1003.000000</td>\n",
       "      <td>14.0</td>\n",
       "      <td>1</td>\n",
       "      <td>1</td>\n",
       "      <td>0</td>\n",
       "      <td>0</td>\n",
       "      <td>0</td>\n",
       "      <td>0</td>\n",
       "      <td>0</td>\n",
       "      <td>1</td>\n",
       "      <td>0</td>\n",
       "    </tr>\n",
       "    <tr>\n",
       "      <th>41951</th>\n",
       "      <td>11.4</td>\n",
       "      <td>180.0</td>\n",
       "      <td>202.5</td>\n",
       "      <td>90.0</td>\n",
       "      <td>15.0</td>\n",
       "      <td>79.0</td>\n",
       "      <td>1019.600000</td>\n",
       "      <td>18.5</td>\n",
       "      <td>1</td>\n",
       "      <td>1</td>\n",
       "      <td>0</td>\n",
       "      <td>0</td>\n",
       "      <td>0</td>\n",
       "      <td>0</td>\n",
       "      <td>0</td>\n",
       "      <td>0</td>\n",
       "      <td>0</td>\n",
       "    </tr>\n",
       "  </tbody>\n",
       "</table>\n",
       "</div>"
      ],
      "text/plain": [
       "        Rainfall  WindGustDir  WindDir9am  WindDir3pm  WindSpeed3pm  \\\n",
       "126713       0.6        112.5       157.5       135.0          13.0   \n",
       "120998       0.6         22.5        45.0         0.0          15.0   \n",
       "20516        0.0         45.0        22.5        45.0          35.0   \n",
       "63805        9.6        270.0       135.0       157.5           6.0   \n",
       "41951       11.4        180.0       202.5        90.0          15.0   \n",
       "\n",
       "        Humidity3pm  Pressure3pm  Temp3pm  RainToday  RainTomorrow  \\\n",
       "126713         64.0  1015.258204     25.0          0             1   \n",
       "120998         86.0  1004.700000     15.9          0             1   \n",
       "20516          82.0  1010.900000     22.2          0             1   \n",
       "63805          98.0  1003.000000     14.0          1             1   \n",
       "41951          79.0  1019.600000     18.5          1             1   \n",
       "\n",
       "        Australian Capital Territory  Northern Territory  Queensland  \\\n",
       "126713                             0                   0           0   \n",
       "120998                             0                   0           0   \n",
       "20516                              0                   0           0   \n",
       "63805                              0                   0           0   \n",
       "41951                              0                   0           0   \n",
       "\n",
       "        South Australia  Tasmania  Victoria  Western Australia  \n",
       "126713                0         0         0                  1  \n",
       "120998                0         0         0                  1  \n",
       "20516                 0         0         0                  0  \n",
       "63805                 0         0         1                  0  \n",
       "41951                 0         0         0                  0  "
      ]
     },
     "execution_count": 75,
     "metadata": {},
     "output_type": "execute_result"
    }
   ],
   "source": [
    "df_model.head()"
   ]
  },
  {
   "cell_type": "markdown",
   "id": "7cc442e3",
   "metadata": {},
   "source": [
    "## Standart Scaler data"
   ]
  },
  {
   "cell_type": "code",
   "execution_count": 76,
   "id": "60850e69",
   "metadata": {},
   "outputs": [
    {
     "name": "stdout",
     "output_type": "stream",
     "text": [
      "<class 'pandas.core.frame.DataFrame'>\n",
      "Int64Index: 63754 entries, 126713 to 652\n",
      "Data columns (total 17 columns):\n",
      " #   Column                        Non-Null Count  Dtype  \n",
      "---  ------                        --------------  -----  \n",
      " 0   Rainfall                      63754 non-null  float64\n",
      " 1   WindGustDir                   63754 non-null  float64\n",
      " 2   WindDir9am                    63754 non-null  float64\n",
      " 3   WindDir3pm                    63754 non-null  float64\n",
      " 4   WindSpeed3pm                  63754 non-null  float64\n",
      " 5   Humidity3pm                   63754 non-null  float64\n",
      " 6   Pressure3pm                   63754 non-null  float64\n",
      " 7   Temp3pm                       63754 non-null  float64\n",
      " 8   RainToday                     63754 non-null  int32  \n",
      " 9   RainTomorrow                  63754 non-null  int32  \n",
      " 10  Australian Capital Territory  63754 non-null  uint8  \n",
      " 11  Northern Territory            63754 non-null  uint8  \n",
      " 12  Queensland                    63754 non-null  uint8  \n",
      " 13  South Australia               63754 non-null  uint8  \n",
      " 14  Tasmania                      63754 non-null  uint8  \n",
      " 15  Victoria                      63754 non-null  uint8  \n",
      " 16  Western Australia             63754 non-null  uint8  \n",
      "dtypes: float64(8), int32(2), uint8(7)\n",
      "memory usage: 5.3 MB\n"
     ]
    }
   ],
   "source": [
    "df_model.info()"
   ]
  },
  {
   "cell_type": "code",
   "execution_count": 77,
   "id": "97a59233",
   "metadata": {},
   "outputs": [],
   "source": [
    "scaler = StandardScaler()"
   ]
  },
  {
   "cell_type": "code",
   "execution_count": 78,
   "id": "17c39a4f",
   "metadata": {},
   "outputs": [],
   "source": [
    "from sklearn.preprocessing import StandardScaler\n",
    "\n",
    "# define the scaler\n",
    "scaler = StandardScaler()\n",
    "\n",
    "# fit and transform the data\n",
    "df_model[['Rainfall', 'WindGustDir', 'WindDir9am', 'WindDir3pm', 'WindSpeed3pm', 'Humidity3pm', 'Pressure3pm', 'Temp3pm']] = scaler.fit_transform(df_model[['Rainfall', 'WindGustDir', 'WindDir9am', 'WindDir3pm', 'WindSpeed3pm', 'Humidity3pm', 'Pressure3pm', 'Temp3pm']])\n"
   ]
  },
  {
   "cell_type": "code",
   "execution_count": 79,
   "id": "27f159c8",
   "metadata": {},
   "outputs": [
    {
     "data": {
      "text/html": [
       "<div>\n",
       "<style scoped>\n",
       "    .dataframe tbody tr th:only-of-type {\n",
       "        vertical-align: middle;\n",
       "    }\n",
       "\n",
       "    .dataframe tbody tr th {\n",
       "        vertical-align: top;\n",
       "    }\n",
       "\n",
       "    .dataframe thead th {\n",
       "        text-align: right;\n",
       "    }\n",
       "</style>\n",
       "<table border=\"1\" class=\"dataframe\">\n",
       "  <thead>\n",
       "    <tr style=\"text-align: right;\">\n",
       "      <th></th>\n",
       "      <th>Rainfall</th>\n",
       "      <th>WindGustDir</th>\n",
       "      <th>WindDir9am</th>\n",
       "      <th>WindDir3pm</th>\n",
       "      <th>WindSpeed3pm</th>\n",
       "      <th>Humidity3pm</th>\n",
       "      <th>Pressure3pm</th>\n",
       "      <th>Temp3pm</th>\n",
       "      <th>RainToday</th>\n",
       "      <th>RainTomorrow</th>\n",
       "      <th>Australian Capital Territory</th>\n",
       "      <th>Northern Territory</th>\n",
       "      <th>Queensland</th>\n",
       "      <th>South Australia</th>\n",
       "      <th>Tasmania</th>\n",
       "      <th>Victoria</th>\n",
       "      <th>Western Australia</th>\n",
       "    </tr>\n",
       "  </thead>\n",
       "  <tbody>\n",
       "    <tr>\n",
       "      <th>126713</th>\n",
       "      <td>-0.280049</td>\n",
       "      <td>-0.666810</td>\n",
       "      <td>0.024063</td>\n",
       "      <td>-0.385469</td>\n",
       "      <td>-0.673233</td>\n",
       "      <td>0.301393</td>\n",
       "      <td>0.133609</td>\n",
       "      <td>0.611563</td>\n",
       "      <td>0</td>\n",
       "      <td>1</td>\n",
       "      <td>0</td>\n",
       "      <td>0</td>\n",
       "      <td>0</td>\n",
       "      <td>0</td>\n",
       "      <td>0</td>\n",
       "      <td>0</td>\n",
       "      <td>1</td>\n",
       "    </tr>\n",
       "    <tr>\n",
       "      <th>120998</th>\n",
       "      <td>-0.280049</td>\n",
       "      <td>-1.547500</td>\n",
       "      <td>-0.976534</td>\n",
       "      <td>-1.711813</td>\n",
       "      <td>-0.453624</td>\n",
       "      <td>1.323119</td>\n",
       "      <td>-1.391306</td>\n",
       "      <td>-0.712789</td>\n",
       "      <td>0</td>\n",
       "      <td>1</td>\n",
       "      <td>0</td>\n",
       "      <td>0</td>\n",
       "      <td>0</td>\n",
       "      <td>0</td>\n",
       "      <td>0</td>\n",
       "      <td>0</td>\n",
       "      <td>1</td>\n",
       "    </tr>\n",
       "    <tr>\n",
       "      <th>20516</th>\n",
       "      <td>-0.334569</td>\n",
       "      <td>-1.327327</td>\n",
       "      <td>-1.176654</td>\n",
       "      <td>-1.269698</td>\n",
       "      <td>1.742460</td>\n",
       "      <td>1.137350</td>\n",
       "      <td>-0.495844</td>\n",
       "      <td>0.204070</td>\n",
       "      <td>0</td>\n",
       "      <td>1</td>\n",
       "      <td>0</td>\n",
       "      <td>0</td>\n",
       "      <td>0</td>\n",
       "      <td>0</td>\n",
       "      <td>0</td>\n",
       "      <td>0</td>\n",
       "      <td>0</td>\n",
       "    </tr>\n",
       "    <tr>\n",
       "      <th>63805</th>\n",
       "      <td>0.537750</td>\n",
       "      <td>0.874398</td>\n",
       "      <td>-0.176056</td>\n",
       "      <td>-0.164411</td>\n",
       "      <td>-1.441862</td>\n",
       "      <td>1.880423</td>\n",
       "      <td>-1.636836</td>\n",
       "      <td>-0.989301</td>\n",
       "      <td>1</td>\n",
       "      <td>1</td>\n",
       "      <td>0</td>\n",
       "      <td>0</td>\n",
       "      <td>0</td>\n",
       "      <td>0</td>\n",
       "      <td>0</td>\n",
       "      <td>1</td>\n",
       "      <td>0</td>\n",
       "    </tr>\n",
       "    <tr>\n",
       "      <th>41951</th>\n",
       "      <td>0.701310</td>\n",
       "      <td>-0.006292</td>\n",
       "      <td>0.424302</td>\n",
       "      <td>-0.827583</td>\n",
       "      <td>-0.453624</td>\n",
       "      <td>0.998024</td>\n",
       "      <td>0.760692</td>\n",
       "      <td>-0.334402</td>\n",
       "      <td>1</td>\n",
       "      <td>1</td>\n",
       "      <td>0</td>\n",
       "      <td>0</td>\n",
       "      <td>0</td>\n",
       "      <td>0</td>\n",
       "      <td>0</td>\n",
       "      <td>0</td>\n",
       "      <td>0</td>\n",
       "    </tr>\n",
       "  </tbody>\n",
       "</table>\n",
       "</div>"
      ],
      "text/plain": [
       "        Rainfall  WindGustDir  WindDir9am  WindDir3pm  WindSpeed3pm  \\\n",
       "126713 -0.280049    -0.666810    0.024063   -0.385469     -0.673233   \n",
       "120998 -0.280049    -1.547500   -0.976534   -1.711813     -0.453624   \n",
       "20516  -0.334569    -1.327327   -1.176654   -1.269698      1.742460   \n",
       "63805   0.537750     0.874398   -0.176056   -0.164411     -1.441862   \n",
       "41951   0.701310    -0.006292    0.424302   -0.827583     -0.453624   \n",
       "\n",
       "        Humidity3pm  Pressure3pm   Temp3pm  RainToday  RainTomorrow  \\\n",
       "126713     0.301393     0.133609  0.611563          0             1   \n",
       "120998     1.323119    -1.391306 -0.712789          0             1   \n",
       "20516      1.137350    -0.495844  0.204070          0             1   \n",
       "63805      1.880423    -1.636836 -0.989301          1             1   \n",
       "41951      0.998024     0.760692 -0.334402          1             1   \n",
       "\n",
       "        Australian Capital Territory  Northern Territory  Queensland  \\\n",
       "126713                             0                   0           0   \n",
       "120998                             0                   0           0   \n",
       "20516                              0                   0           0   \n",
       "63805                              0                   0           0   \n",
       "41951                              0                   0           0   \n",
       "\n",
       "        South Australia  Tasmania  Victoria  Western Australia  \n",
       "126713                0         0         0                  1  \n",
       "120998                0         0         0                  1  \n",
       "20516                 0         0         0                  0  \n",
       "63805                 0         0         1                  0  \n",
       "41951                 0         0         0                  0  "
      ]
     },
     "execution_count": 79,
     "metadata": {},
     "output_type": "execute_result"
    }
   ],
   "source": [
    "df_model.head()"
   ]
  },
  {
   "cell_type": "markdown",
   "id": "f5519af0",
   "metadata": {},
   "source": [
    "## Remove Outlier"
   ]
  },
  {
   "cell_type": "code",
   "execution_count": 80,
   "id": "df519b62",
   "metadata": {},
   "outputs": [],
   "source": [
    "def remove_outlier(df_model):\n",
    "    Q1 = df_model.quantile(0.25)\n",
    "    Q3 = df_model.quantile(0.75)\n",
    "    IQR = Q3 - Q1\n",
    "    df_model = df_model[~((df_model < (Q1 - 1.5 * IQR)) | (df_model > (Q3 + 1.5 * IQR))).any(axis=1)]\n",
    "    return df_model"
   ]
  },
  {
   "cell_type": "code",
   "execution_count": 81,
   "id": "a4dcf66e",
   "metadata": {},
   "outputs": [
    {
     "data": {
      "text/html": [
       "<div>\n",
       "<style scoped>\n",
       "    .dataframe tbody tr th:only-of-type {\n",
       "        vertical-align: middle;\n",
       "    }\n",
       "\n",
       "    .dataframe tbody tr th {\n",
       "        vertical-align: top;\n",
       "    }\n",
       "\n",
       "    .dataframe thead th {\n",
       "        text-align: right;\n",
       "    }\n",
       "</style>\n",
       "<table border=\"1\" class=\"dataframe\">\n",
       "  <thead>\n",
       "    <tr style=\"text-align: right;\">\n",
       "      <th></th>\n",
       "      <th>Rainfall</th>\n",
       "      <th>WindGustDir</th>\n",
       "      <th>WindDir9am</th>\n",
       "      <th>WindDir3pm</th>\n",
       "      <th>WindSpeed3pm</th>\n",
       "      <th>Humidity3pm</th>\n",
       "      <th>Pressure3pm</th>\n",
       "      <th>Temp3pm</th>\n",
       "      <th>RainToday</th>\n",
       "      <th>RainTomorrow</th>\n",
       "      <th>Australian Capital Territory</th>\n",
       "      <th>Northern Territory</th>\n",
       "      <th>Queensland</th>\n",
       "      <th>South Australia</th>\n",
       "      <th>Tasmania</th>\n",
       "      <th>Victoria</th>\n",
       "      <th>Western Australia</th>\n",
       "    </tr>\n",
       "  </thead>\n",
       "  <tbody>\n",
       "    <tr>\n",
       "      <th>126713</th>\n",
       "      <td>-0.280049</td>\n",
       "      <td>-0.666810</td>\n",
       "      <td>0.024063</td>\n",
       "      <td>-0.385469</td>\n",
       "      <td>-0.673233</td>\n",
       "      <td>0.301393</td>\n",
       "      <td>0.133609</td>\n",
       "      <td>0.611563</td>\n",
       "      <td>0</td>\n",
       "      <td>1</td>\n",
       "      <td>0</td>\n",
       "      <td>0</td>\n",
       "      <td>0</td>\n",
       "      <td>0</td>\n",
       "      <td>0</td>\n",
       "      <td>0</td>\n",
       "      <td>1</td>\n",
       "    </tr>\n",
       "    <tr>\n",
       "      <th>120998</th>\n",
       "      <td>-0.280049</td>\n",
       "      <td>-1.547500</td>\n",
       "      <td>-0.976534</td>\n",
       "      <td>-1.711813</td>\n",
       "      <td>-0.453624</td>\n",
       "      <td>1.323119</td>\n",
       "      <td>-1.391306</td>\n",
       "      <td>-0.712789</td>\n",
       "      <td>0</td>\n",
       "      <td>1</td>\n",
       "      <td>0</td>\n",
       "      <td>0</td>\n",
       "      <td>0</td>\n",
       "      <td>0</td>\n",
       "      <td>0</td>\n",
       "      <td>0</td>\n",
       "      <td>1</td>\n",
       "    </tr>\n",
       "    <tr>\n",
       "      <th>20516</th>\n",
       "      <td>-0.334569</td>\n",
       "      <td>-1.327327</td>\n",
       "      <td>-1.176654</td>\n",
       "      <td>-1.269698</td>\n",
       "      <td>1.742460</td>\n",
       "      <td>1.137350</td>\n",
       "      <td>-0.495844</td>\n",
       "      <td>0.204070</td>\n",
       "      <td>0</td>\n",
       "      <td>1</td>\n",
       "      <td>0</td>\n",
       "      <td>0</td>\n",
       "      <td>0</td>\n",
       "      <td>0</td>\n",
       "      <td>0</td>\n",
       "      <td>0</td>\n",
       "      <td>0</td>\n",
       "    </tr>\n",
       "    <tr>\n",
       "      <th>63805</th>\n",
       "      <td>0.537750</td>\n",
       "      <td>0.874398</td>\n",
       "      <td>-0.176056</td>\n",
       "      <td>-0.164411</td>\n",
       "      <td>-1.441862</td>\n",
       "      <td>1.880423</td>\n",
       "      <td>-1.636836</td>\n",
       "      <td>-0.989301</td>\n",
       "      <td>1</td>\n",
       "      <td>1</td>\n",
       "      <td>0</td>\n",
       "      <td>0</td>\n",
       "      <td>0</td>\n",
       "      <td>0</td>\n",
       "      <td>0</td>\n",
       "      <td>1</td>\n",
       "      <td>0</td>\n",
       "    </tr>\n",
       "    <tr>\n",
       "      <th>41951</th>\n",
       "      <td>0.701310</td>\n",
       "      <td>-0.006292</td>\n",
       "      <td>0.424302</td>\n",
       "      <td>-0.827583</td>\n",
       "      <td>-0.453624</td>\n",
       "      <td>0.998024</td>\n",
       "      <td>0.760692</td>\n",
       "      <td>-0.334402</td>\n",
       "      <td>1</td>\n",
       "      <td>1</td>\n",
       "      <td>0</td>\n",
       "      <td>0</td>\n",
       "      <td>0</td>\n",
       "      <td>0</td>\n",
       "      <td>0</td>\n",
       "      <td>0</td>\n",
       "      <td>0</td>\n",
       "    </tr>\n",
       "  </tbody>\n",
       "</table>\n",
       "</div>"
      ],
      "text/plain": [
       "        Rainfall  WindGustDir  WindDir9am  WindDir3pm  WindSpeed3pm  \\\n",
       "126713 -0.280049    -0.666810    0.024063   -0.385469     -0.673233   \n",
       "120998 -0.280049    -1.547500   -0.976534   -1.711813     -0.453624   \n",
       "20516  -0.334569    -1.327327   -1.176654   -1.269698      1.742460   \n",
       "63805   0.537750     0.874398   -0.176056   -0.164411     -1.441862   \n",
       "41951   0.701310    -0.006292    0.424302   -0.827583     -0.453624   \n",
       "\n",
       "        Humidity3pm  Pressure3pm   Temp3pm  RainToday  RainTomorrow  \\\n",
       "126713     0.301393     0.133609  0.611563          0             1   \n",
       "120998     1.323119    -1.391306 -0.712789          0             1   \n",
       "20516      1.137350    -0.495844  0.204070          0             1   \n",
       "63805      1.880423    -1.636836 -0.989301          1             1   \n",
       "41951      0.998024     0.760692 -0.334402          1             1   \n",
       "\n",
       "        Australian Capital Territory  Northern Territory  Queensland  \\\n",
       "126713                             0                   0           0   \n",
       "120998                             0                   0           0   \n",
       "20516                              0                   0           0   \n",
       "63805                              0                   0           0   \n",
       "41951                              0                   0           0   \n",
       "\n",
       "        South Australia  Tasmania  Victoria  Western Australia  \n",
       "126713                0         0         0                  1  \n",
       "120998                0         0         0                  1  \n",
       "20516                 0         0         0                  0  \n",
       "63805                 0         0         1                  0  \n",
       "41951                 0         0         0                  0  "
      ]
     },
     "execution_count": 81,
     "metadata": {},
     "output_type": "execute_result"
    }
   ],
   "source": [
    "# panggil fungsi remove_outlier untuk semua kolom dalam df\n",
    "remove_outlier(df_model)\n",
    "df_model.head()"
   ]
  },
  {
   "cell_type": "markdown",
   "id": "4287d943",
   "metadata": {},
   "source": [
    "# Pendefisian Model"
   ]
  },
  {
   "cell_type": "code",
   "execution_count": 112,
   "id": "b183d3a0",
   "metadata": {},
   "outputs": [],
   "source": [
    "lr = LogisticRegression()\n",
    "svc = SVC()"
   ]
  },
  {
   "cell_type": "markdown",
   "id": "9819080d",
   "metadata": {},
   "source": [
    "# Pelatihan Model"
   ]
  },
  {
   "cell_type": "code",
   "execution_count": 159,
   "id": "53e387e8",
   "metadata": {},
   "outputs": [],
   "source": [
    "x1 = df_model.drop(['RainTomorrow',\"Rainfall\"], axis = 1)\n",
    "y1 = df_model['RainTomorrow']\n",
    "# Memisahkan data menjadi data training dan data testing\n",
    "x_train1, x_test1, y_train1, y_test1 = train_test_split(x1 ,y1, test_size = 0.2)\n",
    "lr = LogisticRegression(penalty='l2', C=1 )\n",
    "lr.fit(x_train1,y_train1)\n",
    "predictionlr = lr.predict(x_test1)"
   ]
  },
  {
   "cell_type": "code",
   "execution_count": 177,
   "id": "f46b9bc5",
   "metadata": {},
   "outputs": [],
   "source": [
    "x2 = df_model.drop(['RainTomorrow'], axis = 1)\n",
    "y2 = df_model['RainTomorrow']\n",
    "# Memisahkan data menjadi data training dan data testing\n",
    "x_train2, x_test2, y_train2, y_test2 = train_test_split(x2,y2, test_size = 0.2)\n",
    "svc=SVC(degree=4, gamma =0.5)\n",
    "svc.fit(x_train2,y_train2)\n",
    "predictionsvc = svc.predict(x_test2)"
   ]
  },
  {
   "cell_type": "markdown",
   "id": "b34acea7",
   "metadata": {},
   "source": [
    "# Evaluasi Model"
   ]
  },
  {
   "cell_type": "code",
   "execution_count": 160,
   "id": "5430f3ac",
   "metadata": {},
   "outputs": [
    {
     "name": "stdout",
     "output_type": "stream",
     "text": [
      "[[4931 1412]\n",
      " [1595 4813]]\n",
      "              precision    recall  f1-score   support\n",
      "\n",
      "           0       0.76      0.78      0.77      6343\n",
      "           1       0.77      0.75      0.76      6408\n",
      "\n",
      "    accuracy                           0.76     12751\n",
      "   macro avg       0.76      0.76      0.76     12751\n",
      "weighted avg       0.76      0.76      0.76     12751\n",
      "\n",
      "0.7641753587953886\n"
     ]
    }
   ],
   "source": [
    "print(confusion_matrix(y_test1, predictionlr))\n",
    "print(classification_report(y_test1, predictionlr))\n",
    "print(accuracy_score(y_test1, predictionlr))"
   ]
  },
  {
   "cell_type": "code",
   "execution_count": 161,
   "id": "6f41b246",
   "metadata": {},
   "outputs": [
    {
     "data": {
      "image/png": "[encoded data removed]",
      "text/plain": [
       "<Figure size 432x288 with 2 Axes>"
      ]
     },
     "metadata": {
      "needs_background": "light"
     },
     "output_type": "display_data"
    }
   ],
   "source": [
    "cm = confusion_matrix(y_test1, predictionlr)\n",
    "cm_label = pd.DataFrame(cm, columns = np.unique(y_test1),\n",
    "                        index = np.unique(y_test1))\n",
    "sns.heatmap(cm_label, annot=True, cmap='Blues', fmt='g');"
   ]
  },
  {
   "cell_type": "code",
   "execution_count": 178,
   "id": "50a36207",
   "metadata": {},
   "outputs": [
    {
     "name": "stdout",
     "output_type": "stream",
     "text": [
      "[[5150 1326]\n",
      " [1328 4947]]\n",
      "              precision    recall  f1-score   support\n",
      "\n",
      "           0       0.79      0.80      0.80      6476\n",
      "           1       0.79      0.79      0.79      6275\n",
      "\n",
      "    accuracy                           0.79     12751\n",
      "   macro avg       0.79      0.79      0.79     12751\n",
      "weighted avg       0.79      0.79      0.79     12751\n",
      "\n",
      "0.7918594620029802\n"
     ]
    }
   ],
   "source": [
    "print(confusion_matrix(y_test2, predictionsvc))\n",
    "print(classification_report(y_test2, predictionsvc))\n",
    "print(accuracy_score(y_test2, predictionsvc))"
   ]
  },
  {
   "cell_type": "code",
   "execution_count": 563,
   "id": "9bfa1c18",
   "metadata": {},
   "outputs": [
    {
     "data": {
      "image/png": "[encoded data removed]",
      "text/plain": [
       "<Figure size 432x288 with 2 Axes>"
      ]
     },
     "metadata": {
      "needs_background": "light"
     },
     "output_type": "display_data"
    }
   ],
   "source": [
    "cm = confusion_matrix(y_test2, predictionsvc)\n",
    "cm_label = pd.DataFrame(cm, columns = np.unique(y_test2),\n",
    "                        index = np.unique(y_test2))\n",
    "sns.heatmap(cm_label, annot=True, cmap='Blues', fmt='g');"
   ]
  },
  {
   "cell_type": "code",
   "execution_count": 170,
   "id": "0c39d638",
   "metadata": {},
   "outputs": [
    {
     "data": {
      "text/plain": [
       "Rainfall                        0.058823\n",
       "WindGustDir                     0.058823\n",
       "WindDir9am                      0.058823\n",
       "WindDir3pm                      0.058823\n",
       "WindSpeed3pm                    0.058823\n",
       "Humidity3pm                     0.058823\n",
       "Pressure3pm                     0.058823\n",
       "Temp3pm                         0.058823\n",
       "RainToday                       0.276971\n",
       "Australian Capital Territory    1.431139\n",
       "Northern Territory              1.459682\n",
       "Queensland                      0.734161\n",
       "South Australia                 0.785923\n",
       "Tasmania                        1.407108\n",
       "Victoria                        0.318814\n",
       "Western Australia               0.465212\n",
       "dtype: float64"
      ]
     },
     "execution_count": 170,
     "metadata": {},
     "output_type": "execute_result"
    }
   ],
   "source": [
    "#tentuin gamma svc\n",
    "1/(17*x2.var())"
   ]
  },
  {
   "cell_type": "code",
   "execution_count": 171,
   "id": "fc8a6e1d",
   "metadata": {},
   "outputs": [
    {
     "data": {
      "text/plain": [
       "0.10693201203396303"
      ]
     },
     "execution_count": 171,
     "metadata": {},
     "output_type": "execute_result"
    }
   ],
   "source": [
    "1/(17*x2.var()).mean()"
   ]
  },
  {
   "cell_type": "code",
   "execution_count": null,
   "id": "32846cdf",
   "metadata": {},
   "outputs": [],
   "source": []
  }
 ],
 "metadata": {
  "kernelspec": {
   "display_name": "Python 3 (ipykernel)",
   "language": "python",
   "name": "python3"
  },
  "language_info": {
   "codemirror_mode": {
    "name": "ipython",
    "version": 3
   },
   "file_extension": ".py",
   "mimetype": "text/x-python",
   "name": "python",
   "nbconvert_exporter": "python",
   "pygments_lexer": "ipython3",
   "version": "3.9.12"
  },
  "toc": {
   "base_numbering": 1,
   "nav_menu": {},
   "number_sections": true,
   "sideBar": true,
   "skip_h1_title": false,
   "title_cell": "Table of Contents",
   "title_sidebar": "Contents",
   "toc_cell": false,
   "toc_position": {
    "height": "calc(100% - 180px)",
    "left": "10px",
    "top": "150px",
    "width": "269.531px"
   },
   "toc_section_display": true,
   "toc_window_display": true
  },
  "varInspector": {
   "cols": {
    "lenName": 16,
    "lenType": 16,
    "lenVar": 40
   },
   "kernels_config": {
    "python": {
     "delete_cmd_postfix": "",
     "delete_cmd_prefix": "del ",
     "library": "var_list.py",
     "varRefreshCmd": "print(var_dic_list())"
    },
    "r": {
     "delete_cmd_postfix": ") ",
     "delete_cmd_prefix": "rm(",
     "library": "var_list.r",
     "varRefreshCmd": "cat(var_dic_list()) "
    }
   },
   "types_to_exclude": [
    "module",
    "function",
    "builtin_function_or_method",
    "instance",
    "_Feature"
   ],
   "window_display": false
  }
 },
 "nbformat": 4,
 "nbformat_minor": 5
}
