{
 "cells": [
  {
   "cell_type": "markdown",
   "id": "e835725c",
   "metadata": {},
   "source": [
    "# Perkenalan"
   ]
  },
  {
   "cell_type": "markdown",
   "id": "4cd8a8c9",
   "metadata": {},
   "source": [
    "## Team :\n",
    "1. Nichoulaus Verdhy P - PYTN-KS011-023\n",
    "2. Tassyirifiyya - PYTN-KS011-012\n",
    "3. Isma - PYTN-KS011-008\n",
    "\n",
    "Python for Data Science - Studi Independen - Kampus Merdeka"
   ]
  },
  {
   "cell_type": "markdown",
   "id": "b7cd80b0",
   "metadata": {},
   "source": [
    "## Latar Belakang\n",
    "\n",
    "Dataset WeatherAUS adalah dataset yang berisi data cuaca di beberapa kota di Australia selama beberapa tahun. Data diambil dari Australian Bureau of Meteorology dan terdiri dari informasi cuaca harian seperti suhu, kelembaban, kecepatan angin, dan curah hujan, Dataset ini sering digunakan dalam analisis prediksi cuaca.\n",
    "\n",
    "Tujuan utama dari dataset ini adalah untuk memprediksi apakah akan terjadi hujan pada hari berikutnya berdasarkan data cuaca pada hari sebelumnya. Variabel target dalam dataset ini adalah \"RainTomorrow\" yang menunjukkan apakah akan hujan atau tidak pada hari berikutnya. Selain itu, dataset ini juga berisi beberapa variabel input seperti lokasi, tanggal, suhu maksimum dan minimum, kelembaban, tekanan udara, dan kecepatan angin.\n",
    "\n",
    "Beberapa contoh analisis dan prediksi yang dapat dilakukan dengan dataset WeatherAUS adalah:\n",
    "\n",
    "2. Prediksi apakah akan turun hujan pada hari berikutnya \n",
    "\n",
    "3. Analisis hubungan antara curah hujan dan faktor-faktor cuaca lainnya seperti suhu, kelembapan, dan arah angin \n",
    "\n",
    "4. Analisis pola cuaca di berbagai wilayah di Australia\n",
    "\n",
    "5. Prediksi curah hujan bulanan di suatu wilayah di Australia \n",
    "\n",
    "6. Analisis perubahan cuaca di Australia selama sepuluh tahun terakhir \n",
    "\n",
    "Dataset WeatherAUS penting karena dapat membantu dalam memprediksi cuaca di masa depan dan membantu orang dalam membuat keputusan yang tepat, seperti memilih pakaian yang sesuai, membawa payung Dan lain-lain"
   ]
  },
  {
   "cell_type": "markdown",
   "id": "268a8509",
   "metadata": {},
   "source": [
    "## Objektif"
   ]
  },
  {
   "cell_type": "markdown",
   "id": "5fe9f8b7",
   "metadata": {},
   "source": [
    "Final Project 2 ini dibuat guna mengevaluasi konsep Logistic Regression dan SVM\n",
    "sebagai berikut:\n",
    "\n",
    "● Mampu memahami konsep Classification dengan Logistic Regression dan SVM\n",
    "\n",
    "● Mampu mempersiapkan data untuk digunakan dalam model Logistic Regression\n",
    "dan SVM\n",
    "\n",
    "● Mampu mengimplementasikan Logistic Regression dan SVM untuk membuat\n",
    "prediksi"
   ]
  },
  {
   "cell_type": "markdown",
   "id": "6653e771",
   "metadata": {},
   "source": [
    "# Import Pustaka"
   ]
  },
  {
   "cell_type": "code",
   "execution_count": 2,
   "id": "4dbc5ec3",
   "metadata": {},
   "outputs": [],
   "source": [
    "#untuk dataframe\n",
    "import pandas as pd\n",
    "import numpy as np\n",
    "\n",
    "#untuk visualisasi data\n",
    "import matplotlib.pyplot as plt\n",
    "import seaborn as sns\n",
    "%matplotlib inline\n",
    "import folium\n",
    "from folium.plugins import FastMarkerCluster\n",
    "\n",
    "#mengatur display biar maximal\n",
    "pd.options.display.max_rows = None\n",
    "pd.options.display.max_columns = None\n",
    "\n",
    "#modeling\n",
    "from sklearn.linear_model import LogisticRegression\n",
    "from sklearn.svm import SVC\n",
    "from sklearn.metrics import accuracy_score # mencari accurasi \n",
    "from sklearn.metrics import confusion_matrix # membuat confusion maytris\n",
    "from sklearn.metrics import classification_report # laporan klasifikasi"
   ]
  },
  {
   "cell_type": "markdown",
   "id": "fbb7bf3d",
   "metadata": {},
   "source": [
    "# Data Loading"
   ]
  },
  {
   "cell_type": "markdown",
   "id": "6a385c2e",
   "metadata": {},
   "source": [
    "## Memanggil Data set"
   ]
  },
  {
   "cell_type": "code",
   "execution_count": 3,
   "id": "e829f2f3",
   "metadata": {},
   "outputs": [],
   "source": [
    "df = pd.read_csv(\"weatherAUS.csv\")"
   ]
  },
  {
   "cell_type": "code",
   "execution_count": 4,
   "id": "ba99859e",
   "metadata": {
    "scrolled": true
   },
   "outputs": [
    {
     "data": {
      "text/html": [
       "<div>\n",
       "<style scoped>\n",
       "    .dataframe tbody tr th:only-of-type {\n",
       "        vertical-align: middle;\n",
       "    }\n",
       "\n",
       "    .dataframe tbody tr th {\n",
       "        vertical-align: top;\n",
       "    }\n",
       "\n",
       "    .dataframe thead th {\n",
       "        text-align: right;\n",
       "    }\n",
       "</style>\n",
       "<table border=\"1\" class=\"dataframe\">\n",
       "  <thead>\n",
       "    <tr style=\"text-align: right;\">\n",
       "      <th></th>\n",
       "      <th>Date</th>\n",
       "      <th>Location</th>\n",
       "      <th>MinTemp</th>\n",
       "      <th>MaxTemp</th>\n",
       "      <th>Rainfall</th>\n",
       "      <th>Evaporation</th>\n",
       "      <th>Sunshine</th>\n",
       "      <th>WindGustDir</th>\n",
       "      <th>WindGustSpeed</th>\n",
       "      <th>WindDir9am</th>\n",
       "      <th>WindDir3pm</th>\n",
       "      <th>WindSpeed9am</th>\n",
       "      <th>WindSpeed3pm</th>\n",
       "      <th>Humidity9am</th>\n",
       "      <th>Humidity3pm</th>\n",
       "      <th>Pressure9am</th>\n",
       "      <th>Pressure3pm</th>\n",
       "      <th>Cloud9am</th>\n",
       "      <th>Cloud3pm</th>\n",
       "      <th>Temp9am</th>\n",
       "      <th>Temp3pm</th>\n",
       "      <th>RainToday</th>\n",
       "      <th>RainTomorrow</th>\n",
       "    </tr>\n",
       "  </thead>\n",
       "  <tbody>\n",
       "    <tr>\n",
       "      <th>0</th>\n",
       "      <td>2008-12-01</td>\n",
       "      <td>Albury</td>\n",
       "      <td>13.4</td>\n",
       "      <td>22.9</td>\n",
       "      <td>0.6</td>\n",
       "      <td>NaN</td>\n",
       "      <td>NaN</td>\n",
       "      <td>W</td>\n",
       "      <td>44.0</td>\n",
       "      <td>W</td>\n",
       "      <td>WNW</td>\n",
       "      <td>20.0</td>\n",
       "      <td>24.0</td>\n",
       "      <td>71.0</td>\n",
       "      <td>22.0</td>\n",
       "      <td>1007.7</td>\n",
       "      <td>1007.1</td>\n",
       "      <td>8.0</td>\n",
       "      <td>NaN</td>\n",
       "      <td>16.9</td>\n",
       "      <td>21.8</td>\n",
       "      <td>No</td>\n",
       "      <td>No</td>\n",
       "    </tr>\n",
       "    <tr>\n",
       "      <th>1</th>\n",
       "      <td>2008-12-02</td>\n",
       "      <td>Albury</td>\n",
       "      <td>7.4</td>\n",
       "      <td>25.1</td>\n",
       "      <td>0.0</td>\n",
       "      <td>NaN</td>\n",
       "      <td>NaN</td>\n",
       "      <td>WNW</td>\n",
       "      <td>44.0</td>\n",
       "      <td>NNW</td>\n",
       "      <td>WSW</td>\n",
       "      <td>4.0</td>\n",
       "      <td>22.0</td>\n",
       "      <td>44.0</td>\n",
       "      <td>25.0</td>\n",
       "      <td>1010.6</td>\n",
       "      <td>1007.8</td>\n",
       "      <td>NaN</td>\n",
       "      <td>NaN</td>\n",
       "      <td>17.2</td>\n",
       "      <td>24.3</td>\n",
       "      <td>No</td>\n",
       "      <td>No</td>\n",
       "    </tr>\n",
       "    <tr>\n",
       "      <th>2</th>\n",
       "      <td>2008-12-03</td>\n",
       "      <td>Albury</td>\n",
       "      <td>12.9</td>\n",
       "      <td>25.7</td>\n",
       "      <td>0.0</td>\n",
       "      <td>NaN</td>\n",
       "      <td>NaN</td>\n",
       "      <td>WSW</td>\n",
       "      <td>46.0</td>\n",
       "      <td>W</td>\n",
       "      <td>WSW</td>\n",
       "      <td>19.0</td>\n",
       "      <td>26.0</td>\n",
       "      <td>38.0</td>\n",
       "      <td>30.0</td>\n",
       "      <td>1007.6</td>\n",
       "      <td>1008.7</td>\n",
       "      <td>NaN</td>\n",
       "      <td>2.0</td>\n",
       "      <td>21.0</td>\n",
       "      <td>23.2</td>\n",
       "      <td>No</td>\n",
       "      <td>No</td>\n",
       "    </tr>\n",
       "    <tr>\n",
       "      <th>3</th>\n",
       "      <td>2008-12-04</td>\n",
       "      <td>Albury</td>\n",
       "      <td>9.2</td>\n",
       "      <td>28.0</td>\n",
       "      <td>0.0</td>\n",
       "      <td>NaN</td>\n",
       "      <td>NaN</td>\n",
       "      <td>NE</td>\n",
       "      <td>24.0</td>\n",
       "      <td>SE</td>\n",
       "      <td>E</td>\n",
       "      <td>11.0</td>\n",
       "      <td>9.0</td>\n",
       "      <td>45.0</td>\n",
       "      <td>16.0</td>\n",
       "      <td>1017.6</td>\n",
       "      <td>1012.8</td>\n",
       "      <td>NaN</td>\n",
       "      <td>NaN</td>\n",
       "      <td>18.1</td>\n",
       "      <td>26.5</td>\n",
       "      <td>No</td>\n",
       "      <td>No</td>\n",
       "    </tr>\n",
       "    <tr>\n",
       "      <th>4</th>\n",
       "      <td>2008-12-05</td>\n",
       "      <td>Albury</td>\n",
       "      <td>17.5</td>\n",
       "      <td>32.3</td>\n",
       "      <td>1.0</td>\n",
       "      <td>NaN</td>\n",
       "      <td>NaN</td>\n",
       "      <td>W</td>\n",
       "      <td>41.0</td>\n",
       "      <td>ENE</td>\n",
       "      <td>NW</td>\n",
       "      <td>7.0</td>\n",
       "      <td>20.0</td>\n",
       "      <td>82.0</td>\n",
       "      <td>33.0</td>\n",
       "      <td>1010.8</td>\n",
       "      <td>1006.0</td>\n",
       "      <td>7.0</td>\n",
       "      <td>8.0</td>\n",
       "      <td>17.8</td>\n",
       "      <td>29.7</td>\n",
       "      <td>No</td>\n",
       "      <td>No</td>\n",
       "    </tr>\n",
       "  </tbody>\n",
       "</table>\n",
       "</div>"
      ],
      "text/plain": [
       "         Date Location  MinTemp  MaxTemp  Rainfall  Evaporation  Sunshine  \\\n",
       "0  2008-12-01   Albury     13.4     22.9       0.6          NaN       NaN   \n",
       "1  2008-12-02   Albury      7.4     25.1       0.0          NaN       NaN   \n",
       "2  2008-12-03   Albury     12.9     25.7       0.0          NaN       NaN   \n",
       "3  2008-12-04   Albury      9.2     28.0       0.0          NaN       NaN   \n",
       "4  2008-12-05   Albury     17.5     32.3       1.0          NaN       NaN   \n",
       "\n",
       "  WindGustDir  WindGustSpeed WindDir9am WindDir3pm  WindSpeed9am  \\\n",
       "0           W           44.0          W        WNW          20.0   \n",
       "1         WNW           44.0        NNW        WSW           4.0   \n",
       "2         WSW           46.0          W        WSW          19.0   \n",
       "3          NE           24.0         SE          E          11.0   \n",
       "4           W           41.0        ENE         NW           7.0   \n",
       "\n",
       "   WindSpeed3pm  Humidity9am  Humidity3pm  Pressure9am  Pressure3pm  Cloud9am  \\\n",
       "0          24.0         71.0         22.0       1007.7       1007.1       8.0   \n",
       "1          22.0         44.0         25.0       1010.6       1007.8       NaN   \n",
       "2          26.0         38.0         30.0       1007.6       1008.7       NaN   \n",
       "3           9.0         45.0         16.0       1017.6       1012.8       NaN   \n",
       "4          20.0         82.0         33.0       1010.8       1006.0       7.0   \n",
       "\n",
       "   Cloud3pm  Temp9am  Temp3pm RainToday RainTomorrow  \n",
       "0       NaN     16.9     21.8        No           No  \n",
       "1       NaN     17.2     24.3        No           No  \n",
       "2       2.0     21.0     23.2        No           No  \n",
       "3       NaN     18.1     26.5        No           No  \n",
       "4       8.0     17.8     29.7        No           No  "
      ]
     },
     "execution_count": 4,
     "metadata": {},
     "output_type": "execute_result"
    }
   ],
   "source": [
    "df.head()"
   ]
  },
  {
   "cell_type": "markdown",
   "id": "e303a92b",
   "metadata": {},
   "source": [
    "## Melihat ukuran data(baris, kolom)"
   ]
  },
  {
   "cell_type": "code",
   "execution_count": 5,
   "id": "11d54bf3",
   "metadata": {},
   "outputs": [
    {
     "data": {
      "text/plain": [
       "(145460, 23)"
      ]
     },
     "execution_count": 5,
     "metadata": {},
     "output_type": "execute_result"
    }
   ],
   "source": [
    "df.shape"
   ]
  },
  {
   "cell_type": "markdown",
   "id": "06da481d",
   "metadata": {},
   "source": [
    "## Pengecekan Nama Kolom"
   ]
  },
  {
   "cell_type": "code",
   "execution_count": 6,
   "id": "ddc30a6d",
   "metadata": {},
   "outputs": [
    {
     "data": {
      "text/plain": [
       "array(['Date', 'Location', 'MinTemp', 'MaxTemp', 'Rainfall',\n",
       "       'Evaporation', 'Sunshine', 'WindGustDir', 'WindGustSpeed',\n",
       "       'WindDir9am', 'WindDir3pm', 'WindSpeed9am', 'WindSpeed3pm',\n",
       "       'Humidity9am', 'Humidity3pm', 'Pressure9am', 'Pressure3pm',\n",
       "       'Cloud9am', 'Cloud3pm', 'Temp9am', 'Temp3pm', 'RainToday',\n",
       "       'RainTomorrow'], dtype=object)"
      ]
     },
     "execution_count": 6,
     "metadata": {},
     "output_type": "execute_result"
    }
   ],
   "source": [
    "df.columns.values"
   ]
  },
  {
   "cell_type": "markdown",
   "id": "fed5b2a4",
   "metadata": {},
   "source": [
    "## Deskriptif Statistik"
   ]
  },
  {
   "cell_type": "code",
   "execution_count": 7,
   "id": "9a468f76",
   "metadata": {},
   "outputs": [
    {
     "data": {
      "text/html": [
       "<div>\n",
       "<style scoped>\n",
       "    .dataframe tbody tr th:only-of-type {\n",
       "        vertical-align: middle;\n",
       "    }\n",
       "\n",
       "    .dataframe tbody tr th {\n",
       "        vertical-align: top;\n",
       "    }\n",
       "\n",
       "    .dataframe thead th {\n",
       "        text-align: right;\n",
       "    }\n",
       "</style>\n",
       "<table border=\"1\" class=\"dataframe\">\n",
       "  <thead>\n",
       "    <tr style=\"text-align: right;\">\n",
       "      <th></th>\n",
       "      <th>MinTemp</th>\n",
       "      <th>MaxTemp</th>\n",
       "      <th>Rainfall</th>\n",
       "      <th>Evaporation</th>\n",
       "      <th>Sunshine</th>\n",
       "      <th>WindGustSpeed</th>\n",
       "      <th>WindSpeed9am</th>\n",
       "      <th>WindSpeed3pm</th>\n",
       "      <th>Humidity9am</th>\n",
       "      <th>Humidity3pm</th>\n",
       "      <th>Pressure9am</th>\n",
       "      <th>Pressure3pm</th>\n",
       "      <th>Cloud9am</th>\n",
       "      <th>Cloud3pm</th>\n",
       "      <th>Temp9am</th>\n",
       "      <th>Temp3pm</th>\n",
       "    </tr>\n",
       "  </thead>\n",
       "  <tbody>\n",
       "    <tr>\n",
       "      <th>count</th>\n",
       "      <td>143975.000000</td>\n",
       "      <td>144199.000000</td>\n",
       "      <td>142199.000000</td>\n",
       "      <td>82670.000000</td>\n",
       "      <td>75625.000000</td>\n",
       "      <td>135197.000000</td>\n",
       "      <td>143693.000000</td>\n",
       "      <td>142398.000000</td>\n",
       "      <td>142806.000000</td>\n",
       "      <td>140953.000000</td>\n",
       "      <td>130395.00000</td>\n",
       "      <td>130432.000000</td>\n",
       "      <td>89572.000000</td>\n",
       "      <td>86102.000000</td>\n",
       "      <td>143693.000000</td>\n",
       "      <td>141851.00000</td>\n",
       "    </tr>\n",
       "    <tr>\n",
       "      <th>mean</th>\n",
       "      <td>12.194034</td>\n",
       "      <td>23.221348</td>\n",
       "      <td>2.360918</td>\n",
       "      <td>5.468232</td>\n",
       "      <td>7.611178</td>\n",
       "      <td>40.035230</td>\n",
       "      <td>14.043426</td>\n",
       "      <td>18.662657</td>\n",
       "      <td>68.880831</td>\n",
       "      <td>51.539116</td>\n",
       "      <td>1017.64994</td>\n",
       "      <td>1015.255889</td>\n",
       "      <td>4.447461</td>\n",
       "      <td>4.509930</td>\n",
       "      <td>16.990631</td>\n",
       "      <td>21.68339</td>\n",
       "    </tr>\n",
       "    <tr>\n",
       "      <th>std</th>\n",
       "      <td>6.398495</td>\n",
       "      <td>7.119049</td>\n",
       "      <td>8.478060</td>\n",
       "      <td>4.193704</td>\n",
       "      <td>3.785483</td>\n",
       "      <td>13.607062</td>\n",
       "      <td>8.915375</td>\n",
       "      <td>8.809800</td>\n",
       "      <td>19.029164</td>\n",
       "      <td>20.795902</td>\n",
       "      <td>7.10653</td>\n",
       "      <td>7.037414</td>\n",
       "      <td>2.887159</td>\n",
       "      <td>2.720357</td>\n",
       "      <td>6.488753</td>\n",
       "      <td>6.93665</td>\n",
       "    </tr>\n",
       "    <tr>\n",
       "      <th>min</th>\n",
       "      <td>-8.500000</td>\n",
       "      <td>-4.800000</td>\n",
       "      <td>0.000000</td>\n",
       "      <td>0.000000</td>\n",
       "      <td>0.000000</td>\n",
       "      <td>6.000000</td>\n",
       "      <td>0.000000</td>\n",
       "      <td>0.000000</td>\n",
       "      <td>0.000000</td>\n",
       "      <td>0.000000</td>\n",
       "      <td>980.50000</td>\n",
       "      <td>977.100000</td>\n",
       "      <td>0.000000</td>\n",
       "      <td>0.000000</td>\n",
       "      <td>-7.200000</td>\n",
       "      <td>-5.40000</td>\n",
       "    </tr>\n",
       "    <tr>\n",
       "      <th>25%</th>\n",
       "      <td>7.600000</td>\n",
       "      <td>17.900000</td>\n",
       "      <td>0.000000</td>\n",
       "      <td>2.600000</td>\n",
       "      <td>4.800000</td>\n",
       "      <td>31.000000</td>\n",
       "      <td>7.000000</td>\n",
       "      <td>13.000000</td>\n",
       "      <td>57.000000</td>\n",
       "      <td>37.000000</td>\n",
       "      <td>1012.90000</td>\n",
       "      <td>1010.400000</td>\n",
       "      <td>1.000000</td>\n",
       "      <td>2.000000</td>\n",
       "      <td>12.300000</td>\n",
       "      <td>16.60000</td>\n",
       "    </tr>\n",
       "    <tr>\n",
       "      <th>50%</th>\n",
       "      <td>12.000000</td>\n",
       "      <td>22.600000</td>\n",
       "      <td>0.000000</td>\n",
       "      <td>4.800000</td>\n",
       "      <td>8.400000</td>\n",
       "      <td>39.000000</td>\n",
       "      <td>13.000000</td>\n",
       "      <td>19.000000</td>\n",
       "      <td>70.000000</td>\n",
       "      <td>52.000000</td>\n",
       "      <td>1017.60000</td>\n",
       "      <td>1015.200000</td>\n",
       "      <td>5.000000</td>\n",
       "      <td>5.000000</td>\n",
       "      <td>16.700000</td>\n",
       "      <td>21.10000</td>\n",
       "    </tr>\n",
       "    <tr>\n",
       "      <th>75%</th>\n",
       "      <td>16.900000</td>\n",
       "      <td>28.200000</td>\n",
       "      <td>0.800000</td>\n",
       "      <td>7.400000</td>\n",
       "      <td>10.600000</td>\n",
       "      <td>48.000000</td>\n",
       "      <td>19.000000</td>\n",
       "      <td>24.000000</td>\n",
       "      <td>83.000000</td>\n",
       "      <td>66.000000</td>\n",
       "      <td>1022.40000</td>\n",
       "      <td>1020.000000</td>\n",
       "      <td>7.000000</td>\n",
       "      <td>7.000000</td>\n",
       "      <td>21.600000</td>\n",
       "      <td>26.40000</td>\n",
       "    </tr>\n",
       "    <tr>\n",
       "      <th>max</th>\n",
       "      <td>33.900000</td>\n",
       "      <td>48.100000</td>\n",
       "      <td>371.000000</td>\n",
       "      <td>145.000000</td>\n",
       "      <td>14.500000</td>\n",
       "      <td>135.000000</td>\n",
       "      <td>130.000000</td>\n",
       "      <td>87.000000</td>\n",
       "      <td>100.000000</td>\n",
       "      <td>100.000000</td>\n",
       "      <td>1041.00000</td>\n",
       "      <td>1039.600000</td>\n",
       "      <td>9.000000</td>\n",
       "      <td>9.000000</td>\n",
       "      <td>40.200000</td>\n",
       "      <td>46.70000</td>\n",
       "    </tr>\n",
       "  </tbody>\n",
       "</table>\n",
       "</div>"
      ],
      "text/plain": [
       "             MinTemp        MaxTemp       Rainfall   Evaporation  \\\n",
       "count  143975.000000  144199.000000  142199.000000  82670.000000   \n",
       "mean       12.194034      23.221348       2.360918      5.468232   \n",
       "std         6.398495       7.119049       8.478060      4.193704   \n",
       "min        -8.500000      -4.800000       0.000000      0.000000   \n",
       "25%         7.600000      17.900000       0.000000      2.600000   \n",
       "50%        12.000000      22.600000       0.000000      4.800000   \n",
       "75%        16.900000      28.200000       0.800000      7.400000   \n",
       "max        33.900000      48.100000     371.000000    145.000000   \n",
       "\n",
       "           Sunshine  WindGustSpeed   WindSpeed9am   WindSpeed3pm  \\\n",
       "count  75625.000000  135197.000000  143693.000000  142398.000000   \n",
       "mean       7.611178      40.035230      14.043426      18.662657   \n",
       "std        3.785483      13.607062       8.915375       8.809800   \n",
       "min        0.000000       6.000000       0.000000       0.000000   \n",
       "25%        4.800000      31.000000       7.000000      13.000000   \n",
       "50%        8.400000      39.000000      13.000000      19.000000   \n",
       "75%       10.600000      48.000000      19.000000      24.000000   \n",
       "max       14.500000     135.000000     130.000000      87.000000   \n",
       "\n",
       "         Humidity9am    Humidity3pm   Pressure9am    Pressure3pm  \\\n",
       "count  142806.000000  140953.000000  130395.00000  130432.000000   \n",
       "mean       68.880831      51.539116    1017.64994    1015.255889   \n",
       "std        19.029164      20.795902       7.10653       7.037414   \n",
       "min         0.000000       0.000000     980.50000     977.100000   \n",
       "25%        57.000000      37.000000    1012.90000    1010.400000   \n",
       "50%        70.000000      52.000000    1017.60000    1015.200000   \n",
       "75%        83.000000      66.000000    1022.40000    1020.000000   \n",
       "max       100.000000     100.000000    1041.00000    1039.600000   \n",
       "\n",
       "           Cloud9am      Cloud3pm        Temp9am       Temp3pm  \n",
       "count  89572.000000  86102.000000  143693.000000  141851.00000  \n",
       "mean       4.447461      4.509930      16.990631      21.68339  \n",
       "std        2.887159      2.720357       6.488753       6.93665  \n",
       "min        0.000000      0.000000      -7.200000      -5.40000  \n",
       "25%        1.000000      2.000000      12.300000      16.60000  \n",
       "50%        5.000000      5.000000      16.700000      21.10000  \n",
       "75%        7.000000      7.000000      21.600000      26.40000  \n",
       "max        9.000000      9.000000      40.200000      46.70000  "
      ]
     },
     "execution_count": 7,
     "metadata": {},
     "output_type": "execute_result"
    }
   ],
   "source": [
    "df.describe()"
   ]
  },
  {
   "cell_type": "markdown",
   "id": "59b8bb42",
   "metadata": {},
   "source": [
    "## Tipe Data\n"
   ]
  },
  {
   "cell_type": "code",
   "execution_count": 8,
   "id": "d91702f5",
   "metadata": {},
   "outputs": [
    {
     "name": "stdout",
     "output_type": "stream",
     "text": [
      "<class 'pandas.core.frame.DataFrame'>\n",
      "RangeIndex: 145460 entries, 0 to 145459\n",
      "Data columns (total 23 columns):\n",
      " #   Column         Non-Null Count   Dtype  \n",
      "---  ------         --------------   -----  \n",
      " 0   Date           145460 non-null  object \n",
      " 1   Location       145460 non-null  object \n",
      " 2   MinTemp        143975 non-null  float64\n",
      " 3   MaxTemp        144199 non-null  float64\n",
      " 4   Rainfall       142199 non-null  float64\n",
      " 5   Evaporation    82670 non-null   float64\n",
      " 6   Sunshine       75625 non-null   float64\n",
      " 7   WindGustDir    135134 non-null  object \n",
      " 8   WindGustSpeed  135197 non-null  float64\n",
      " 9   WindDir9am     134894 non-null  object \n",
      " 10  WindDir3pm     141232 non-null  object \n",
      " 11  WindSpeed9am   143693 non-null  float64\n",
      " 12  WindSpeed3pm   142398 non-null  float64\n",
      " 13  Humidity9am    142806 non-null  float64\n",
      " 14  Humidity3pm    140953 non-null  float64\n",
      " 15  Pressure9am    130395 non-null  float64\n",
      " 16  Pressure3pm    130432 non-null  float64\n",
      " 17  Cloud9am       89572 non-null   float64\n",
      " 18  Cloud3pm       86102 non-null   float64\n",
      " 19  Temp9am        143693 non-null  float64\n",
      " 20  Temp3pm        141851 non-null  float64\n",
      " 21  RainToday      142199 non-null  object \n",
      " 22  RainTomorrow   142193 non-null  object \n",
      "dtypes: float64(16), object(7)\n",
      "memory usage: 25.5+ MB\n"
     ]
    }
   ],
   "source": [
    "df.info()"
   ]
  },
  {
   "cell_type": "markdown",
   "id": "fbd7b3db",
   "metadata": {},
   "source": [
    "## Penjelasan Per kolom"
   ]
  },
  {
   "cell_type": "markdown",
   "id": "dc16114b",
   "metadata": {},
   "source": [
    "1. Date - tanggal hari itu\n",
    "2. Location - lokasi, nama kota di Australia\n",
    "3. MinTemp - temperatur terendah hari itu dalam celcius\n",
    "4. MaxTemp - temperatur tertinggi hari itu dalam celcius\n",
    "5. Rainfall - jumlah curah hujan hari itu dalam mm\n",
    "6. Evaporation - jumlah evaporasi dalam mm dari Class A pan selama 24 jam\n",
    "sebelum jam 9 pagi hari itu\n",
    "7. Sunshine - jumlah jam hari itu cerah dengan cahaya matahari\n",
    "8. WindGustDir - arah kecepatan angin yang paling tinggi selama 24 jam sebelum\n",
    "jam 12 malam hari itu\n",
    "9. WindGustSpeed - kecepatan angin yang paling tinggi dalam km/jam selama 24\n",
    "jam sebelum jam 12 malam hari itu\n",
    "10. WindDir9am - arah angin jam 9 pagi\n",
    "11. WindDir3pm - arah angin jam 3 sore\n",
    "12. WindSpeed9am - kecepatan angin jam 9 pagi dalam km/jam dihitung dari\n",
    "rata-rata kecepatan angin 10 menit sebelum jam 3 sore\n",
    "13. WindSpeed3pm - kecepatan angin jam 3 sore dalam km/jam dihitung dari\n",
    "rata-rata kecepatan angin 10 menit sebelum jam 3 sore\n",
    "14. Humidity9am - humiditas jam 9 pagi dalam persen\n",
    "15. Humidity3pm - humiditas jam 3 sore dalam persen\n",
    "16. Pressure9am - tekanan udara jam 9 pagi dalam hpa\n",
    "17. Pressure3pm - tekanan udara jam 3 sore dalam hpa\n",
    "18. Cloud9am - persentase langit yang tertutup awan jam 9 pagi. dihitung dalam\n",
    "oktas, unit ⅛, menghitung berapa unit ⅛ dari langit yang tertutup awan. Jika 0,\n",
    "langit cerah, jika 8, langit sepenuhnya tertutup awan.\n",
    "19. Cloud3pm - persentase langit yang tertutup awan jam 3 sore\n",
    "20. Temp9am - temperatur jam 9 pagi dalam celcius\n",
    "21. Temp3pm - temperatur jam 3 sore dalam celcius\n",
    "22. RainToday - apakah hari ini hujan: jika curah hujan 24 jam sebelum jam 9 pagi\n",
    "melebihi 1mm, maka nilai ini adalah 1, jika tidak nilai nya 0\n",
    "23. RainTomorrow - variable yang mau di prediksi"
   ]
  },
  {
   "cell_type": "markdown",
   "id": "fce72e62",
   "metadata": {},
   "source": [
    "## Pengecekan Missing Value"
   ]
  },
  {
   "cell_type": "code",
   "execution_count": 9,
   "id": "b6fdd73b",
   "metadata": {},
   "outputs": [
    {
     "data": {
      "text/plain": [
       "Date                 0\n",
       "Location             0\n",
       "MinTemp           1485\n",
       "MaxTemp           1261\n",
       "Rainfall          3261\n",
       "Evaporation      62790\n",
       "Sunshine         69835\n",
       "WindGustDir      10326\n",
       "WindGustSpeed    10263\n",
       "WindDir9am       10566\n",
       "WindDir3pm        4228\n",
       "WindSpeed9am      1767\n",
       "WindSpeed3pm      3062\n",
       "Humidity9am       2654\n",
       "Humidity3pm       4507\n",
       "Pressure9am      15065\n",
       "Pressure3pm      15028\n",
       "Cloud9am         55888\n",
       "Cloud3pm         59358\n",
       "Temp9am           1767\n",
       "Temp3pm           3609\n",
       "RainToday         3261\n",
       "RainTomorrow      3267\n",
       "dtype: int64"
      ]
     },
     "execution_count": 9,
     "metadata": {},
     "output_type": "execute_result"
    }
   ],
   "source": [
    "df.isna().sum()"
   ]
  },
  {
   "cell_type": "markdown",
   "id": "092a5e01",
   "metadata": {},
   "source": [
    "## Penghitungan Persentasi Missing Value"
   ]
  },
  {
   "cell_type": "code",
   "execution_count": 10,
   "id": "83939d11",
   "metadata": {},
   "outputs": [
    {
     "name": "stdout",
     "output_type": "stream",
     "text": [
      "Kolom Date:\n",
      "Jumlah nilai null: 0\n",
      "Total data: 145460\n",
      "Persentase missing value: 0.00%\n",
      "\n",
      "Kolom Location:\n",
      "Jumlah nilai null: 0\n",
      "Total data: 145460\n",
      "Persentase missing value: 0.00%\n",
      "\n",
      "Kolom MinTemp:\n",
      "Jumlah nilai null: 1485\n",
      "Total data: 145460\n",
      "Persentase missing value: 1.02%\n",
      "\n",
      "Kolom MaxTemp:\n",
      "Jumlah nilai null: 1261\n",
      "Total data: 145460\n",
      "Persentase missing value: 0.87%\n",
      "\n",
      "Kolom Rainfall:\n",
      "Jumlah nilai null: 3261\n",
      "Total data: 145460\n",
      "Persentase missing value: 2.24%\n",
      "\n",
      "Kolom Evaporation:\n",
      "Jumlah nilai null: 62790\n",
      "Total data: 145460\n",
      "Persentase missing value: 43.17%\n",
      "\n",
      "Kolom Sunshine:\n",
      "Jumlah nilai null: 69835\n",
      "Total data: 145460\n",
      "Persentase missing value: 48.01%\n",
      "\n",
      "Kolom WindGustDir:\n",
      "Jumlah nilai null: 10326\n",
      "Total data: 145460\n",
      "Persentase missing value: 7.10%\n",
      "\n",
      "Kolom WindGustSpeed:\n",
      "Jumlah nilai null: 10263\n",
      "Total data: 145460\n",
      "Persentase missing value: 7.06%\n",
      "\n",
      "Kolom WindDir9am:\n",
      "Jumlah nilai null: 10566\n",
      "Total data: 145460\n",
      "Persentase missing value: 7.26%\n",
      "\n",
      "Kolom WindDir3pm:\n",
      "Jumlah nilai null: 4228\n",
      "Total data: 145460\n",
      "Persentase missing value: 2.91%\n",
      "\n",
      "Kolom WindSpeed9am:\n",
      "Jumlah nilai null: 1767\n",
      "Total data: 145460\n",
      "Persentase missing value: 1.21%\n",
      "\n",
      "Kolom WindSpeed3pm:\n",
      "Jumlah nilai null: 3062\n",
      "Total data: 145460\n",
      "Persentase missing value: 2.11%\n",
      "\n",
      "Kolom Humidity9am:\n",
      "Jumlah nilai null: 2654\n",
      "Total data: 145460\n",
      "Persentase missing value: 1.82%\n",
      "\n",
      "Kolom Humidity3pm:\n",
      "Jumlah nilai null: 4507\n",
      "Total data: 145460\n",
      "Persentase missing value: 3.10%\n",
      "\n",
      "Kolom Pressure9am:\n",
      "Jumlah nilai null: 15065\n",
      "Total data: 145460\n",
      "Persentase missing value: 10.36%\n",
      "\n",
      "Kolom Pressure3pm:\n",
      "Jumlah nilai null: 15028\n",
      "Total data: 145460\n",
      "Persentase missing value: 10.33%\n",
      "\n",
      "Kolom Cloud9am:\n",
      "Jumlah nilai null: 55888\n",
      "Total data: 145460\n",
      "Persentase missing value: 38.42%\n",
      "\n",
      "Kolom Cloud3pm:\n",
      "Jumlah nilai null: 59358\n",
      "Total data: 145460\n",
      "Persentase missing value: 40.81%\n",
      "\n",
      "Kolom Temp9am:\n",
      "Jumlah nilai null: 1767\n",
      "Total data: 145460\n",
      "Persentase missing value: 1.21%\n",
      "\n",
      "Kolom Temp3pm:\n",
      "Jumlah nilai null: 3609\n",
      "Total data: 145460\n",
      "Persentase missing value: 2.48%\n",
      "\n",
      "Kolom RainToday:\n",
      "Jumlah nilai null: 3261\n",
      "Total data: 145460\n",
      "Persentase missing value: 2.24%\n",
      "\n",
      "Kolom RainTomorrow:\n",
      "Jumlah nilai null: 3267\n",
      "Total data: 145460\n",
      "Persentase missing value: 2.25%\n",
      "\n"
     ]
    }
   ],
   "source": [
    "for col in df.columns:\n",
    "    null_count = df[col].isnull().sum()\n",
    "    total_count = len(df[col])\n",
    "    perc_missing = (null_count / total_count) * 100\n",
    "    \n",
    "    print(f\"Kolom {col}:\")\n",
    "    print(f\"Jumlah nilai null: {null_count}\")\n",
    "    print(f\"Total data: {total_count}\")\n",
    "    print(f\"Persentase missing value: {perc_missing:.2f}%\\n\")"
   ]
  },
  {
   "cell_type": "markdown",
   "id": "0c422c51",
   "metadata": {},
   "source": [
    "## Pengecekan Data yang duplikat untuk semua kolom"
   ]
  },
  {
   "cell_type": "code",
   "execution_count": 11,
   "id": "e33d60f5",
   "metadata": {},
   "outputs": [
    {
     "data": {
      "text/html": [
       "<div>\n",
       "<style scoped>\n",
       "    .dataframe tbody tr th:only-of-type {\n",
       "        vertical-align: middle;\n",
       "    }\n",
       "\n",
       "    .dataframe tbody tr th {\n",
       "        vertical-align: top;\n",
       "    }\n",
       "\n",
       "    .dataframe thead th {\n",
       "        text-align: right;\n",
       "    }\n",
       "</style>\n",
       "<table border=\"1\" class=\"dataframe\">\n",
       "  <thead>\n",
       "    <tr style=\"text-align: right;\">\n",
       "      <th></th>\n",
       "      <th>Date</th>\n",
       "      <th>Location</th>\n",
       "      <th>MinTemp</th>\n",
       "      <th>MaxTemp</th>\n",
       "      <th>Rainfall</th>\n",
       "      <th>Evaporation</th>\n",
       "      <th>Sunshine</th>\n",
       "      <th>WindGustDir</th>\n",
       "      <th>WindGustSpeed</th>\n",
       "      <th>WindDir9am</th>\n",
       "      <th>WindDir3pm</th>\n",
       "      <th>WindSpeed9am</th>\n",
       "      <th>WindSpeed3pm</th>\n",
       "      <th>Humidity9am</th>\n",
       "      <th>Humidity3pm</th>\n",
       "      <th>Pressure9am</th>\n",
       "      <th>Pressure3pm</th>\n",
       "      <th>Cloud9am</th>\n",
       "      <th>Cloud3pm</th>\n",
       "      <th>Temp9am</th>\n",
       "      <th>Temp3pm</th>\n",
       "      <th>RainToday</th>\n",
       "      <th>RainTomorrow</th>\n",
       "    </tr>\n",
       "  </thead>\n",
       "  <tbody>\n",
       "  </tbody>\n",
       "</table>\n",
       "</div>"
      ],
      "text/plain": [
       "Empty DataFrame\n",
       "Columns: [Date, Location, MinTemp, MaxTemp, Rainfall, Evaporation, Sunshine, WindGustDir, WindGustSpeed, WindDir9am, WindDir3pm, WindSpeed9am, WindSpeed3pm, Humidity9am, Humidity3pm, Pressure9am, Pressure3pm, Cloud9am, Cloud3pm, Temp9am, Temp3pm, RainToday, RainTomorrow]\n",
       "Index: []"
      ]
     },
     "execution_count": 11,
     "metadata": {},
     "output_type": "execute_result"
    }
   ],
   "source": [
    "df[df.duplicated()]"
   ]
  },
  {
   "cell_type": "code",
   "execution_count": 12,
   "id": "026c01a5",
   "metadata": {},
   "outputs": [
    {
     "data": {
      "text/plain": [
       "0"
      ]
     },
     "execution_count": 12,
     "metadata": {},
     "output_type": "execute_result"
    }
   ],
   "source": [
    "df.duplicated().sum()"
   ]
  },
  {
   "cell_type": "markdown",
   "id": "14d01530",
   "metadata": {},
   "source": [
    "# Data Cleansing"
   ]
  },
  {
   "cell_type": "markdown",
   "id": "010d0536",
   "metadata": {},
   "source": [
    "## Mengubah Format DataTime"
   ]
  },
  {
   "cell_type": "code",
   "execution_count": 13,
   "id": "5a88425d",
   "metadata": {},
   "outputs": [],
   "source": [
    "df[\"Date\"]=pd.to_datetime(df[\"Date\"])"
   ]
  },
  {
   "cell_type": "markdown",
   "id": "5554e932",
   "metadata": {},
   "source": [
    "### Melakukan pengecekan ulang missing data"
   ]
  },
  {
   "cell_type": "code",
   "execution_count": 14,
   "id": "b414f784",
   "metadata": {},
   "outputs": [
    {
     "data": {
      "text/plain": [
       "Date                 0\n",
       "Location             0\n",
       "MinTemp           1485\n",
       "MaxTemp           1261\n",
       "Rainfall          3261\n",
       "Evaporation      62790\n",
       "Sunshine         69835\n",
       "WindGustDir      10326\n",
       "WindGustSpeed    10263\n",
       "WindDir9am       10566\n",
       "WindDir3pm        4228\n",
       "WindSpeed9am      1767\n",
       "WindSpeed3pm      3062\n",
       "Humidity9am       2654\n",
       "Humidity3pm       4507\n",
       "Pressure9am      15065\n",
       "Pressure3pm      15028\n",
       "Cloud9am         55888\n",
       "Cloud3pm         59358\n",
       "Temp9am           1767\n",
       "Temp3pm           3609\n",
       "RainToday         3261\n",
       "RainTomorrow      3267\n",
       "dtype: int64"
      ]
     },
     "execution_count": 14,
     "metadata": {},
     "output_type": "execute_result"
    }
   ],
   "source": [
    "df.isna().sum()"
   ]
  },
  {
   "cell_type": "markdown",
   "id": "9d802f8d",
   "metadata": {},
   "source": [
    "### menghilangkan missing value pada dataset, melakukan normalisasi pada dataset dengan cara melakukan dropping nilai null pada variabel target terlebih dahulu."
   ]
  },
  {
   "cell_type": "code",
   "execution_count": 15,
   "id": "e36ba319",
   "metadata": {},
   "outputs": [
    {
     "data": {
      "text/html": [
       "<div>\n",
       "<style scoped>\n",
       "    .dataframe tbody tr th:only-of-type {\n",
       "        vertical-align: middle;\n",
       "    }\n",
       "\n",
       "    .dataframe tbody tr th {\n",
       "        vertical-align: top;\n",
       "    }\n",
       "\n",
       "    .dataframe thead th {\n",
       "        text-align: right;\n",
       "    }\n",
       "</style>\n",
       "<table border=\"1\" class=\"dataframe\">\n",
       "  <thead>\n",
       "    <tr style=\"text-align: right;\">\n",
       "      <th></th>\n",
       "      <th>Date</th>\n",
       "      <th>Location</th>\n",
       "      <th>MinTemp</th>\n",
       "      <th>MaxTemp</th>\n",
       "      <th>Rainfall</th>\n",
       "      <th>Evaporation</th>\n",
       "      <th>Sunshine</th>\n",
       "      <th>WindGustDir</th>\n",
       "      <th>WindGustSpeed</th>\n",
       "      <th>WindDir9am</th>\n",
       "      <th>WindDir3pm</th>\n",
       "      <th>WindSpeed9am</th>\n",
       "      <th>WindSpeed3pm</th>\n",
       "      <th>Humidity9am</th>\n",
       "      <th>Humidity3pm</th>\n",
       "      <th>Pressure9am</th>\n",
       "      <th>Pressure3pm</th>\n",
       "      <th>Cloud9am</th>\n",
       "      <th>Cloud3pm</th>\n",
       "      <th>Temp9am</th>\n",
       "      <th>Temp3pm</th>\n",
       "      <th>RainToday</th>\n",
       "      <th>RainTomorrow</th>\n",
       "    </tr>\n",
       "  </thead>\n",
       "  <tbody>\n",
       "    <tr>\n",
       "      <th>0</th>\n",
       "      <td>2008-12-01</td>\n",
       "      <td>Albury</td>\n",
       "      <td>13.4</td>\n",
       "      <td>22.9</td>\n",
       "      <td>0.6</td>\n",
       "      <td>NaN</td>\n",
       "      <td>NaN</td>\n",
       "      <td>W</td>\n",
       "      <td>44.0</td>\n",
       "      <td>W</td>\n",
       "      <td>WNW</td>\n",
       "      <td>20.0</td>\n",
       "      <td>24.0</td>\n",
       "      <td>71.0</td>\n",
       "      <td>22.0</td>\n",
       "      <td>1007.7</td>\n",
       "      <td>1007.1</td>\n",
       "      <td>8.0</td>\n",
       "      <td>NaN</td>\n",
       "      <td>16.9</td>\n",
       "      <td>21.8</td>\n",
       "      <td>No</td>\n",
       "      <td>No</td>\n",
       "    </tr>\n",
       "    <tr>\n",
       "      <th>1</th>\n",
       "      <td>2008-12-02</td>\n",
       "      <td>Albury</td>\n",
       "      <td>7.4</td>\n",
       "      <td>25.1</td>\n",
       "      <td>0.0</td>\n",
       "      <td>NaN</td>\n",
       "      <td>NaN</td>\n",
       "      <td>WNW</td>\n",
       "      <td>44.0</td>\n",
       "      <td>NNW</td>\n",
       "      <td>WSW</td>\n",
       "      <td>4.0</td>\n",
       "      <td>22.0</td>\n",
       "      <td>44.0</td>\n",
       "      <td>25.0</td>\n",
       "      <td>1010.6</td>\n",
       "      <td>1007.8</td>\n",
       "      <td>NaN</td>\n",
       "      <td>NaN</td>\n",
       "      <td>17.2</td>\n",
       "      <td>24.3</td>\n",
       "      <td>No</td>\n",
       "      <td>No</td>\n",
       "    </tr>\n",
       "    <tr>\n",
       "      <th>2</th>\n",
       "      <td>2008-12-03</td>\n",
       "      <td>Albury</td>\n",
       "      <td>12.9</td>\n",
       "      <td>25.7</td>\n",
       "      <td>0.0</td>\n",
       "      <td>NaN</td>\n",
       "      <td>NaN</td>\n",
       "      <td>WSW</td>\n",
       "      <td>46.0</td>\n",
       "      <td>W</td>\n",
       "      <td>WSW</td>\n",
       "      <td>19.0</td>\n",
       "      <td>26.0</td>\n",
       "      <td>38.0</td>\n",
       "      <td>30.0</td>\n",
       "      <td>1007.6</td>\n",
       "      <td>1008.7</td>\n",
       "      <td>NaN</td>\n",
       "      <td>2.0</td>\n",
       "      <td>21.0</td>\n",
       "      <td>23.2</td>\n",
       "      <td>No</td>\n",
       "      <td>No</td>\n",
       "    </tr>\n",
       "    <tr>\n",
       "      <th>3</th>\n",
       "      <td>2008-12-04</td>\n",
       "      <td>Albury</td>\n",
       "      <td>9.2</td>\n",
       "      <td>28.0</td>\n",
       "      <td>0.0</td>\n",
       "      <td>NaN</td>\n",
       "      <td>NaN</td>\n",
       "      <td>NE</td>\n",
       "      <td>24.0</td>\n",
       "      <td>SE</td>\n",
       "      <td>E</td>\n",
       "      <td>11.0</td>\n",
       "      <td>9.0</td>\n",
       "      <td>45.0</td>\n",
       "      <td>16.0</td>\n",
       "      <td>1017.6</td>\n",
       "      <td>1012.8</td>\n",
       "      <td>NaN</td>\n",
       "      <td>NaN</td>\n",
       "      <td>18.1</td>\n",
       "      <td>26.5</td>\n",
       "      <td>No</td>\n",
       "      <td>No</td>\n",
       "    </tr>\n",
       "    <tr>\n",
       "      <th>4</th>\n",
       "      <td>2008-12-05</td>\n",
       "      <td>Albury</td>\n",
       "      <td>17.5</td>\n",
       "      <td>32.3</td>\n",
       "      <td>1.0</td>\n",
       "      <td>NaN</td>\n",
       "      <td>NaN</td>\n",
       "      <td>W</td>\n",
       "      <td>41.0</td>\n",
       "      <td>ENE</td>\n",
       "      <td>NW</td>\n",
       "      <td>7.0</td>\n",
       "      <td>20.0</td>\n",
       "      <td>82.0</td>\n",
       "      <td>33.0</td>\n",
       "      <td>1010.8</td>\n",
       "      <td>1006.0</td>\n",
       "      <td>7.0</td>\n",
       "      <td>8.0</td>\n",
       "      <td>17.8</td>\n",
       "      <td>29.7</td>\n",
       "      <td>No</td>\n",
       "      <td>No</td>\n",
       "    </tr>\n",
       "  </tbody>\n",
       "</table>\n",
       "</div>"
      ],
      "text/plain": [
       "        Date Location  MinTemp  MaxTemp  Rainfall  Evaporation  Sunshine  \\\n",
       "0 2008-12-01   Albury     13.4     22.9       0.6          NaN       NaN   \n",
       "1 2008-12-02   Albury      7.4     25.1       0.0          NaN       NaN   \n",
       "2 2008-12-03   Albury     12.9     25.7       0.0          NaN       NaN   \n",
       "3 2008-12-04   Albury      9.2     28.0       0.0          NaN       NaN   \n",
       "4 2008-12-05   Albury     17.5     32.3       1.0          NaN       NaN   \n",
       "\n",
       "  WindGustDir  WindGustSpeed WindDir9am WindDir3pm  WindSpeed9am  \\\n",
       "0           W           44.0          W        WNW          20.0   \n",
       "1         WNW           44.0        NNW        WSW           4.0   \n",
       "2         WSW           46.0          W        WSW          19.0   \n",
       "3          NE           24.0         SE          E          11.0   \n",
       "4           W           41.0        ENE         NW           7.0   \n",
       "\n",
       "   WindSpeed3pm  Humidity9am  Humidity3pm  Pressure9am  Pressure3pm  Cloud9am  \\\n",
       "0          24.0         71.0         22.0       1007.7       1007.1       8.0   \n",
       "1          22.0         44.0         25.0       1010.6       1007.8       NaN   \n",
       "2          26.0         38.0         30.0       1007.6       1008.7       NaN   \n",
       "3           9.0         45.0         16.0       1017.6       1012.8       NaN   \n",
       "4          20.0         82.0         33.0       1010.8       1006.0       7.0   \n",
       "\n",
       "   Cloud3pm  Temp9am  Temp3pm RainToday RainTomorrow  \n",
       "0       NaN     16.9     21.8        No           No  \n",
       "1       NaN     17.2     24.3        No           No  \n",
       "2       2.0     21.0     23.2        No           No  \n",
       "3       NaN     18.1     26.5        No           No  \n",
       "4       8.0     17.8     29.7        No           No  "
      ]
     },
     "execution_count": 15,
     "metadata": {},
     "output_type": "execute_result"
    }
   ],
   "source": [
    "#Dropping the null values in dependent variable\n",
    "#Use df1 veriable for train data\n",
    "df = df[df['RainTomorrow'].notna()]   #This is our training data\n",
    "df.head()"
   ]
  },
  {
   "cell_type": "markdown",
   "id": "6615a9fd",
   "metadata": {},
   "source": [
    "Selanjutnya melakukan pengelompokkan category variable data dan melakukan pengisian nilai"
   ]
  },
  {
   "cell_type": "code",
   "execution_count": 16,
   "id": "abb93779",
   "metadata": {},
   "outputs": [
    {
     "name": "stdout",
     "output_type": "stream",
     "text": [
      "There are 6 category variables\n",
      "\n",
      "Category Variables : ['Location', 'WindGustDir', 'WindDir9am', 'WindDir3pm', 'RainToday', 'RainTomorrow']\n"
     ]
    }
   ],
   "source": [
    "# find categorical variables\n",
    "\n",
    "category = [var for var in df.columns if df[var].dtype=='O']\n",
    "\n",
    "print('There are {} category variables\\n'.format(len(category)))\n",
    "\n",
    "print('Category Variables :', category)"
   ]
  },
  {
   "cell_type": "code",
   "execution_count": 17,
   "id": "976ace34",
   "metadata": {},
   "outputs": [
    {
     "data": {
      "text/plain": [
       "['Location',\n",
       " 'WindGustDir',\n",
       " 'WindDir9am',\n",
       " 'WindDir3pm',\n",
       " 'RainToday',\n",
       " 'RainTomorrow']"
      ]
     },
     "execution_count": 17,
     "metadata": {},
     "output_type": "execute_result"
    }
   ],
   "source": [
    "category"
   ]
  },
  {
   "cell_type": "code",
   "execution_count": 18,
   "id": "eb6bd437",
   "metadata": {},
   "outputs": [
    {
     "data": {
      "text/html": [
       "<div>\n",
       "<style scoped>\n",
       "    .dataframe tbody tr th:only-of-type {\n",
       "        vertical-align: middle;\n",
       "    }\n",
       "\n",
       "    .dataframe tbody tr th {\n",
       "        vertical-align: top;\n",
       "    }\n",
       "\n",
       "    .dataframe thead th {\n",
       "        text-align: right;\n",
       "    }\n",
       "</style>\n",
       "<table border=\"1\" class=\"dataframe\">\n",
       "  <thead>\n",
       "    <tr style=\"text-align: right;\">\n",
       "      <th></th>\n",
       "      <th>Location</th>\n",
       "      <th>WindGustDir</th>\n",
       "      <th>WindDir9am</th>\n",
       "      <th>WindDir3pm</th>\n",
       "      <th>RainToday</th>\n",
       "      <th>RainTomorrow</th>\n",
       "    </tr>\n",
       "  </thead>\n",
       "  <tbody>\n",
       "    <tr>\n",
       "      <th>0</th>\n",
       "      <td>Albury</td>\n",
       "      <td>W</td>\n",
       "      <td>W</td>\n",
       "      <td>WNW</td>\n",
       "      <td>No</td>\n",
       "      <td>No</td>\n",
       "    </tr>\n",
       "    <tr>\n",
       "      <th>1</th>\n",
       "      <td>Albury</td>\n",
       "      <td>WNW</td>\n",
       "      <td>NNW</td>\n",
       "      <td>WSW</td>\n",
       "      <td>No</td>\n",
       "      <td>No</td>\n",
       "    </tr>\n",
       "    <tr>\n",
       "      <th>2</th>\n",
       "      <td>Albury</td>\n",
       "      <td>WSW</td>\n",
       "      <td>W</td>\n",
       "      <td>WSW</td>\n",
       "      <td>No</td>\n",
       "      <td>No</td>\n",
       "    </tr>\n",
       "    <tr>\n",
       "      <th>3</th>\n",
       "      <td>Albury</td>\n",
       "      <td>NE</td>\n",
       "      <td>SE</td>\n",
       "      <td>E</td>\n",
       "      <td>No</td>\n",
       "      <td>No</td>\n",
       "    </tr>\n",
       "    <tr>\n",
       "      <th>4</th>\n",
       "      <td>Albury</td>\n",
       "      <td>W</td>\n",
       "      <td>ENE</td>\n",
       "      <td>NW</td>\n",
       "      <td>No</td>\n",
       "      <td>No</td>\n",
       "    </tr>\n",
       "  </tbody>\n",
       "</table>\n",
       "</div>"
      ],
      "text/plain": [
       "  Location WindGustDir WindDir9am WindDir3pm RainToday RainTomorrow\n",
       "0   Albury           W          W        WNW        No           No\n",
       "1   Albury         WNW        NNW        WSW        No           No\n",
       "2   Albury         WSW          W        WSW        No           No\n",
       "3   Albury          NE         SE          E        No           No\n",
       "4   Albury           W        ENE         NW        No           No"
      ]
     },
     "execution_count": 18,
     "metadata": {},
     "output_type": "execute_result"
    }
   ],
   "source": [
    "df[category].head()"
   ]
  },
  {
   "cell_type": "code",
   "execution_count": 19,
   "id": "66184664",
   "metadata": {},
   "outputs": [],
   "source": [
    "#replacing null values in categorical variables with mode value\n",
    "df['WindGustDir'].fillna(df['WindGustDir'].mode()[0], inplace=True)\n",
    "df['WindDir9am'].fillna(df['WindDir9am'].mode()[0], inplace=True)\n",
    "df['WindDir3pm'].fillna(df['WindDir3pm'].mode()[0], inplace=True)\n",
    "df['RainToday'].fillna(df['RainToday'].mode()[0], inplace=True)"
   ]
  },
  {
   "cell_type": "markdown",
   "id": "b35120ee",
   "metadata": {},
   "source": [
    "Selanjutnya melakukan pengelompokkan numerik data dan pengisian nilai"
   ]
  },
  {
   "cell_type": "code",
   "execution_count": 20,
   "id": "5d7cba4e",
   "metadata": {},
   "outputs": [
    {
     "name": "stdout",
     "output_type": "stream",
     "text": [
      "There are 17 category variables\n",
      "\n",
      "categorical numerik : ['Date', 'MinTemp', 'MaxTemp', 'Rainfall', 'Evaporation', 'Sunshine', 'WindGustSpeed', 'WindSpeed9am', 'WindSpeed3pm', 'Humidity9am', 'Humidity3pm', 'Pressure9am', 'Pressure3pm', 'Cloud9am', 'Cloud3pm', 'Temp9am', 'Temp3pm']\n"
     ]
    }
   ],
   "source": [
    "# find categorical variables\n",
    "\n",
    "numerik = [var for var in df.columns if df[var].dtype!='O']\n",
    "\n",
    "print('There are {} category variables\\n'.format(len(numerik)))\n",
    "\n",
    "print('categorical numerik :', numerik)"
   ]
  },
  {
   "cell_type": "code",
   "execution_count": 21,
   "id": "9fd37c75",
   "metadata": {},
   "outputs": [
    {
     "data": {
      "text/plain": [
       "['Date',\n",
       " 'MinTemp',\n",
       " 'MaxTemp',\n",
       " 'Rainfall',\n",
       " 'Evaporation',\n",
       " 'Sunshine',\n",
       " 'WindGustSpeed',\n",
       " 'WindSpeed9am',\n",
       " 'WindSpeed3pm',\n",
       " 'Humidity9am',\n",
       " 'Humidity3pm',\n",
       " 'Pressure9am',\n",
       " 'Pressure3pm',\n",
       " 'Cloud9am',\n",
       " 'Cloud3pm',\n",
       " 'Temp9am',\n",
       " 'Temp3pm']"
      ]
     },
     "execution_count": 21,
     "metadata": {},
     "output_type": "execute_result"
    }
   ],
   "source": [
    "numerik"
   ]
  },
  {
   "cell_type": "code",
   "execution_count": 22,
   "id": "6be40e68",
   "metadata": {},
   "outputs": [
    {
     "data": {
      "text/html": [
       "<div>\n",
       "<style scoped>\n",
       "    .dataframe tbody tr th:only-of-type {\n",
       "        vertical-align: middle;\n",
       "    }\n",
       "\n",
       "    .dataframe tbody tr th {\n",
       "        vertical-align: top;\n",
       "    }\n",
       "\n",
       "    .dataframe thead th {\n",
       "        text-align: right;\n",
       "    }\n",
       "</style>\n",
       "<table border=\"1\" class=\"dataframe\">\n",
       "  <thead>\n",
       "    <tr style=\"text-align: right;\">\n",
       "      <th></th>\n",
       "      <th>Date</th>\n",
       "      <th>MinTemp</th>\n",
       "      <th>MaxTemp</th>\n",
       "      <th>Rainfall</th>\n",
       "      <th>Evaporation</th>\n",
       "      <th>Sunshine</th>\n",
       "      <th>WindGustSpeed</th>\n",
       "      <th>WindSpeed9am</th>\n",
       "      <th>WindSpeed3pm</th>\n",
       "      <th>Humidity9am</th>\n",
       "      <th>Humidity3pm</th>\n",
       "      <th>Pressure9am</th>\n",
       "      <th>Pressure3pm</th>\n",
       "      <th>Cloud9am</th>\n",
       "      <th>Cloud3pm</th>\n",
       "      <th>Temp9am</th>\n",
       "      <th>Temp3pm</th>\n",
       "    </tr>\n",
       "  </thead>\n",
       "  <tbody>\n",
       "    <tr>\n",
       "      <th>0</th>\n",
       "      <td>2008-12-01</td>\n",
       "      <td>13.4</td>\n",
       "      <td>22.9</td>\n",
       "      <td>0.6</td>\n",
       "      <td>NaN</td>\n",
       "      <td>NaN</td>\n",
       "      <td>44.0</td>\n",
       "      <td>20.0</td>\n",
       "      <td>24.0</td>\n",
       "      <td>71.0</td>\n",
       "      <td>22.0</td>\n",
       "      <td>1007.7</td>\n",
       "      <td>1007.1</td>\n",
       "      <td>8.0</td>\n",
       "      <td>NaN</td>\n",
       "      <td>16.9</td>\n",
       "      <td>21.8</td>\n",
       "    </tr>\n",
       "    <tr>\n",
       "      <th>1</th>\n",
       "      <td>2008-12-02</td>\n",
       "      <td>7.4</td>\n",
       "      <td>25.1</td>\n",
       "      <td>0.0</td>\n",
       "      <td>NaN</td>\n",
       "      <td>NaN</td>\n",
       "      <td>44.0</td>\n",
       "      <td>4.0</td>\n",
       "      <td>22.0</td>\n",
       "      <td>44.0</td>\n",
       "      <td>25.0</td>\n",
       "      <td>1010.6</td>\n",
       "      <td>1007.8</td>\n",
       "      <td>NaN</td>\n",
       "      <td>NaN</td>\n",
       "      <td>17.2</td>\n",
       "      <td>24.3</td>\n",
       "    </tr>\n",
       "    <tr>\n",
       "      <th>2</th>\n",
       "      <td>2008-12-03</td>\n",
       "      <td>12.9</td>\n",
       "      <td>25.7</td>\n",
       "      <td>0.0</td>\n",
       "      <td>NaN</td>\n",
       "      <td>NaN</td>\n",
       "      <td>46.0</td>\n",
       "      <td>19.0</td>\n",
       "      <td>26.0</td>\n",
       "      <td>38.0</td>\n",
       "      <td>30.0</td>\n",
       "      <td>1007.6</td>\n",
       "      <td>1008.7</td>\n",
       "      <td>NaN</td>\n",
       "      <td>2.0</td>\n",
       "      <td>21.0</td>\n",
       "      <td>23.2</td>\n",
       "    </tr>\n",
       "    <tr>\n",
       "      <th>3</th>\n",
       "      <td>2008-12-04</td>\n",
       "      <td>9.2</td>\n",
       "      <td>28.0</td>\n",
       "      <td>0.0</td>\n",
       "      <td>NaN</td>\n",
       "      <td>NaN</td>\n",
       "      <td>24.0</td>\n",
       "      <td>11.0</td>\n",
       "      <td>9.0</td>\n",
       "      <td>45.0</td>\n",
       "      <td>16.0</td>\n",
       "      <td>1017.6</td>\n",
       "      <td>1012.8</td>\n",
       "      <td>NaN</td>\n",
       "      <td>NaN</td>\n",
       "      <td>18.1</td>\n",
       "      <td>26.5</td>\n",
       "    </tr>\n",
       "    <tr>\n",
       "      <th>4</th>\n",
       "      <td>2008-12-05</td>\n",
       "      <td>17.5</td>\n",
       "      <td>32.3</td>\n",
       "      <td>1.0</td>\n",
       "      <td>NaN</td>\n",
       "      <td>NaN</td>\n",
       "      <td>41.0</td>\n",
       "      <td>7.0</td>\n",
       "      <td>20.0</td>\n",
       "      <td>82.0</td>\n",
       "      <td>33.0</td>\n",
       "      <td>1010.8</td>\n",
       "      <td>1006.0</td>\n",
       "      <td>7.0</td>\n",
       "      <td>8.0</td>\n",
       "      <td>17.8</td>\n",
       "      <td>29.7</td>\n",
       "    </tr>\n",
       "  </tbody>\n",
       "</table>\n",
       "</div>"
      ],
      "text/plain": [
       "        Date  MinTemp  MaxTemp  Rainfall  Evaporation  Sunshine  \\\n",
       "0 2008-12-01     13.4     22.9       0.6          NaN       NaN   \n",
       "1 2008-12-02      7.4     25.1       0.0          NaN       NaN   \n",
       "2 2008-12-03     12.9     25.7       0.0          NaN       NaN   \n",
       "3 2008-12-04      9.2     28.0       0.0          NaN       NaN   \n",
       "4 2008-12-05     17.5     32.3       1.0          NaN       NaN   \n",
       "\n",
       "   WindGustSpeed  WindSpeed9am  WindSpeed3pm  Humidity9am  Humidity3pm  \\\n",
       "0           44.0          20.0          24.0         71.0         22.0   \n",
       "1           44.0           4.0          22.0         44.0         25.0   \n",
       "2           46.0          19.0          26.0         38.0         30.0   \n",
       "3           24.0          11.0           9.0         45.0         16.0   \n",
       "4           41.0           7.0          20.0         82.0         33.0   \n",
       "\n",
       "   Pressure9am  Pressure3pm  Cloud9am  Cloud3pm  Temp9am  Temp3pm  \n",
       "0       1007.7       1007.1       8.0       NaN     16.9     21.8  \n",
       "1       1010.6       1007.8       NaN       NaN     17.2     24.3  \n",
       "2       1007.6       1008.7       NaN       2.0     21.0     23.2  \n",
       "3       1017.6       1012.8       NaN       NaN     18.1     26.5  \n",
       "4       1010.8       1006.0       7.0       8.0     17.8     29.7  "
      ]
     },
     "execution_count": 22,
     "metadata": {},
     "output_type": "execute_result"
    }
   ],
   "source": [
    "df[numerik].head()"
   ]
  },
  {
   "cell_type": "code",
   "execution_count": 23,
   "id": "301b889f",
   "metadata": {},
   "outputs": [
    {
     "name": "stderr",
     "output_type": "stream",
     "text": [
      "C:\\Users\\ASUS\\AppData\\Local\\Temp\\ipykernel_1492\\3809857404.py:2: FutureWarning: DataFrame.mean and DataFrame.median with numeric_only=None will include datetime64 and datetime64tz columns in a future version.\n",
      "  df = df.fillna(df.mean())\n",
      "C:\\Users\\ASUS\\AppData\\Local\\Temp\\ipykernel_1492\\3809857404.py:2: FutureWarning: Dropping of nuisance columns in DataFrame reductions (with 'numeric_only=None') is deprecated; in a future version this will raise TypeError.  Select only valid columns before calling the reduction.\n",
      "  df = df.fillna(df.mean())\n"
     ]
    },
    {
     "data": {
      "text/html": [
       "<div>\n",
       "<style scoped>\n",
       "    .dataframe tbody tr th:only-of-type {\n",
       "        vertical-align: middle;\n",
       "    }\n",
       "\n",
       "    .dataframe tbody tr th {\n",
       "        vertical-align: top;\n",
       "    }\n",
       "\n",
       "    .dataframe thead th {\n",
       "        text-align: right;\n",
       "    }\n",
       "</style>\n",
       "<table border=\"1\" class=\"dataframe\">\n",
       "  <thead>\n",
       "    <tr style=\"text-align: right;\">\n",
       "      <th></th>\n",
       "      <th>Date</th>\n",
       "      <th>Location</th>\n",
       "      <th>MinTemp</th>\n",
       "      <th>MaxTemp</th>\n",
       "      <th>Rainfall</th>\n",
       "      <th>Evaporation</th>\n",
       "      <th>Sunshine</th>\n",
       "      <th>WindGustDir</th>\n",
       "      <th>WindGustSpeed</th>\n",
       "      <th>WindDir9am</th>\n",
       "      <th>WindDir3pm</th>\n",
       "      <th>WindSpeed9am</th>\n",
       "      <th>WindSpeed3pm</th>\n",
       "      <th>Humidity9am</th>\n",
       "      <th>Humidity3pm</th>\n",
       "      <th>Pressure9am</th>\n",
       "      <th>Pressure3pm</th>\n",
       "      <th>Cloud9am</th>\n",
       "      <th>Cloud3pm</th>\n",
       "      <th>Temp9am</th>\n",
       "      <th>Temp3pm</th>\n",
       "      <th>RainToday</th>\n",
       "      <th>RainTomorrow</th>\n",
       "    </tr>\n",
       "  </thead>\n",
       "  <tbody>\n",
       "    <tr>\n",
       "      <th>0</th>\n",
       "      <td>2008-12-01</td>\n",
       "      <td>Albury</td>\n",
       "      <td>13.4</td>\n",
       "      <td>22.9</td>\n",
       "      <td>0.6</td>\n",
       "      <td>5.469824</td>\n",
       "      <td>7.624853</td>\n",
       "      <td>W</td>\n",
       "      <td>44.0</td>\n",
       "      <td>W</td>\n",
       "      <td>WNW</td>\n",
       "      <td>20.0</td>\n",
       "      <td>24.0</td>\n",
       "      <td>71.0</td>\n",
       "      <td>22.0</td>\n",
       "      <td>1007.7</td>\n",
       "      <td>1007.1</td>\n",
       "      <td>8.000000</td>\n",
       "      <td>4.503167</td>\n",
       "      <td>16.9</td>\n",
       "      <td>21.8</td>\n",
       "      <td>No</td>\n",
       "      <td>No</td>\n",
       "    </tr>\n",
       "    <tr>\n",
       "      <th>1</th>\n",
       "      <td>2008-12-02</td>\n",
       "      <td>Albury</td>\n",
       "      <td>7.4</td>\n",
       "      <td>25.1</td>\n",
       "      <td>0.0</td>\n",
       "      <td>5.469824</td>\n",
       "      <td>7.624853</td>\n",
       "      <td>WNW</td>\n",
       "      <td>44.0</td>\n",
       "      <td>NNW</td>\n",
       "      <td>WSW</td>\n",
       "      <td>4.0</td>\n",
       "      <td>22.0</td>\n",
       "      <td>44.0</td>\n",
       "      <td>25.0</td>\n",
       "      <td>1010.6</td>\n",
       "      <td>1007.8</td>\n",
       "      <td>4.437189</td>\n",
       "      <td>4.503167</td>\n",
       "      <td>17.2</td>\n",
       "      <td>24.3</td>\n",
       "      <td>No</td>\n",
       "      <td>No</td>\n",
       "    </tr>\n",
       "    <tr>\n",
       "      <th>2</th>\n",
       "      <td>2008-12-03</td>\n",
       "      <td>Albury</td>\n",
       "      <td>12.9</td>\n",
       "      <td>25.7</td>\n",
       "      <td>0.0</td>\n",
       "      <td>5.469824</td>\n",
       "      <td>7.624853</td>\n",
       "      <td>WSW</td>\n",
       "      <td>46.0</td>\n",
       "      <td>W</td>\n",
       "      <td>WSW</td>\n",
       "      <td>19.0</td>\n",
       "      <td>26.0</td>\n",
       "      <td>38.0</td>\n",
       "      <td>30.0</td>\n",
       "      <td>1007.6</td>\n",
       "      <td>1008.7</td>\n",
       "      <td>4.437189</td>\n",
       "      <td>2.000000</td>\n",
       "      <td>21.0</td>\n",
       "      <td>23.2</td>\n",
       "      <td>No</td>\n",
       "      <td>No</td>\n",
       "    </tr>\n",
       "    <tr>\n",
       "      <th>3</th>\n",
       "      <td>2008-12-04</td>\n",
       "      <td>Albury</td>\n",
       "      <td>9.2</td>\n",
       "      <td>28.0</td>\n",
       "      <td>0.0</td>\n",
       "      <td>5.469824</td>\n",
       "      <td>7.624853</td>\n",
       "      <td>NE</td>\n",
       "      <td>24.0</td>\n",
       "      <td>SE</td>\n",
       "      <td>E</td>\n",
       "      <td>11.0</td>\n",
       "      <td>9.0</td>\n",
       "      <td>45.0</td>\n",
       "      <td>16.0</td>\n",
       "      <td>1017.6</td>\n",
       "      <td>1012.8</td>\n",
       "      <td>4.437189</td>\n",
       "      <td>4.503167</td>\n",
       "      <td>18.1</td>\n",
       "      <td>26.5</td>\n",
       "      <td>No</td>\n",
       "      <td>No</td>\n",
       "    </tr>\n",
       "    <tr>\n",
       "      <th>4</th>\n",
       "      <td>2008-12-05</td>\n",
       "      <td>Albury</td>\n",
       "      <td>17.5</td>\n",
       "      <td>32.3</td>\n",
       "      <td>1.0</td>\n",
       "      <td>5.469824</td>\n",
       "      <td>7.624853</td>\n",
       "      <td>W</td>\n",
       "      <td>41.0</td>\n",
       "      <td>ENE</td>\n",
       "      <td>NW</td>\n",
       "      <td>7.0</td>\n",
       "      <td>20.0</td>\n",
       "      <td>82.0</td>\n",
       "      <td>33.0</td>\n",
       "      <td>1010.8</td>\n",
       "      <td>1006.0</td>\n",
       "      <td>7.000000</td>\n",
       "      <td>8.000000</td>\n",
       "      <td>17.8</td>\n",
       "      <td>29.7</td>\n",
       "      <td>No</td>\n",
       "      <td>No</td>\n",
       "    </tr>\n",
       "  </tbody>\n",
       "</table>\n",
       "</div>"
      ],
      "text/plain": [
       "        Date Location  MinTemp  MaxTemp  Rainfall  Evaporation  Sunshine  \\\n",
       "0 2008-12-01   Albury     13.4     22.9       0.6     5.469824  7.624853   \n",
       "1 2008-12-02   Albury      7.4     25.1       0.0     5.469824  7.624853   \n",
       "2 2008-12-03   Albury     12.9     25.7       0.0     5.469824  7.624853   \n",
       "3 2008-12-04   Albury      9.2     28.0       0.0     5.469824  7.624853   \n",
       "4 2008-12-05   Albury     17.5     32.3       1.0     5.469824  7.624853   \n",
       "\n",
       "  WindGustDir  WindGustSpeed WindDir9am WindDir3pm  WindSpeed9am  \\\n",
       "0           W           44.0          W        WNW          20.0   \n",
       "1         WNW           44.0        NNW        WSW           4.0   \n",
       "2         WSW           46.0          W        WSW          19.0   \n",
       "3          NE           24.0         SE          E          11.0   \n",
       "4           W           41.0        ENE         NW           7.0   \n",
       "\n",
       "   WindSpeed3pm  Humidity9am  Humidity3pm  Pressure9am  Pressure3pm  Cloud9am  \\\n",
       "0          24.0         71.0         22.0       1007.7       1007.1  8.000000   \n",
       "1          22.0         44.0         25.0       1010.6       1007.8  4.437189   \n",
       "2          26.0         38.0         30.0       1007.6       1008.7  4.437189   \n",
       "3           9.0         45.0         16.0       1017.6       1012.8  4.437189   \n",
       "4          20.0         82.0         33.0       1010.8       1006.0  7.000000   \n",
       "\n",
       "   Cloud3pm  Temp9am  Temp3pm RainToday RainTomorrow  \n",
       "0  4.503167     16.9     21.8        No           No  \n",
       "1  4.503167     17.2     24.3        No           No  \n",
       "2  2.000000     21.0     23.2        No           No  \n",
       "3  4.503167     18.1     26.5        No           No  \n",
       "4  8.000000     17.8     29.7        No           No  "
      ]
     },
     "execution_count": 23,
     "metadata": {},
     "output_type": "execute_result"
    }
   ],
   "source": [
    "#filling the null values in numerical variable with mean\n",
    "df = df.fillna(df.mean())\n",
    "df.head()"
   ]
  },
  {
   "cell_type": "code",
   "execution_count": 24,
   "id": "fa080bf6",
   "metadata": {},
   "outputs": [
    {
     "data": {
      "text/plain": [
       "Date             0\n",
       "Location         0\n",
       "MinTemp          0\n",
       "MaxTemp          0\n",
       "Rainfall         0\n",
       "Evaporation      0\n",
       "Sunshine         0\n",
       "WindGustDir      0\n",
       "WindGustSpeed    0\n",
       "WindDir9am       0\n",
       "WindDir3pm       0\n",
       "WindSpeed9am     0\n",
       "WindSpeed3pm     0\n",
       "Humidity9am      0\n",
       "Humidity3pm      0\n",
       "Pressure9am      0\n",
       "Pressure3pm      0\n",
       "Cloud9am         0\n",
       "Cloud3pm         0\n",
       "Temp9am          0\n",
       "Temp3pm          0\n",
       "RainToday        0\n",
       "RainTomorrow     0\n",
       "dtype: int64"
      ]
     },
     "execution_count": 24,
     "metadata": {},
     "output_type": "execute_result"
    }
   ],
   "source": [
    "df.isnull().sum()"
   ]
  },
  {
   "cell_type": "markdown",
   "id": "9b2bf5b5",
   "metadata": {},
   "source": [
    "# Explorasi data Analist"
   ]
  },
  {
   "cell_type": "markdown",
   "id": "617568fa",
   "metadata": {},
   "source": [
    "## Membuat Function"
   ]
  },
  {
   "cell_type": "markdown",
   "id": "80359b96",
   "metadata": {},
   "source": [
    "### plot_bar"
   ]
  },
  {
   "cell_type": "code",
   "execution_count": 25,
   "id": "a64c9798",
   "metadata": {},
   "outputs": [],
   "source": [
    "def plot_bar(groupby_column,ninety): # Definisikan fungsi plot_line_and_bar dengan parameter groupby_column dan ninety\n",
    "    df1 = df.groupby(groupby_column).size().reset_index(name=\"counts\")  # Mengelompokkan data dan menghitung jumlah data dalam setiap grup\n",
    "    x = df1[groupby_column]  # Menyimpan data kolom groupby_column ke dalam variabel x\n",
    "    y = df1[\"counts\"]  # Menyimpan data kolom counts ke dalam variabel y\n",
    "    num_colors = len(df1)  # Menghitung jumlah warna yang dibutuhkan untuk plot\n",
    "    colormap = plt.cm.get_cmap('tab20', num_colors)  # Mengambil colormap dengan jumlah warna yang sesuai\n",
    "    fig, (ax2) = plt.subplots(1, figsize=(20, 20))  # Membuat objek plot dengan 2 subplot, serta mengatur ukuran figure menjadi 20x10 inches\n",
    "\n",
    "    # Plot Bar\n",
    "    bars = ax2.bar(x, y, color=colormap(np.arange(num_colors)))\n",
    "    if groupby_column == \"month\":\n",
    "        plt.xticks([11, 12])\n",
    "    else:\n",
    "        ax2.set_xlabel(groupby_column)\n",
    "    ax2.set_ylabel('Jumlah')\n",
    "    ax2.set_title(f'Bar Plot untuk {groupby_column}')\n",
    "    if ninety == 1:\n",
    "        ax2.set_xticklabels(x, rotation=90)\n",
    "    ax2.legend(bars, df1[groupby_column], title=groupby_column, bbox_to_anchor=(1.05, 1), loc='upper left', fontsize=12) \n",
    "\n",
    "    #show data \n",
    "    a = input(\"Pilih untuk tampilan data [1] Semua data, [2] 5 Data terbesar, [3] Keduanya, [4] Tidak keduanya  : \")\n",
    "    \n",
    "    if a == \"1\":\n",
    "        print(df1)\n",
    "    elif a == \"2\":\n",
    "        df_top_5 = df1.nlargest(5, 'counts')\n",
    "        print(df_top_5)\n",
    "    elif a == \"3\":\n",
    "        print(\"All Data\")\n",
    "        print(df1)\n",
    "        df_top_5 = df1.nlargest(5, 'counts')\n",
    "        print(\" TOP 5 \")\n",
    "        print(df_top_5)\n",
    "    else:\n",
    "        print(\"Data disembunyikan\")\n",
    "\n",
    "    plt.show()\n"
   ]
  },
  {
   "cell_type": "markdown",
   "id": "d53213a9",
   "metadata": {},
   "source": [
    "### plt_bar_double"
   ]
  },
  {
   "cell_type": "code",
   "execution_count": 26,
   "id": "387bdad4",
   "metadata": {},
   "outputs": [],
   "source": [
    "def plt_bar_double(groupby1, groupby2):\n",
    "    # Melakukan groupby pada DataFrame df berdasarkan kolom groupby1 dan groupby2, dan menghitung jumlah\n",
    "    df2 = df.groupby(by=[groupby1, groupby2]).size().reset_index(name=\"counts\")\n",
    "\n",
    "    # Mengambil nilai x dan y dari DataFrame df2\n",
    "    x = df2[groupby1]\n",
    "    y = df2[\"counts\"]\n",
    "\n",
    "    # Mengambil nilai warna dari DataFrame df2\n",
    "    colors = df2[groupby2]\n",
    "\n",
    "    # Menentukan palet warna \"tab20\" dari matplotlib\n",
    "    color_palette = plt.cm.get_cmap(\"tab20\", len(df2[groupby2].unique()))\n",
    "\n",
    "    # Membuat objek figure dan axis pada plot\n",
    "    fig, ax = plt.subplots(figsize=(20,15))\n",
    "\n",
    "    # Mengiterasi warna yang ada pada DataFrame df2\n",
    "    for i, cab_type in enumerate(df2[groupby2].unique()):\n",
    "        # Membuat plot bar dengan lebar 0.35 untuk setiap warna yang berbeda\n",
    "        ax.bar(x[colors == cab_type], y[colors == cab_type], width=0.35, label=cab_type, color=color_palette(i))\n",
    "\n",
    "    # Menyertakan label pada sumbu x dan y, serta judul plot\n",
    "    ax.set_xlabel(groupby1)\n",
    "    ax.set_ylabel('Counts')\n",
    "    ax.set_title('Bar Chart')\n",
    "    ax.set_xticklabels(x, rotation=90)\n",
    "\n",
    "    # Menyertakan legenda pada plot\n",
    "    ax.legend()\n",
    "\n",
    "    # Menampilkan plot\n",
    "    # Menampilkan plot\n",
    "    a = input(\"Pilih untuk tampilan data [1] Semua data, [2] 5 Data terbesar, [3] Keduanya, [4] Tidak keduanya  : \")\n",
    "    \n",
    "    if a==\"1\":\n",
    "        print(df2)\n",
    "    elif a==\"2\":\n",
    "        df_top_5 = df2.nlargest(5, 'counts')\n",
    "        print(df_top_5)\n",
    "    elif a==\"3\":\n",
    "        print(\"All Data\")\n",
    "        print(df1)\n",
    "        df_top_5 = df2.nlargest(5, 'counts')\n",
    "        print(\" TOP 5 \")\n",
    "        print(df_top_5)\n",
    "    else:\n",
    "        print(\"Data disembunyikan\")\n",
    "        \n",
    "    plt.show()\n"
   ]
  },
  {
   "cell_type": "markdown",
   "id": "61da1924",
   "metadata": {},
   "source": [
    "### plt_line_double"
   ]
  },
  {
   "cell_type": "code",
   "execution_count": 27,
   "id": "9fc397b9",
   "metadata": {},
   "outputs": [],
   "source": [
    "# Membuat fungsi plt_line_double dengan 2 argumen\n",
    "def plt_line_double(groupby1, groupby2,ninety):\n",
    "    # Melakukan groupby pada DataFrame df berdasarkan kolom groupby1 dan groupby2, dan menghitung jumlah\n",
    "    df2 = df.groupby(by=[groupby1, groupby2]).size().reset_index(name=\"counts\")\n",
    "    \n",
    "    # Mengambil nilai x dan y dari DataFrame df2\n",
    "    x = df2[groupby1]\n",
    "    y = df2[\"counts\"]\n",
    "    \n",
    "    # Mengambil nilai warna dari DataFrame df2\n",
    "    colors = df2[groupby2]\n",
    "    \n",
    "    # Membuat objek figure dan axis pada plot\n",
    "    fig, ax = plt.subplots(figsize=(20,15))\n",
    "    \n",
    "    # Mengiterasi warna yang ada pada DataFrame df2\n",
    "    for cab_type in df2[groupby2].unique():\n",
    "        # Membuat plot garis dengan marker berbentuk 'o' untuk setiap warna yang berbeda\n",
    "        ax.plot(x[colors == cab_type], y[colors == cab_type], marker='o', label=cab_type)\n",
    "\n",
    "    # Menyertakan label pada sumbu x dan y, serta judul plot\n",
    "    ax.set_xlabel(groupby1)\n",
    "    ax.set_ylabel('Counts')\n",
    "    ax.set_title('Line Chart')\n",
    "    if ninety==1:\n",
    "        ax.set_xticklabels(x, rotation=90)\n",
    "    \n",
    "    # Menyertakan legenda pada plot\n",
    "    ax.legend()\n",
    "    \n",
    "    # Menampilkan plot\n",
    "    a = input(\"Pilih untuk tampilan data [1] Semua data, [2] 5 Data terbesar, [3] Keduanya, [4] Tidak keduanya  : \")\n",
    "    if a==\"1\":\n",
    "        print(df2)\n",
    "    elif a==\"2\":\n",
    "        df_top_5 = df2.nlargest(5, 'counts')\n",
    "        print(df_top_5)\n",
    "    elif a==\"3\":\n",
    "        print(\"All Data\")\n",
    "        print(df1)\n",
    "        df_top_5 = df2.nlargest(5, 'counts')\n",
    "        print(\" TOP 5 \")\n",
    "        print(df_top_5)\n",
    "    else:\n",
    "        print(\"Data disembunyikan\")\n",
    "        \n",
    "    plt.show()"
   ]
  },
  {
   "cell_type": "markdown",
   "id": "209a0986",
   "metadata": {},
   "source": [
    "### ScatterPLot"
   ]
  },
  {
   "cell_type": "code",
   "execution_count": 28,
   "id": "f7a52376",
   "metadata": {},
   "outputs": [],
   "source": [
    "def plt_scatter_double(groupby1, groupby2):\n",
    "    # Melakukan groupby pada DataFrame df berdasarkan kolom groupby1 dan groupby2, dan menghitung jumlah\n",
    "    df2 = df.groupby(by=[groupby1, groupby2]).size().reset_index(name=\"counts\")\n",
    "\n",
    "    # Mengambil nilai x dan y dari DataFrame df2\n",
    "    x = df2[groupby1]\n",
    "    y = df2[\"counts\"]\n",
    "\n",
    "    # Mengambil nilai warna dari DataFrame df2\n",
    "    colors = df2[groupby2]\n",
    "\n",
    "    # Menentukan palet warna \"tab20\" dari matplotlib\n",
    "    color_palette = plt.cm.get_cmap(\"tab20\", len(df2[groupby2].unique()))\n",
    "\n",
    "    # Membuat objek figure dan axis pada plot\n",
    "    fig, ax = plt.subplots(figsize=(20, 15))\n",
    "\n",
    "    # Mengiterasi warna yang ada pada DataFrame df2\n",
    "    for i, cab_type in enumerate(df2[groupby2].unique()):\n",
    "        # Membuat plot scatter untuk setiap warna yang berbeda\n",
    "        ax.scatter(x[colors == cab_type], y[colors == cab_type], label=cab_type, color=color_palette(i))\n",
    "\n",
    "    # Menyertakan label pada sumbu x dan y, serta judul plot\n",
    "    ax.set_xlabel(groupby1)\n",
    "    ax.set_ylabel('Counts')\n",
    "    ax.set_title('Scatter Plot')\n",
    "    ax.set_xticklabels(x, rotation=90)\n",
    "    \n",
    "\n",
    "    # Menyertakan legenda pada plot\n",
    "    ax.legend()\n",
    "\n",
    "    # Menampilkan plot\n",
    "    a = input(\"Pilih untuk tampilan data [1] Semua data, [2] 5 Data terbesar, [3] Keduanya, [4] Tidak keduanya  : \")\n",
    "    \n",
    "    if a == \"1\":\n",
    "        print(df2)\n",
    "    elif a == \"2\":\n",
    "        df_top_5 = df2.nlargest(5, 'counts')\n",
    "        print(df_top_5)\n",
    "    elif a == \"3\":\n",
    "        print(\"All Data\")\n",
    "        print(df1)\n",
    "        df_top_5 = df2.nlargest(5, 'counts')\n",
    "        print(\" TOP 5 \")\n",
    "        print(df_top_5)\n",
    "    else:\n",
    "        print(\"Data disembunyikan\")\n",
    "\n",
    "    plt.show()\n"
   ]
  },
  {
   "cell_type": "markdown",
   "id": "c4105073",
   "metadata": {},
   "source": [
    "## Visualisasi"
   ]
  },
  {
   "cell_type": "markdown",
   "id": "83710efc",
   "metadata": {},
   "source": [
    "### Analisa Rainfall  berdasarkan tiap bulan"
   ]
  },
  {
   "cell_type": "code",
   "execution_count": 41,
   "id": "03fbee87",
   "metadata": {},
   "outputs": [
    {
     "data": {
      "text/plain": [
       "(array([ 0,  1,  2,  3,  4,  5,  6,  7,  8,  9, 10, 11]),\n",
       " [Text(0, 0, '1'),\n",
       "  Text(1, 0, '2'),\n",
       "  Text(2, 0, '3'),\n",
       "  Text(3, 0, '4'),\n",
       "  Text(4, 0, '5'),\n",
       "  Text(5, 0, '6'),\n",
       "  Text(6, 0, '7'),\n",
       "  Text(7, 0, '8'),\n",
       "  Text(8, 0, '9'),\n",
       "  Text(9, 0, '10'),\n",
       "  Text(10, 0, '11'),\n",
       "  Text(11, 0, '12')])"
      ]
     },
     "execution_count": 41,
     "metadata": {},
     "output_type": "execute_result"
    },
    {
     "data": {
      "text/plain": [
       "<Figure size 720x576 with 0 Axes>"
      ]
     },
     "metadata": {},
     "output_type": "display_data"
    },
    {
     "data": {
      "image/png": "[encoded data removed]",
      "text/plain": [
       "<Figure size 1080x576 with 1 Axes>"
      ]
     },
     "metadata": {
      "needs_background": "light"
     },
     "output_type": "display_data"
    }
   ],
   "source": [
    "df['Date'] = pd.to_datetime(df['Date'], errors='coerce')\n",
    "rainfall =[df['Date'].dt.year, df['Date'].dt.month, df['Rainfall']]\n",
    "headers = ['Year', 'Month', 'Rainfall']\n",
    "rainfall_df = pd.concat(rainfall, axis=1, keys=headers)\n",
    "\n",
    "plt.figure(figsize=(10,8))\n",
    "a = rainfall_df.groupby('Month').agg({'Rainfall':'sum'})\n",
    "a.plot(kind='bar', color='blue')\n",
    "plt.title('Rainfall distribution in each month', fontsize=15)\n",
    "plt.xlabel('Month', fontsize=10)\n",
    "plt.ylabel('Rainfall (in mm)', fontsize=10)\n",
    "plt.xticks(rotation=0)"
   ]
  },
  {
   "cell_type": "code",
   "execution_count": 33,
   "id": "a99d8409",
   "metadata": {},
   "outputs": [
    {
     "data": {
      "image/png": "[encoded data removed]",
      "text/plain": [
       "<Figure size 720x576 with 1 Axes>"
      ]
     },
     "metadata": {
      "needs_background": "light"
     },
     "output_type": "display_data"
    }
   ],
   "source": [
    "plt.figure(figsize=(10,8))\n",
    "plt.scatter(df['Location'],df['Rainfall'])\n",
    "plt.xlabel(\"Location\")\n",
    "plt.xticks(rotation=90)\n",
    "plt.ylabel(\"Rainfall\")\n",
    "plt.show()"
   ]
  },
  {
   "cell_type": "markdown",
   "id": "6ba789d9",
   "metadata": {},
   "source": [
    "### Perbandingan MinTemp dan MaxTemp di Lokasi"
   ]
  },
  {
   "cell_type": "code",
   "execution_count": 34,
   "id": "00663045",
   "metadata": {},
   "outputs": [
    {
     "data": {
      "text/plain": [
       "<matplotlib.legend.Legend at 0x1f89cf3bc70>"
      ]
     },
     "execution_count": 34,
     "metadata": {},
     "output_type": "execute_result"
    },
    {
     "data": {
      "image/png": "[encoded data removed]",
      "text/plain": [
       "<Figure size 1080x576 with 1 Axes>"
      ]
     },
     "metadata": {
      "needs_background": "light"
     },
     "output_type": "display_data"
    }
   ],
   "source": [
    "a = df.groupby('Location').agg({'MinTemp':'mean'})\n",
    "c = df.groupby('Location').agg({'MaxTemp':'mean'})\n",
    "plt.rcParams[\"figure.figsize\"] = (15,8)\n",
    "\n",
    "n = df['Location'].nunique()\n",
    "x = np.arange(n)\n",
    "\n",
    "loc = df['Location'].unique()\n",
    "\n",
    "fig = plt.figure()\n",
    "ax = fig.add_axes([0, 0, 1, 1])\n",
    "w = 0.6\n",
    "\n",
    "ax.bar(x-w/2, a[:]['MinTemp'], label='Average MinTemp by Location', color='maroon', width=w)\n",
    "ax.bar(x+w/2, c[:]['MaxTemp'], label='Average MaxTemp by Location', color='salmon', width=w)\n",
    "\n",
    "ax.set_xticks(x)\n",
    "ax.set_xticklabels(loc, rotation=90)\n",
    "plt.title(\"Comparing MinTemp and MaxTemp based on location\", fontsize=25)\n",
    "plt.legend(fontsize=18)"
   ]
  },
  {
   "cell_type": "code",
   "execution_count": 36,
   "id": "66d3c0cc",
   "metadata": {},
   "outputs": [
    {
     "data": {
      "image/png": "[encoded data removed]",
      "text/plain": [
       "<Figure size 720x576 with 1 Axes>"
      ]
     },
     "metadata": {
      "needs_background": "light"
     },
     "output_type": "display_data"
    }
   ],
   "source": [
    "plt.figure(figsize=(10,8))\n",
    "plt.scatter(df['MinTemp'],df['Rainfall'])\n",
    "plt.scatter(df['MaxTemp'],df['Rainfall'], color=\"Red\")\n",
    "plt.xlabel(\"Temp\")\n",
    "plt.xticks(range(0,50,5))\n",
    "plt.ylabel(\"Rainfall\")\n",
    "plt.show()"
   ]
  },
  {
   "cell_type": "markdown",
   "id": "8d1bc88a",
   "metadata": {},
   "source": [
    "### Komparasi Berdasarkan Tahun"
   ]
  },
  {
   "cell_type": "code",
   "execution_count": 43,
   "id": "18a9c309",
   "metadata": {},
   "outputs": [],
   "source": [
    "Year= pd.to_datetime(df.Date).dt.year"
   ]
  },
  {
   "cell_type": "code",
   "execution_count": 44,
   "id": "57d435a7",
   "metadata": {},
   "outputs": [
    {
     "data": {
      "text/plain": [
       "<AxesSubplot:title={'center':'Number of row per year'}, xlabel='Date', ylabel='count'>"
      ]
     },
     "execution_count": 44,
     "metadata": {},
     "output_type": "execute_result"
    },
    {
     "data": {
      "image/png": "[encoded data removed]",
      "text/plain": [
       "<Figure size 576x288 with 1 Axes>"
      ]
     },
     "metadata": {
      "needs_background": "light"
     },
     "output_type": "display_data"
    }
   ],
   "source": [
    "plt.figure(figsize=(8,4))\n",
    "plt.title(\"Number of row per year\")\n",
    "sns.countplot(x=Year)"
   ]
  },
  {
   "cell_type": "markdown",
   "id": "80e62a5d",
   "metadata": {},
   "source": [
    "### Komparasi categori Fields"
   ]
  },
  {
   "cell_type": "code",
   "execution_count": 46,
   "id": "825bb5d1",
   "metadata": {},
   "outputs": [
    {
     "name": "stderr",
     "output_type": "stream",
     "text": [
      "C:\\Users\\ASUS\\anaconda3\\lib\\site-packages\\seaborn\\_decorators.py:36: FutureWarning: Pass the following variable as a keyword arg: x. From version 0.12, the only valid positional argument will be `data`, and passing other arguments without an explicit keyword will result in an error or misinterpretation.\n",
      "  warnings.warn(\n",
      "C:\\Users\\ASUS\\anaconda3\\lib\\site-packages\\seaborn\\_decorators.py:36: FutureWarning: Pass the following variable as a keyword arg: x. From version 0.12, the only valid positional argument will be `data`, and passing other arguments without an explicit keyword will result in an error or misinterpretation.\n",
      "  warnings.warn(\n",
      "C:\\Users\\ASUS\\anaconda3\\lib\\site-packages\\seaborn\\_decorators.py:36: FutureWarning: Pass the following variable as a keyword arg: x. From version 0.12, the only valid positional argument will be `data`, and passing other arguments without an explicit keyword will result in an error or misinterpretation.\n",
      "  warnings.warn(\n"
     ]
    },
    {
     "data": {
      "image/png": "[encoded data removed]",
      "text/plain": [
       "<Figure size 720x576 with 3 Axes>"
      ]
     },
     "metadata": {
      "needs_background": "light"
     },
     "output_type": "display_data"
    }
   ],
   "source": [
    "# camparison of WindGustDir, WindDir9am and WindDir3pm\n",
    "\n",
    "fig, ax = plt.subplots(3, 1, figsize=(10,8))\n",
    "\n",
    "# WindGustDir\n",
    "sns.countplot(df['WindGustDir'], palette=['#9b59b6','#3498db'], ax=ax[0])\n",
    "ax[0].set_title(\"Wind Gust Direction\", fontsize=10)\n",
    "\n",
    "# WindGustDir\n",
    "sns.countplot(df['WindDir9am'], palette= ['#7fcdbb' , '#fc9272'], ax=ax[1])\n",
    "ax[1].set_title(\"Wind Direction at 9AM\", fontsize=10)\n",
    "\n",
    "# WindGustDir\n",
    "sns.countplot(df['WindDir3pm'], palette=['#432371',\"#FAAE7B\"], ax=ax[2])\n",
    "ax[2].set_title(\"Wind Direction at 3PM\", fontsize=10)\n",
    "fig.tight_layout()\n"
   ]
  },
  {
   "cell_type": "code",
   "execution_count": 49,
   "id": "f4aa94b5",
   "metadata": {},
   "outputs": [
    {
     "name": "stderr",
     "output_type": "stream",
     "text": [
      "C:\\Users\\ASUS\\anaconda3\\lib\\site-packages\\seaborn\\distributions.py:2619: FutureWarning: `distplot` is a deprecated function and will be removed in a future version. Please adapt your code to use either `displot` (a figure-level function with similar flexibility) or `histplot` (an axes-level function for histograms).\n",
      "  warnings.warn(msg, FutureWarning)\n",
      "C:\\Users\\ASUS\\anaconda3\\lib\\site-packages\\seaborn\\distributions.py:2619: FutureWarning: `distplot` is a deprecated function and will be removed in a future version. Please adapt your code to use either `displot` (a figure-level function with similar flexibility) or `histplot` (an axes-level function for histograms).\n",
      "  warnings.warn(msg, FutureWarning)\n",
      "C:\\Users\\ASUS\\anaconda3\\lib\\site-packages\\seaborn\\distributions.py:2619: FutureWarning: `distplot` is a deprecated function and will be removed in a future version. Please adapt your code to use either `displot` (a figure-level function with similar flexibility) or `histplot` (an axes-level function for histograms).\n",
      "  warnings.warn(msg, FutureWarning)\n",
      "C:\\Users\\ASUS\\anaconda3\\lib\\site-packages\\seaborn\\distributions.py:2619: FutureWarning: `distplot` is a deprecated function and will be removed in a future version. Please adapt your code to use either `displot` (a figure-level function with similar flexibility) or `histplot` (an axes-level function for histograms).\n",
      "  warnings.warn(msg, FutureWarning)\n",
      "C:\\Users\\ASUS\\anaconda3\\lib\\site-packages\\seaborn\\distributions.py:2619: FutureWarning: `distplot` is a deprecated function and will be removed in a future version. Please adapt your code to use either `displot` (a figure-level function with similar flexibility) or `histplot` (an axes-level function for histograms).\n",
      "  warnings.warn(msg, FutureWarning)\n",
      "C:\\Users\\ASUS\\anaconda3\\lib\\site-packages\\seaborn\\distributions.py:2619: FutureWarning: `distplot` is a deprecated function and will be removed in a future version. Please adapt your code to use either `displot` (a figure-level function with similar flexibility) or `histplot` (an axes-level function for histograms).\n",
      "  warnings.warn(msg, FutureWarning)\n",
      "C:\\Users\\ASUS\\anaconda3\\lib\\site-packages\\seaborn\\distributions.py:2619: FutureWarning: `distplot` is a deprecated function and will be removed in a future version. Please adapt your code to use either `displot` (a figure-level function with similar flexibility) or `histplot` (an axes-level function for histograms).\n",
      "  warnings.warn(msg, FutureWarning)\n",
      "C:\\Users\\ASUS\\anaconda3\\lib\\site-packages\\seaborn\\distributions.py:2619: FutureWarning: `distplot` is a deprecated function and will be removed in a future version. Please adapt your code to use either `displot` (a figure-level function with similar flexibility) or `histplot` (an axes-level function for histograms).\n",
      "  warnings.warn(msg, FutureWarning)\n"
     ]
    },
    {
     "data": {
      "text/plain": [
       "Text(0.5, 1.0, 'Temperature at 3PM')"
      ]
     },
     "execution_count": 49,
     "metadata": {},
     "output_type": "execute_result"
    },
    {
     "data": {
      "image/png": "[encoded data removed]",
      "text/plain": [
       "<Figure size 1080x1800 with 8 Axes>"
      ]
     },
     "metadata": {
      "needs_background": "light"
     },
     "output_type": "display_data"
    }
   ],
   "source": [
    "fig, ax = plt.subplots(4, 2, figsize=(15,25))\n",
    "\n",
    "# WindSpeed9am\n",
    "sns.distplot(df['WindSpeed9am'], ax=ax[0,0], color='green')\n",
    "ax[0,0].set_title(\"Wind Speed at 9AM\", fontsize=15)\n",
    "\n",
    "# WindSpeed3pm\n",
    "sns.distplot(df['WindSpeed3pm'], ax=ax[0,1], color='green')\n",
    "ax[0,1].set_title(\"Wind Speed at 3PM\", fontsize=15)\n",
    "\n",
    "# Humidity9am\n",
    "sns.distplot(df['Humidity9am'], ax=ax[1,0], color='orange')\n",
    "ax[1,0].set_title(\"Humidity at 9AM\", fontsize=15)\n",
    "\n",
    "# Humidity3pm\n",
    "sns.distplot(df['Humidity3pm'], ax=ax[1,1], color='orange')\n",
    "ax[1,1].set_title(\"Humidity at 3PM\", fontsize=15)\n",
    "\n",
    "# Pressure9am\n",
    "sns.distplot(df['Pressure9am'], ax=ax[2,0], color='red')\n",
    "ax[2,0].set_title(\"Pressure at 9AM\", fontsize=15)\n",
    "\n",
    "# Pressure3pm\n",
    "sns.distplot(df['Pressure3pm'], ax=ax[2,1], color='red')\n",
    "ax[2,1].set_title(\"Pressure at 3PM\", fontsize=15)\n",
    "\n",
    "# Temp9am\n",
    "sns.distplot(df['Temp9am'], ax=ax[3,0], color='blue')\n",
    "ax[3,0].set_title(\"Temperature at 9AM\", fontsize=15)\n",
    "\n",
    "# Temp3pm\n",
    "sns.distplot(df['Temp3pm'], ax=ax[3,1], color='blue')\n",
    "ax[3,1].set_title(\"Temperature at 3PM\", fontsize=15)"
   ]
  },
  {
   "cell_type": "markdown",
   "id": "65efaf56",
   "metadata": {},
   "source": [
    "### Komparasi Antara RainfallToday dengan TOmorrow"
   ]
  },
  {
   "cell_type": "code",
   "execution_count": 51,
   "id": "dfb932e9",
   "metadata": {},
   "outputs": [
    {
     "data": {
      "text/plain": [
       "Text(0.5, 1.0, 'Rain Today - Rain Tomorrow')"
      ]
     },
     "execution_count": 51,
     "metadata": {},
     "output_type": "execute_result"
    },
    {
     "data": {
      "image/png": "[encoded data removed]",
      "text/plain": [
       "<Figure size 432x288 with 1 Axes>"
      ]
     },
     "metadata": {
      "needs_background": "light"
     },
     "output_type": "display_data"
    }
   ],
   "source": [
    "Today_Tomo_plot = pd.crosstab(df['RainToday'], df['RainTomorrow'])\n",
    "\n",
    "plt.rcParams[\"figure.figsize\"] = (6,4)\n",
    "\n",
    "Today_Tomo_plot.plot(kind='bar',stacked=False)\n",
    "\n",
    "plt.xlabel('Rain Today', fontsize=15)\n",
    "plt.ylabel('Count', fontsize=15)\n",
    "plt.xticks(rotation=0, fontsize=12)\n",
    "plt.yticks(fontsize=12)\n",
    "plt.title('Rain Today - Rain Tomorrow', fontsize=20)"
   ]
  },
  {
   "cell_type": "markdown",
   "id": "2f199dd0",
   "metadata": {},
   "source": [
    "# Data Preprocessing"
   ]
  },
  {
   "cell_type": "markdown",
   "id": "4f6a7ff8",
   "metadata": {},
   "source": [
    "# Pendefisian Model"
   ]
  },
  {
   "cell_type": "markdown",
   "id": "8c22e3d9",
   "metadata": {},
   "source": [
    "# Pelatihan Model"
   ]
  },
  {
   "cell_type": "markdown",
   "id": "bf4233e3",
   "metadata": {},
   "source": [
    "# Evaluasi Model"
   ]
  },
  {
   "cell_type": "markdown",
   "id": "c5e6573f",
   "metadata": {},
   "source": [
    "# Model Inference"
   ]
  },
  {
   "cell_type": "code",
   "execution_count": null,
   "id": "f2104cdb",
   "metadata": {},
   "outputs": [],
   "source": []
  },
  {
   "cell_type": "code",
   "execution_count": null,
   "id": "665c68d7",
   "metadata": {},
   "outputs": [],
   "source": []
  },
  {
   "cell_type": "code",
   "execution_count": null,
   "id": "7d7c9b9f",
   "metadata": {},
   "outputs": [],
   "source": []
  },
  {
   "cell_type": "code",
   "execution_count": null,
   "id": "addde4e5",
   "metadata": {},
   "outputs": [],
   "source": []
  },
  {
   "cell_type": "code",
   "execution_count": null,
   "id": "bd95e537",
   "metadata": {},
   "outputs": [],
   "source": []
  },
  {
   "cell_type": "code",
   "execution_count": null,
   "id": "067ba9e4",
   "metadata": {},
   "outputs": [],
   "source": []
  },
  {
   "cell_type": "code",
   "execution_count": null,
   "id": "ddf51148",
   "metadata": {},
   "outputs": [],
   "source": []
  },
  {
   "cell_type": "code",
   "execution_count": null,
   "id": "6d490c29",
   "metadata": {},
   "outputs": [],
   "source": []
  },
  {
   "cell_type": "code",
   "execution_count": null,
   "id": "0d459d13",
   "metadata": {},
   "outputs": [],
   "source": []
  }
 ],
 "metadata": {
  "kernelspec": {
   "display_name": "Python 3 (ipykernel)",
   "language": "python",
   "name": "python3"
  },
  "language_info": {
   "codemirror_mode": {
    "name": "ipython",
    "version": 3
   },
   "file_extension": ".py",
   "mimetype": "text/x-python",
   "name": "python",
   "nbconvert_exporter": "python",
   "pygments_lexer": "ipython3",
   "version": "3.9.12"
  },
  "toc": {
   "base_numbering": 1,
   "nav_menu": {},
   "number_sections": true,
   "sideBar": true,
   "skip_h1_title": false,
   "title_cell": "Table of Contents",
   "title_sidebar": "Contents",
   "toc_cell": false,
   "toc_position": {
    "height": "calc(100% - 180px)",
    "left": "10px",
    "top": "150px",
    "width": "188.182px"
   },
   "toc_section_display": true,
   "toc_window_display": true
  },
  "varInspector": {
   "cols": {
    "lenName": 16,
    "lenType": 16,
    "lenVar": 40
   },
   "kernels_config": {
    "python": {
     "delete_cmd_postfix": "",
     "delete_cmd_prefix": "del ",
     "library": "var_list.py",
     "varRefreshCmd": "print(var_dic_list())"
    },
    "r": {
     "delete_cmd_postfix": ") ",
     "delete_cmd_prefix": "rm(",
     "library": "var_list.r",
     "varRefreshCmd": "cat(var_dic_list()) "
    }
   },
   "types_to_exclude": [
    "module",
    "function",
    "builtin_function_or_method",
    "instance",
    "_Feature"
   ],
   "window_display": false
  }
 },
 "nbformat": 4,
 "nbformat_minor": 5
}
