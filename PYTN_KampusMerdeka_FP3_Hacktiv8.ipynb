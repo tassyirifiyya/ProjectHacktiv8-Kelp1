{
 "cells": [
  {
   "cell_type": "markdown",
   "id": "6f9796eb",
   "metadata": {},
   "source": [
    "# Perkenalan"
   ]
  },
  {
   "cell_type": "markdown",
   "id": "db7b97a5",
   "metadata": {},
   "source": [
    "## Team :"
   ]
  },
  {
   "cell_type": "markdown",
   "id": "b2d2aa28",
   "metadata": {},
   "source": [
    "1. Nichoulaus Verdhy P - PYTN-KS011-023\n",
    "2. Tassyirifiyya - PYTN-KS011-012\n",
    "3. Isma - PYTN-KS011-008\n",
    "\n",
    "Python for Data Science - Studi Independen - Kampus Merdeka"
   ]
  },
  {
   "cell_type": "markdown",
   "id": "4d433b7e",
   "metadata": {},
   "source": [
    "# Latar Belakang"
   ]
  },
  {
   "cell_type": "markdown",
   "id": "7bb34a15",
   "metadata": {},
   "source": [
    "Heart Failure Clinical Records Dataset adalah kumpulan data yang berisi informasi klinis pasien dengan gagal jantung, Dataset ini memberikan wawasan berharga tentang faktor-faktor dan variabel yang terkait dengan gagal jantung. Dataset ini mencakup berbagai fitur atau variabel yang menggambarkan berbagai aspek kesehatan pasien, seperti usia, jenis kelamin, tekanan darah, kadar kreatinin, dan sebagainya. Dengan menganalisis dataset ini, kita dapat mencari hubungan antara variabel-variabel tersebut dan risiko atau kemungkinan terjadinya gagal jantung.\n",
    "\n",
    "Beberapa variabel yang umumnya terdapat dalam dataset ini dan dapat dianalisis antara lain:\n",
    "\n",
    "1. Umur: Usia pasien dapat menjadi faktor risiko atau indikator keparahan gagal jantung.\n",
    "2. Jenis Kelamin: Analisis dapat dilakukan untuk melihat perbedaan antara jenis kelamin dalam hal prevalensi atau karakteristik gagal jantung.\n",
    "3. Anemia: Faktor anemia dapat dikaji untuk melihat pengaruhnya terhadap perkembangan atau progresi gagal jantung.\n",
    "4. Kreatinin Fosfokinase: Kadar enzim kreatinin fosfokinase dalam darah dapat memberikan informasi tentang kerusakan otot jantung.\n",
    "5. Diabetes: Analisis dapat dilakukan untuk melihat hubungan antara diabetes dan risiko atau keparahan gagal jantung.\n",
    "6. Fraksi Ejeksi: Fraksi ejeksi menggambarkan kemampuan jantung untuk memompa darah. Analisis fraksi ejeksi dapat memberikan informasi tentang fungsi jantung.\n",
    "7. Tekanan Darah Tinggi: Hubungan antara tekanan darah tinggi dan gagal jantung dapat diteliti untuk memahami keterkaitan keduanya.\n",
    "8. Platelet: Kadar platelet dalam darah dapat dikaji untuk mengevaluasi peran gangguan pembekuan darah pada gagal jantung.\n",
    "9. Serum Kreatinin: Kadar kreatinin dalam darah dapat menjadi indikator fungsi ginjal dan berpotensi terkait dengan gagal jantung.\n",
    "10. Sodium Kreatin: Kadar natrium dan kreatinin dalam darah dapat memberikan informasi tentang keseimbangan elektrolit dan fungsi ginjal.\n",
    "11. Perokok: Analisis dapat dilakukan untuk melihat hubungan antara merokok dan risiko atau keparahan gagal jantung.\n",
    "12. Waktu: Lama kunjungan pasien atau waktu tindak lanjut dapat memberikan informasi tentang prognosis atau kebutuhan perawatan jangka panjang.\n",
    "13. Kematian: Variabel ini dapat memberikan informasi tentang status kematian pasien\n",
    "\n",
    "Variabel-variabel ini dapat dianalisis untuk mencari hubungan, pola, atau faktor risiko yang terkait dengan gagal jantung"
   ]
  },
  {
   "cell_type": "markdown",
   "id": "8c446542",
   "metadata": {},
   "source": [
    "## Objektif "
   ]
  },
  {
   "cell_type": "markdown",
   "id": "a85f60e6",
   "metadata": {},
   "source": [
    "Final Project 3 ini dibuat guna mengevaluasi konsep Ensemble sebagai berikut:\n",
    "\n",
    "● Mampu memahami konsep Classification dengan Ensemble Model\n",
    "\n",
    "● Mampu mempersiapkan data untuk digunakan dalam Ensemble Model\n",
    "\n",
    "● Mampu mengimplementasikan Ensemble Model untuk membuat prediksi"
   ]
  },
  {
   "cell_type": "markdown",
   "id": "5236bdae",
   "metadata": {},
   "source": [
    "# Import Pustaka"
   ]
  },
  {
   "cell_type": "code",
   "execution_count": 1,
   "id": "c808465f",
   "metadata": {},
   "outputs": [],
   "source": [
    "#untuk dataframe\n",
    "import pandas as pd\n",
    "import numpy as np\n",
    "\n",
    "#untuk visualisasi data\n",
    "import matplotlib.pyplot as plt\n",
    "import seaborn as sns\n",
    "%matplotlib inline\n",
    "import folium\n",
    "from folium.plugins import FastMarkerCluster\n",
    "\n",
    "#mengatur display biar maximal\n",
    "pd.options.display.max_rows = None\n",
    "pd.options.display.max_columns = None\n",
    "\n",
    "#modeling\n",
    "from sklearn.ensemble import RandomForestClassifier\n",
    "from sklearn.naive_bayes import GaussianNB\n",
    "from sklearn.ensemble import ExtraTreesClassifier\n",
    "from sklearn.ensemble import GradientBoostingClassifier\n",
    "from sklearn.model_selection import train_test_split\n",
    "from sklearn import preprocessing\n",
    "from sklearn.preprocessing import StandardScaler\n",
    "from sklearn.metrics import accuracy_score # mencari accurasi \n",
    "from sklearn.metrics import confusion_matrix # membuat confusion maytris\n",
    "from sklearn.metrics import classification_report # laporan klasifikasi\n",
    "from sklearn.metrics import r2_score # evaluasi performa model\n",
    "from sklearn.metrics import mean_squared_error # menghitung nilai error rata-rata"
   ]
  },
  {
   "cell_type": "markdown",
   "id": "d9bf4de3",
   "metadata": {},
   "source": [
    "# Data Loading"
   ]
  },
  {
   "cell_type": "markdown",
   "id": "f11feb1b",
   "metadata": {},
   "source": [
    "## Memanggil Dataset"
   ]
  },
  {
   "cell_type": "code",
   "execution_count": 2,
   "id": "f0c3c1d4",
   "metadata": {},
   "outputs": [
    {
     "data": {
      "text/html": [
       "<div>\n",
       "<style scoped>\n",
       "    .dataframe tbody tr th:only-of-type {\n",
       "        vertical-align: middle;\n",
       "    }\n",
       "\n",
       "    .dataframe tbody tr th {\n",
       "        vertical-align: top;\n",
       "    }\n",
       "\n",
       "    .dataframe thead th {\n",
       "        text-align: right;\n",
       "    }\n",
       "</style>\n",
       "<table border=\"1\" class=\"dataframe\">\n",
       "  <thead>\n",
       "    <tr style=\"text-align: right;\">\n",
       "      <th></th>\n",
       "      <th>age</th>\n",
       "      <th>anaemia</th>\n",
       "      <th>creatinine_phosphokinase</th>\n",
       "      <th>diabetes</th>\n",
       "      <th>ejection_fraction</th>\n",
       "      <th>high_blood_pressure</th>\n",
       "      <th>platelets</th>\n",
       "      <th>serum_creatinine</th>\n",
       "      <th>serum_sodium</th>\n",
       "      <th>sex</th>\n",
       "      <th>smoking</th>\n",
       "      <th>time</th>\n",
       "      <th>DEATH_EVENT</th>\n",
       "    </tr>\n",
       "  </thead>\n",
       "  <tbody>\n",
       "    <tr>\n",
       "      <th>0</th>\n",
       "      <td>75.0</td>\n",
       "      <td>0</td>\n",
       "      <td>582</td>\n",
       "      <td>0</td>\n",
       "      <td>20</td>\n",
       "      <td>1</td>\n",
       "      <td>265000.00</td>\n",
       "      <td>1.9</td>\n",
       "      <td>130</td>\n",
       "      <td>1</td>\n",
       "      <td>0</td>\n",
       "      <td>4</td>\n",
       "      <td>1</td>\n",
       "    </tr>\n",
       "    <tr>\n",
       "      <th>1</th>\n",
       "      <td>55.0</td>\n",
       "      <td>0</td>\n",
       "      <td>7861</td>\n",
       "      <td>0</td>\n",
       "      <td>38</td>\n",
       "      <td>0</td>\n",
       "      <td>263358.03</td>\n",
       "      <td>1.1</td>\n",
       "      <td>136</td>\n",
       "      <td>1</td>\n",
       "      <td>0</td>\n",
       "      <td>6</td>\n",
       "      <td>1</td>\n",
       "    </tr>\n",
       "    <tr>\n",
       "      <th>2</th>\n",
       "      <td>65.0</td>\n",
       "      <td>0</td>\n",
       "      <td>146</td>\n",
       "      <td>0</td>\n",
       "      <td>20</td>\n",
       "      <td>0</td>\n",
       "      <td>162000.00</td>\n",
       "      <td>1.3</td>\n",
       "      <td>129</td>\n",
       "      <td>1</td>\n",
       "      <td>1</td>\n",
       "      <td>7</td>\n",
       "      <td>1</td>\n",
       "    </tr>\n",
       "    <tr>\n",
       "      <th>3</th>\n",
       "      <td>50.0</td>\n",
       "      <td>1</td>\n",
       "      <td>111</td>\n",
       "      <td>0</td>\n",
       "      <td>20</td>\n",
       "      <td>0</td>\n",
       "      <td>210000.00</td>\n",
       "      <td>1.9</td>\n",
       "      <td>137</td>\n",
       "      <td>1</td>\n",
       "      <td>0</td>\n",
       "      <td>7</td>\n",
       "      <td>1</td>\n",
       "    </tr>\n",
       "    <tr>\n",
       "      <th>4</th>\n",
       "      <td>65.0</td>\n",
       "      <td>1</td>\n",
       "      <td>160</td>\n",
       "      <td>1</td>\n",
       "      <td>20</td>\n",
       "      <td>0</td>\n",
       "      <td>327000.00</td>\n",
       "      <td>2.7</td>\n",
       "      <td>116</td>\n",
       "      <td>0</td>\n",
       "      <td>0</td>\n",
       "      <td>8</td>\n",
       "      <td>1</td>\n",
       "    </tr>\n",
       "  </tbody>\n",
       "</table>\n",
       "</div>"
      ],
      "text/plain": [
       "    age  anaemia  creatinine_phosphokinase  diabetes  ejection_fraction  \\\n",
       "0  75.0        0                       582         0                 20   \n",
       "1  55.0        0                      7861         0                 38   \n",
       "2  65.0        0                       146         0                 20   \n",
       "3  50.0        1                       111         0                 20   \n",
       "4  65.0        1                       160         1                 20   \n",
       "\n",
       "   high_blood_pressure  platelets  serum_creatinine  serum_sodium  sex  \\\n",
       "0                    1  265000.00               1.9           130    1   \n",
       "1                    0  263358.03               1.1           136    1   \n",
       "2                    0  162000.00               1.3           129    1   \n",
       "3                    0  210000.00               1.9           137    1   \n",
       "4                    0  327000.00               2.7           116    0   \n",
       "\n",
       "   smoking  time  DEATH_EVENT  \n",
       "0        0     4            1  \n",
       "1        0     6            1  \n",
       "2        1     7            1  \n",
       "3        0     7            1  \n",
       "4        0     8            1  "
      ]
     },
     "execution_count": 2,
     "metadata": {},
     "output_type": "execute_result"
    }
   ],
   "source": [
    "df = pd.read_csv(\"heart_failure_clinical_records_dataset.csv\")\n",
    "df.head()"
   ]
  },
  {
   "cell_type": "markdown",
   "id": "e8c5ace4",
   "metadata": {},
   "source": [
    "## Melihat Ukuran Data ( Baris, kolom)"
   ]
  },
  {
   "cell_type": "code",
   "execution_count": 3,
   "id": "4f6f913f",
   "metadata": {},
   "outputs": [
    {
     "data": {
      "text/plain": [
       "(299, 13)"
      ]
     },
     "execution_count": 3,
     "metadata": {},
     "output_type": "execute_result"
    }
   ],
   "source": [
    "df.shape"
   ]
  },
  {
   "cell_type": "markdown",
   "id": "008d235b",
   "metadata": {},
   "source": [
    "## Pengecekan Nama Kolom"
   ]
  },
  {
   "cell_type": "code",
   "execution_count": 4,
   "id": "cd98f2f2",
   "metadata": {},
   "outputs": [
    {
     "data": {
      "text/plain": [
       "array(['age', 'anaemia', 'creatinine_phosphokinase', 'diabetes',\n",
       "       'ejection_fraction', 'high_blood_pressure', 'platelets',\n",
       "       'serum_creatinine', 'serum_sodium', 'sex', 'smoking', 'time',\n",
       "       'DEATH_EVENT'], dtype=object)"
      ]
     },
     "execution_count": 4,
     "metadata": {},
     "output_type": "execute_result"
    }
   ],
   "source": [
    "df.columns.values"
   ]
  },
  {
   "cell_type": "markdown",
   "id": "59779086",
   "metadata": {},
   "source": [
    "## Penjelasan Perkolom"
   ]
  },
  {
   "cell_type": "markdown",
   "id": "c5427da2",
   "metadata": {},
   "source": [
    "1. age - umur pasien\n",
    "2. anaemia - apakah ada pengurangan haemoglobin\n",
    "3. creatinine_phosphokinase - level enzim CPK dalam mcg/L\n",
    "4. diabetes - apakah pasien punya riwayat diabetes\n",
    "5. ejection_fraction - persentase darah yang meninggalkan jantung dalam persentasi di setiap kontraksi jantung\n",
    "6. high_blood_pressure - apakah pasien punya darah tinggi\n",
    "7. platelets - jumlah platelet di darah dalam kiloplatelets/mL\n",
    "8. serum_creatinine - level serum creatinine di darah dalam mg/dL\n",
    "9. serum_sodium - level serum sodium di darah dalam mEq/L\n",
    "10. sex - apakah pasien pria atau wanita\n",
    "11. smoking - apakah pasien merokok\n",
    "12. time - waktu dalam hari untuk follow-up\n",
    "13. DEATH_EVENT - apakah pasien sudah meninggal saat waktu follow-up"
   ]
  },
  {
   "cell_type": "markdown",
   "id": "dd68edee",
   "metadata": {},
   "source": [
    "## Tipe Data"
   ]
  },
  {
   "cell_type": "code",
   "execution_count": 5,
   "id": "27846ce0",
   "metadata": {},
   "outputs": [
    {
     "name": "stdout",
     "output_type": "stream",
     "text": [
      "<class 'pandas.core.frame.DataFrame'>\n",
      "RangeIndex: 299 entries, 0 to 298\n",
      "Data columns (total 13 columns):\n",
      " #   Column                    Non-Null Count  Dtype  \n",
      "---  ------                    --------------  -----  \n",
      " 0   age                       299 non-null    float64\n",
      " 1   anaemia                   299 non-null    int64  \n",
      " 2   creatinine_phosphokinase  299 non-null    int64  \n",
      " 3   diabetes                  299 non-null    int64  \n",
      " 4   ejection_fraction         299 non-null    int64  \n",
      " 5   high_blood_pressure       299 non-null    int64  \n",
      " 6   platelets                 299 non-null    float64\n",
      " 7   serum_creatinine          299 non-null    float64\n",
      " 8   serum_sodium              299 non-null    int64  \n",
      " 9   sex                       299 non-null    int64  \n",
      " 10  smoking                   299 non-null    int64  \n",
      " 11  time                      299 non-null    int64  \n",
      " 12  DEATH_EVENT               299 non-null    int64  \n",
      "dtypes: float64(3), int64(10)\n",
      "memory usage: 30.5 KB\n"
     ]
    }
   ],
   "source": [
    "df.info()"
   ]
  },
  {
   "cell_type": "markdown",
   "id": "0d01ada2",
   "metadata": {},
   "source": [
    "## Deakriptif Statistik"
   ]
  },
  {
   "cell_type": "code",
   "execution_count": 6,
   "id": "d5eb5960",
   "metadata": {},
   "outputs": [
    {
     "data": {
      "text/html": [
       "<div>\n",
       "<style scoped>\n",
       "    .dataframe tbody tr th:only-of-type {\n",
       "        vertical-align: middle;\n",
       "    }\n",
       "\n",
       "    .dataframe tbody tr th {\n",
       "        vertical-align: top;\n",
       "    }\n",
       "\n",
       "    .dataframe thead th {\n",
       "        text-align: right;\n",
       "    }\n",
       "</style>\n",
       "<table border=\"1\" class=\"dataframe\">\n",
       "  <thead>\n",
       "    <tr style=\"text-align: right;\">\n",
       "      <th></th>\n",
       "      <th>age</th>\n",
       "      <th>anaemia</th>\n",
       "      <th>creatinine_phosphokinase</th>\n",
       "      <th>diabetes</th>\n",
       "      <th>ejection_fraction</th>\n",
       "      <th>high_blood_pressure</th>\n",
       "      <th>platelets</th>\n",
       "      <th>serum_creatinine</th>\n",
       "      <th>serum_sodium</th>\n",
       "      <th>sex</th>\n",
       "      <th>smoking</th>\n",
       "      <th>time</th>\n",
       "      <th>DEATH_EVENT</th>\n",
       "    </tr>\n",
       "  </thead>\n",
       "  <tbody>\n",
       "    <tr>\n",
       "      <th>count</th>\n",
       "      <td>299.000000</td>\n",
       "      <td>299.000000</td>\n",
       "      <td>299.000000</td>\n",
       "      <td>299.000000</td>\n",
       "      <td>299.000000</td>\n",
       "      <td>299.000000</td>\n",
       "      <td>299.000000</td>\n",
       "      <td>299.00000</td>\n",
       "      <td>299.000000</td>\n",
       "      <td>299.000000</td>\n",
       "      <td>299.00000</td>\n",
       "      <td>299.000000</td>\n",
       "      <td>299.00000</td>\n",
       "    </tr>\n",
       "    <tr>\n",
       "      <th>mean</th>\n",
       "      <td>60.833893</td>\n",
       "      <td>0.431438</td>\n",
       "      <td>581.839465</td>\n",
       "      <td>0.418060</td>\n",
       "      <td>38.083612</td>\n",
       "      <td>0.351171</td>\n",
       "      <td>263358.029264</td>\n",
       "      <td>1.39388</td>\n",
       "      <td>136.625418</td>\n",
       "      <td>0.648829</td>\n",
       "      <td>0.32107</td>\n",
       "      <td>130.260870</td>\n",
       "      <td>0.32107</td>\n",
       "    </tr>\n",
       "    <tr>\n",
       "      <th>std</th>\n",
       "      <td>11.894809</td>\n",
       "      <td>0.496107</td>\n",
       "      <td>970.287881</td>\n",
       "      <td>0.494067</td>\n",
       "      <td>11.834841</td>\n",
       "      <td>0.478136</td>\n",
       "      <td>97804.236869</td>\n",
       "      <td>1.03451</td>\n",
       "      <td>4.412477</td>\n",
       "      <td>0.478136</td>\n",
       "      <td>0.46767</td>\n",
       "      <td>77.614208</td>\n",
       "      <td>0.46767</td>\n",
       "    </tr>\n",
       "    <tr>\n",
       "      <th>min</th>\n",
       "      <td>40.000000</td>\n",
       "      <td>0.000000</td>\n",
       "      <td>23.000000</td>\n",
       "      <td>0.000000</td>\n",
       "      <td>14.000000</td>\n",
       "      <td>0.000000</td>\n",
       "      <td>25100.000000</td>\n",
       "      <td>0.50000</td>\n",
       "      <td>113.000000</td>\n",
       "      <td>0.000000</td>\n",
       "      <td>0.00000</td>\n",
       "      <td>4.000000</td>\n",
       "      <td>0.00000</td>\n",
       "    </tr>\n",
       "    <tr>\n",
       "      <th>25%</th>\n",
       "      <td>51.000000</td>\n",
       "      <td>0.000000</td>\n",
       "      <td>116.500000</td>\n",
       "      <td>0.000000</td>\n",
       "      <td>30.000000</td>\n",
       "      <td>0.000000</td>\n",
       "      <td>212500.000000</td>\n",
       "      <td>0.90000</td>\n",
       "      <td>134.000000</td>\n",
       "      <td>0.000000</td>\n",
       "      <td>0.00000</td>\n",
       "      <td>73.000000</td>\n",
       "      <td>0.00000</td>\n",
       "    </tr>\n",
       "    <tr>\n",
       "      <th>50%</th>\n",
       "      <td>60.000000</td>\n",
       "      <td>0.000000</td>\n",
       "      <td>250.000000</td>\n",
       "      <td>0.000000</td>\n",
       "      <td>38.000000</td>\n",
       "      <td>0.000000</td>\n",
       "      <td>262000.000000</td>\n",
       "      <td>1.10000</td>\n",
       "      <td>137.000000</td>\n",
       "      <td>1.000000</td>\n",
       "      <td>0.00000</td>\n",
       "      <td>115.000000</td>\n",
       "      <td>0.00000</td>\n",
       "    </tr>\n",
       "    <tr>\n",
       "      <th>75%</th>\n",
       "      <td>70.000000</td>\n",
       "      <td>1.000000</td>\n",
       "      <td>582.000000</td>\n",
       "      <td>1.000000</td>\n",
       "      <td>45.000000</td>\n",
       "      <td>1.000000</td>\n",
       "      <td>303500.000000</td>\n",
       "      <td>1.40000</td>\n",
       "      <td>140.000000</td>\n",
       "      <td>1.000000</td>\n",
       "      <td>1.00000</td>\n",
       "      <td>203.000000</td>\n",
       "      <td>1.00000</td>\n",
       "    </tr>\n",
       "    <tr>\n",
       "      <th>max</th>\n",
       "      <td>95.000000</td>\n",
       "      <td>1.000000</td>\n",
       "      <td>7861.000000</td>\n",
       "      <td>1.000000</td>\n",
       "      <td>80.000000</td>\n",
       "      <td>1.000000</td>\n",
       "      <td>850000.000000</td>\n",
       "      <td>9.40000</td>\n",
       "      <td>148.000000</td>\n",
       "      <td>1.000000</td>\n",
       "      <td>1.00000</td>\n",
       "      <td>285.000000</td>\n",
       "      <td>1.00000</td>\n",
       "    </tr>\n",
       "  </tbody>\n",
       "</table>\n",
       "</div>"
      ],
      "text/plain": [
       "              age     anaemia  creatinine_phosphokinase    diabetes  \\\n",
       "count  299.000000  299.000000                299.000000  299.000000   \n",
       "mean    60.833893    0.431438                581.839465    0.418060   \n",
       "std     11.894809    0.496107                970.287881    0.494067   \n",
       "min     40.000000    0.000000                 23.000000    0.000000   \n",
       "25%     51.000000    0.000000                116.500000    0.000000   \n",
       "50%     60.000000    0.000000                250.000000    0.000000   \n",
       "75%     70.000000    1.000000                582.000000    1.000000   \n",
       "max     95.000000    1.000000               7861.000000    1.000000   \n",
       "\n",
       "       ejection_fraction  high_blood_pressure      platelets  \\\n",
       "count         299.000000           299.000000     299.000000   \n",
       "mean           38.083612             0.351171  263358.029264   \n",
       "std            11.834841             0.478136   97804.236869   \n",
       "min            14.000000             0.000000   25100.000000   \n",
       "25%            30.000000             0.000000  212500.000000   \n",
       "50%            38.000000             0.000000  262000.000000   \n",
       "75%            45.000000             1.000000  303500.000000   \n",
       "max            80.000000             1.000000  850000.000000   \n",
       "\n",
       "       serum_creatinine  serum_sodium         sex    smoking        time  \\\n",
       "count         299.00000    299.000000  299.000000  299.00000  299.000000   \n",
       "mean            1.39388    136.625418    0.648829    0.32107  130.260870   \n",
       "std             1.03451      4.412477    0.478136    0.46767   77.614208   \n",
       "min             0.50000    113.000000    0.000000    0.00000    4.000000   \n",
       "25%             0.90000    134.000000    0.000000    0.00000   73.000000   \n",
       "50%             1.10000    137.000000    1.000000    0.00000  115.000000   \n",
       "75%             1.40000    140.000000    1.000000    1.00000  203.000000   \n",
       "max             9.40000    148.000000    1.000000    1.00000  285.000000   \n",
       "\n",
       "       DEATH_EVENT  \n",
       "count    299.00000  \n",
       "mean       0.32107  \n",
       "std        0.46767  \n",
       "min        0.00000  \n",
       "25%        0.00000  \n",
       "50%        0.00000  \n",
       "75%        1.00000  \n",
       "max        1.00000  "
      ]
     },
     "execution_count": 6,
     "metadata": {},
     "output_type": "execute_result"
    }
   ],
   "source": [
    "df.describe()"
   ]
  },
  {
   "cell_type": "markdown",
   "id": "8274cf0e",
   "metadata": {},
   "source": [
    "## Pengecekan Missing Value"
   ]
  },
  {
   "cell_type": "code",
   "execution_count": 7,
   "id": "b69609b7",
   "metadata": {},
   "outputs": [
    {
     "data": {
      "text/plain": [
       "age                         0\n",
       "anaemia                     0\n",
       "creatinine_phosphokinase    0\n",
       "diabetes                    0\n",
       "ejection_fraction           0\n",
       "high_blood_pressure         0\n",
       "platelets                   0\n",
       "serum_creatinine            0\n",
       "serum_sodium                0\n",
       "sex                         0\n",
       "smoking                     0\n",
       "time                        0\n",
       "DEATH_EVENT                 0\n",
       "dtype: int64"
      ]
     },
     "execution_count": 7,
     "metadata": {},
     "output_type": "execute_result"
    }
   ],
   "source": [
    "df.isna().sum()"
   ]
  },
  {
   "cell_type": "markdown",
   "id": "f1ce8271",
   "metadata": {},
   "source": [
    "## Perhitungan Persentase Missing Value"
   ]
  },
  {
   "cell_type": "code",
   "execution_count": 8,
   "id": "b23bc97b",
   "metadata": {},
   "outputs": [
    {
     "name": "stdout",
     "output_type": "stream",
     "text": [
      "Kolom age:\n",
      "Jumlah nilai null: 0\n",
      "Total data: 299\n",
      "Persentase missing value: 0.00%\n",
      "\n",
      "Kolom anaemia:\n",
      "Jumlah nilai null: 0\n",
      "Total data: 299\n",
      "Persentase missing value: 0.00%\n",
      "\n",
      "Kolom creatinine_phosphokinase:\n",
      "Jumlah nilai null: 0\n",
      "Total data: 299\n",
      "Persentase missing value: 0.00%\n",
      "\n",
      "Kolom diabetes:\n",
      "Jumlah nilai null: 0\n",
      "Total data: 299\n",
      "Persentase missing value: 0.00%\n",
      "\n",
      "Kolom ejection_fraction:\n",
      "Jumlah nilai null: 0\n",
      "Total data: 299\n",
      "Persentase missing value: 0.00%\n",
      "\n",
      "Kolom high_blood_pressure:\n",
      "Jumlah nilai null: 0\n",
      "Total data: 299\n",
      "Persentase missing value: 0.00%\n",
      "\n",
      "Kolom platelets:\n",
      "Jumlah nilai null: 0\n",
      "Total data: 299\n",
      "Persentase missing value: 0.00%\n",
      "\n",
      "Kolom serum_creatinine:\n",
      "Jumlah nilai null: 0\n",
      "Total data: 299\n",
      "Persentase missing value: 0.00%\n",
      "\n",
      "Kolom serum_sodium:\n",
      "Jumlah nilai null: 0\n",
      "Total data: 299\n",
      "Persentase missing value: 0.00%\n",
      "\n",
      "Kolom sex:\n",
      "Jumlah nilai null: 0\n",
      "Total data: 299\n",
      "Persentase missing value: 0.00%\n",
      "\n",
      "Kolom smoking:\n",
      "Jumlah nilai null: 0\n",
      "Total data: 299\n",
      "Persentase missing value: 0.00%\n",
      "\n",
      "Kolom time:\n",
      "Jumlah nilai null: 0\n",
      "Total data: 299\n",
      "Persentase missing value: 0.00%\n",
      "\n",
      "Kolom DEATH_EVENT:\n",
      "Jumlah nilai null: 0\n",
      "Total data: 299\n",
      "Persentase missing value: 0.00%\n",
      "\n"
     ]
    }
   ],
   "source": [
    "for col in df.columns:\n",
    "    null_count = df[col].isnull().sum()\n",
    "    total_count = len(df[col])\n",
    "    perc_missing = (null_count / total_count) * 100\n",
    "    \n",
    "    print(f\"Kolom {col}:\")\n",
    "    print(f\"Jumlah nilai null: {null_count}\")\n",
    "    print(f\"Total data: {total_count}\")\n",
    "    print(f\"Persentase missing value: {perc_missing:.2f}%\\n\")"
   ]
  },
  {
   "cell_type": "markdown",
   "id": "096e883f",
   "metadata": {},
   "source": [
    "## Pengecekan Data Yang Duplikat"
   ]
  },
  {
   "cell_type": "code",
   "execution_count": 9,
   "id": "03a28c25",
   "metadata": {},
   "outputs": [
    {
     "data": {
      "text/html": [
       "<div>\n",
       "<style scoped>\n",
       "    .dataframe tbody tr th:only-of-type {\n",
       "        vertical-align: middle;\n",
       "    }\n",
       "\n",
       "    .dataframe tbody tr th {\n",
       "        vertical-align: top;\n",
       "    }\n",
       "\n",
       "    .dataframe thead th {\n",
       "        text-align: right;\n",
       "    }\n",
       "</style>\n",
       "<table border=\"1\" class=\"dataframe\">\n",
       "  <thead>\n",
       "    <tr style=\"text-align: right;\">\n",
       "      <th></th>\n",
       "      <th>age</th>\n",
       "      <th>anaemia</th>\n",
       "      <th>creatinine_phosphokinase</th>\n",
       "      <th>diabetes</th>\n",
       "      <th>ejection_fraction</th>\n",
       "      <th>high_blood_pressure</th>\n",
       "      <th>platelets</th>\n",
       "      <th>serum_creatinine</th>\n",
       "      <th>serum_sodium</th>\n",
       "      <th>sex</th>\n",
       "      <th>smoking</th>\n",
       "      <th>time</th>\n",
       "      <th>DEATH_EVENT</th>\n",
       "    </tr>\n",
       "  </thead>\n",
       "  <tbody>\n",
       "  </tbody>\n",
       "</table>\n",
       "</div>"
      ],
      "text/plain": [
       "Empty DataFrame\n",
       "Columns: [age, anaemia, creatinine_phosphokinase, diabetes, ejection_fraction, high_blood_pressure, platelets, serum_creatinine, serum_sodium, sex, smoking, time, DEATH_EVENT]\n",
       "Index: []"
      ]
     },
     "execution_count": 9,
     "metadata": {},
     "output_type": "execute_result"
    }
   ],
   "source": [
    "df[df.duplicated()]"
   ]
  },
  {
   "cell_type": "code",
   "execution_count": 10,
   "id": "1ad1dc26",
   "metadata": {},
   "outputs": [
    {
     "data": {
      "text/plain": [
       "0"
      ]
     },
     "execution_count": 10,
     "metadata": {},
     "output_type": "execute_result"
    }
   ],
   "source": [
    "df.duplicated().sum()"
   ]
  },
  {
   "cell_type": "markdown",
   "id": "787de90e",
   "metadata": {},
   "source": [
    "# Data Cleansing"
   ]
  },
  {
   "cell_type": "code",
   "execution_count": 11,
   "id": "87e57f79",
   "metadata": {},
   "outputs": [
    {
     "data": {
      "text/plain": [
       "age                         0\n",
       "anaemia                     0\n",
       "creatinine_phosphokinase    0\n",
       "diabetes                    0\n",
       "ejection_fraction           0\n",
       "high_blood_pressure         0\n",
       "platelets                   0\n",
       "serum_creatinine            0\n",
       "serum_sodium                0\n",
       "sex                         0\n",
       "smoking                     0\n",
       "time                        0\n",
       "DEATH_EVENT                 0\n",
       "dtype: int64"
      ]
     },
     "execution_count": 11,
     "metadata": {},
     "output_type": "execute_result"
    }
   ],
   "source": [
    "df.isna().sum()"
   ]
  },
  {
   "cell_type": "code",
   "execution_count": 12,
   "id": "135a8cd2",
   "metadata": {},
   "outputs": [
    {
     "data": {
      "text/html": [
       "<div>\n",
       "<style scoped>\n",
       "    .dataframe tbody tr th:only-of-type {\n",
       "        vertical-align: middle;\n",
       "    }\n",
       "\n",
       "    .dataframe tbody tr th {\n",
       "        vertical-align: top;\n",
       "    }\n",
       "\n",
       "    .dataframe thead th {\n",
       "        text-align: right;\n",
       "    }\n",
       "</style>\n",
       "<table border=\"1\" class=\"dataframe\">\n",
       "  <thead>\n",
       "    <tr style=\"text-align: right;\">\n",
       "      <th></th>\n",
       "      <th>umur</th>\n",
       "      <th>anemia</th>\n",
       "      <th>kreatin_fosfokinase</th>\n",
       "      <th>diabetes</th>\n",
       "      <th>fraksi_ejeksi</th>\n",
       "      <th>tekanan_darah_tinggi</th>\n",
       "      <th>platelets</th>\n",
       "      <th>serum_creatinine</th>\n",
       "      <th>sodium_kreatin</th>\n",
       "      <th>jenis_kelamin</th>\n",
       "      <th>perokok</th>\n",
       "      <th>waktu</th>\n",
       "      <th>Kematian</th>\n",
       "    </tr>\n",
       "  </thead>\n",
       "  <tbody>\n",
       "    <tr>\n",
       "      <th>0</th>\n",
       "      <td>75.0</td>\n",
       "      <td>0</td>\n",
       "      <td>582</td>\n",
       "      <td>0</td>\n",
       "      <td>20</td>\n",
       "      <td>1</td>\n",
       "      <td>265000.00</td>\n",
       "      <td>1.9</td>\n",
       "      <td>130</td>\n",
       "      <td>1</td>\n",
       "      <td>0</td>\n",
       "      <td>4</td>\n",
       "      <td>1</td>\n",
       "    </tr>\n",
       "    <tr>\n",
       "      <th>1</th>\n",
       "      <td>55.0</td>\n",
       "      <td>0</td>\n",
       "      <td>7861</td>\n",
       "      <td>0</td>\n",
       "      <td>38</td>\n",
       "      <td>0</td>\n",
       "      <td>263358.03</td>\n",
       "      <td>1.1</td>\n",
       "      <td>136</td>\n",
       "      <td>1</td>\n",
       "      <td>0</td>\n",
       "      <td>6</td>\n",
       "      <td>1</td>\n",
       "    </tr>\n",
       "    <tr>\n",
       "      <th>2</th>\n",
       "      <td>65.0</td>\n",
       "      <td>0</td>\n",
       "      <td>146</td>\n",
       "      <td>0</td>\n",
       "      <td>20</td>\n",
       "      <td>0</td>\n",
       "      <td>162000.00</td>\n",
       "      <td>1.3</td>\n",
       "      <td>129</td>\n",
       "      <td>1</td>\n",
       "      <td>1</td>\n",
       "      <td>7</td>\n",
       "      <td>1</td>\n",
       "    </tr>\n",
       "    <tr>\n",
       "      <th>3</th>\n",
       "      <td>50.0</td>\n",
       "      <td>1</td>\n",
       "      <td>111</td>\n",
       "      <td>0</td>\n",
       "      <td>20</td>\n",
       "      <td>0</td>\n",
       "      <td>210000.00</td>\n",
       "      <td>1.9</td>\n",
       "      <td>137</td>\n",
       "      <td>1</td>\n",
       "      <td>0</td>\n",
       "      <td>7</td>\n",
       "      <td>1</td>\n",
       "    </tr>\n",
       "    <tr>\n",
       "      <th>4</th>\n",
       "      <td>65.0</td>\n",
       "      <td>1</td>\n",
       "      <td>160</td>\n",
       "      <td>1</td>\n",
       "      <td>20</td>\n",
       "      <td>0</td>\n",
       "      <td>327000.00</td>\n",
       "      <td>2.7</td>\n",
       "      <td>116</td>\n",
       "      <td>0</td>\n",
       "      <td>0</td>\n",
       "      <td>8</td>\n",
       "      <td>1</td>\n",
       "    </tr>\n",
       "  </tbody>\n",
       "</table>\n",
       "</div>"
      ],
      "text/plain": [
       "   umur  anemia  kreatin_fosfokinase  diabetes  fraksi_ejeksi  \\\n",
       "0  75.0       0                  582         0             20   \n",
       "1  55.0       0                 7861         0             38   \n",
       "2  65.0       0                  146         0             20   \n",
       "3  50.0       1                  111         0             20   \n",
       "4  65.0       1                  160         1             20   \n",
       "\n",
       "   tekanan_darah_tinggi  platelets  serum_creatinine  sodium_kreatin  \\\n",
       "0                     1  265000.00               1.9             130   \n",
       "1                     0  263358.03               1.1             136   \n",
       "2                     0  162000.00               1.3             129   \n",
       "3                     0  210000.00               1.9             137   \n",
       "4                     0  327000.00               2.7             116   \n",
       "\n",
       "   jenis_kelamin  perokok  waktu  Kematian  \n",
       "0              1        0      4         1  \n",
       "1              1        0      6         1  \n",
       "2              1        1      7         1  \n",
       "3              1        0      7         1  \n",
       "4              0        0      8         1  "
      ]
     },
     "execution_count": 12,
     "metadata": {},
     "output_type": "execute_result"
    }
   ],
   "source": [
    "df.rename(columns={'age':'umur', 'anaemia':'anemia', 'creatinine_phosphokinase':'kreatin_fosfokinase', 'ejection_fraction':'fraksi_ejeksi', 'high_blood_pressure':'tekanan_darah_tinggi', 'serum_creatine':'kreatin_serum', 'serum_sodium':'sodium_kreatin', 'sex':'jenis_kelamin', 'smoking':'perokok', 'time':'waktu', 'DEATH_EVENT':'Kematian'}, inplace=True)\n",
    "df.head()"
   ]
  },
  {
   "cell_type": "markdown",
   "id": "4393f4b4",
   "metadata": {},
   "source": [
    "# Eksplorasi Data Analist"
   ]
  },
  {
   "cell_type": "code",
   "execution_count": 13,
   "id": "09e30134",
   "metadata": {},
   "outputs": [
    {
     "name": "stdout",
     "output_type": "stream",
     "text": [
      "0    203\n",
      "1     96\n",
      "Name: Kematian, dtype: int64\n"
     ]
    },
    {
     "data": {
      "image/png": "[encoded data removed]",
      "text/plain": [
       "<Figure size 640x480 with 1 Axes>"
      ]
     },
     "metadata": {},
     "output_type": "display_data"
    }
   ],
   "source": [
    "df[\"Kematian\"].value_counts().plot(kind=\"bar\")\n",
    "plt.title(\" Perbandingan nilai pada kolom Kematian\")\n",
    "plt.xlabel(\" Indikator 0 dan 1 \")\n",
    "plt.ylabel(\" Jumlah \")\n",
    "print(df[\"Kematian\"].value_counts())"
   ]
  },
  {
   "cell_type": "markdown",
   "id": "21c4f397",
   "metadata": {},
   "source": [
    "#### Kesimpulan"
   ]
  },
  {
   "cell_type": "markdown",
   "id": "762e9e7f",
   "metadata": {},
   "source": [
    "Dari grafik batang diatas dapat disimpulkan bahwa lebih banyak dengan nilai '0' (Tidak mengalami kematian) dibandingkan dengan nilai '1' (Mengalami kematian)."
   ]
  },
  {
   "cell_type": "markdown",
   "id": "ce8f6d44",
   "metadata": {},
   "source": [
    "## Barplot"
   ]
  },
  {
   "cell_type": "markdown",
   "id": "751e008e",
   "metadata": {},
   "source": [
    "#### Membandingkan kolom \"perokok\" dan \"kematian\""
   ]
  },
  {
   "cell_type": "code",
   "execution_count": 19,
   "id": "12fcf5ca",
   "metadata": {},
   "outputs": [
    {
     "data": {
      "text/plain": [
       "([<matplotlib.axis.XTick at 0x2aa6cc01d30>,\n",
       "  <matplotlib.axis.XTick at 0x2aa6cc01d00>],\n",
       " [Text(0, 0, 'Tidak meninggal'), Text(1, 0, 'meninggal')])"
      ]
     },
     "execution_count": 19,
     "metadata": {},
     "output_type": "execute_result"
    },
    {
     "data": {
      "image/png": "[encoded data removed]",
      "text/plain": [
       "<Figure size 500x500 with 1 Axes>"
      ]
     },
     "metadata": {},
     "output_type": "display_data"
    }
   ],
   "source": [
    "df[['perokok', 'Kematian']]\n",
    "sns.catplot(data=df, x='Kematian', y='perokok', kind='bar')\n",
    "plt.xticks(ticks=(0,1),labels=['Tidak meninggal','meninggal'])"
   ]
  },
  {
   "cell_type": "markdown",
   "id": "27a983c8",
   "metadata": {},
   "source": [
    "##### Kesimpulan"
   ]
  },
  {
   "cell_type": "markdown",
   "id": "86e34fff",
   "metadata": {},
   "source": [
    "Dari barplot diatas dapat disimpulkan bahwa perbandingan antara tidak meninggal dan meninggal pada perokok hampir memiliki nilai yang sama"
   ]
  },
  {
   "cell_type": "markdown",
   "id": "7631c97b",
   "metadata": {},
   "source": [
    "#### Membandingkan kolom \"anemia\" dan \"kematian\""
   ]
  },
  {
   "cell_type": "code",
   "execution_count": 20,
   "id": "556509be",
   "metadata": {},
   "outputs": [
    {
     "data": {
      "text/plain": [
       "([<matplotlib.axis.XTick at 0x2aa6cbb0550>,\n",
       "  <matplotlib.axis.XTick at 0x2aa6dd173d0>],\n",
       " [Text(0, 0, 'Tidak meninggal'), Text(1, 0, 'meninggal')])"
      ]
     },
     "execution_count": 20,
     "metadata": {},
     "output_type": "execute_result"
    },
    {
     "data": {
      "image/png": "[encoded data removed]",
      "text/plain": [
       "<Figure size 500x500 with 1 Axes>"
      ]
     },
     "metadata": {},
     "output_type": "display_data"
    }
   ],
   "source": [
    "df[['anemia', 'Kematian']]\n",
    "sns.catplot(data=df, x='Kematian', y='anemia', kind='bar')\n",
    "plt.xticks(ticks=(0,1),labels=['Tidak meninggal','meninggal'])"
   ]
  },
  {
   "cell_type": "markdown",
   "id": "9ba6a5f5",
   "metadata": {},
   "source": [
    "##### Kesimpulan"
   ]
  },
  {
   "cell_type": "markdown",
   "id": "6ad77610",
   "metadata": {},
   "source": [
    "Dari barplot di atas, dapat disimpulkan bahwa pada seseorang dengan kondisi anemia, terdapat jumlah yang lebih besar mengalami kematian daripada yang tidak mengalami kematian. Hal ini menunjukkan bahwa penderita anemia memiliki potensi yang lebih tinggi untuk mengalami gagal jantung dan risiko kematian."
   ]
  },
  {
   "cell_type": "markdown",
   "id": "6889d7a7",
   "metadata": {},
   "source": [
    "#### Membandingkan kolom \"kreatin_fosfokinase\" dan \"kematian\""
   ]
  },
  {
   "cell_type": "code",
   "execution_count": 21,
   "id": "37c8d55e",
   "metadata": {},
   "outputs": [
    {
     "data": {
      "text/plain": [
       "([<matplotlib.axis.XTick at 0x2aa6cb2e4c0>,\n",
       "  <matplotlib.axis.XTick at 0x2aa6cb2e280>],\n",
       " [Text(0, 0, 'Tidak meninggal'), Text(1, 0, 'meninggal')])"
      ]
     },
     "execution_count": 21,
     "metadata": {},
     "output_type": "execute_result"
    },
    {
     "data": {
      "image/png": "[encoded data removed]",
      "text/plain": [
       "<Figure size 500x500 with 1 Axes>"
      ]
     },
     "metadata": {},
     "output_type": "display_data"
    }
   ],
   "source": [
    "df[['kreatin_fosfokinase', 'Kematian']]\n",
    "sns.catplot(data=df, x='Kematian', y='kreatin_fosfokinase', kind='bar')\n",
    "plt.xticks(ticks=(0,1),labels=['Tidak meninggal','meninggal'])"
   ]
  },
  {
   "cell_type": "markdown",
   "id": "07d2d060",
   "metadata": {},
   "source": [
    "##### Kesimpulan"
   ]
  },
  {
   "cell_type": "markdown",
   "id": "73634f31",
   "metadata": {},
   "source": [
    "Dari barplot di atas, dapat disimpulkan bahwa pada penderita kreatin_fosfokinase, jumlah yang mengalami kematian juga lebih besar daripada yang tidak mengalami kematian. maka penderita kreatin_fosfokinase juga berpotensi mengalami gagal jantung dan mengalami resiko kematian"
   ]
  },
  {
   "cell_type": "markdown",
   "id": "0c6f9c29",
   "metadata": {},
   "source": [
    "#### Membandingkan kolom \"diabetes\" dan \"kematian\""
   ]
  },
  {
   "cell_type": "code",
   "execution_count": 22,
   "id": "d1d4aded",
   "metadata": {},
   "outputs": [
    {
     "data": {
      "text/plain": [
       "([<matplotlib.axis.XTick at 0x2aa6cae2e80>,\n",
       "  <matplotlib.axis.XTick at 0x2aa6cae2cd0>],\n",
       " [Text(0, 0, 'Tidak meninggal'), Text(1, 0, 'meninggal')])"
      ]
     },
     "execution_count": 22,
     "metadata": {},
     "output_type": "execute_result"
    },
    {
     "data": {
      "image/png": "[encoded data removed]",
      "text/plain": [
       "<Figure size 500x500 with 1 Axes>"
      ]
     },
     "metadata": {},
     "output_type": "display_data"
    }
   ],
   "source": [
    "df[['diabetes', 'Kematian']]\n",
    "sns.catplot(data=df, x='Kematian', y='diabetes', kind='bar')\n",
    "plt.xticks(ticks=(0,1),labels=['Tidak meninggal','meninggal'])"
   ]
  },
  {
   "cell_type": "markdown",
   "id": "b78d1411",
   "metadata": {},
   "source": [
    "##### kesimpulan"
   ]
  },
  {
   "cell_type": "markdown",
   "id": "d7e86e03",
   "metadata": {},
   "source": [
    "Dari barplot diatas dapat disimpulkan bahwa perbandingan antara tidak meninggal dan meninggal pada penderita diabetes hampir memiliki nilai yang sama"
   ]
  },
  {
   "cell_type": "markdown",
   "id": "977fd66e",
   "metadata": {},
   "source": [
    "#### Membandingkan kolom \"tekanan_darah_tinggi\" dan \"kematian\""
   ]
  },
  {
   "cell_type": "code",
   "execution_count": 24,
   "id": "75c3d7d1",
   "metadata": {},
   "outputs": [
    {
     "data": {
      "text/plain": [
       "([<matplotlib.axis.XTick at 0x2aa6dd2a970>,\n",
       "  <matplotlib.axis.XTick at 0x2aa6dd2a940>],\n",
       " [Text(0, 0, 'Tidak meninggal'), Text(1, 0, 'meninggal')])"
      ]
     },
     "execution_count": 24,
     "metadata": {},
     "output_type": "execute_result"
    },
    {
     "data": {
      "image/png": "[encoded data removed]",
      "text/plain": [
       "<Figure size 500x500 with 1 Axes>"
      ]
     },
     "metadata": {},
     "output_type": "display_data"
    }
   ],
   "source": [
    "df[['tekanan_darah_tinggi', 'Kematian']]\n",
    "sns.catplot(data=df, x='Kematian', y='tekanan_darah_tinggi', kind='bar')\n",
    "plt.xticks(ticks=(0,1),labels=['Tidak meninggal','meninggal'])"
   ]
  },
  {
   "cell_type": "markdown",
   "id": "a3411a54",
   "metadata": {},
   "source": [
    "##### Kesimpulan"
   ]
  },
  {
   "cell_type": "markdown",
   "id": "9e34b851",
   "metadata": {},
   "source": [
    "Dari barplot di atas, dapat disimpulkan bahwa pada penderita tekanan darah tinggi, memiliki jumlah yang mengalami kematian  lebih besar daripada yang tidak mengalami kematian. maka penderita tekanan darah tinggi juga berpotensi mengalami gagal jantung dan resiko kematian"
   ]
  },
  {
   "cell_type": "markdown",
   "id": "14ad13bf",
   "metadata": {},
   "source": [
    "#### Membandingkan kolom \"serum_creatinine\" dan \"kematian\""
   ]
  },
  {
   "cell_type": "code",
   "execution_count": 26,
   "id": "5794cd49",
   "metadata": {},
   "outputs": [
    {
     "data": {
      "text/plain": [
       "([<matplotlib.axis.XTick at 0x2aa6ddf0a60>,\n",
       "  <matplotlib.axis.XTick at 0x2aa6ddf0a30>],\n",
       " [Text(0, 0, 'Tidak meninggal'), Text(1, 0, 'meninggal')])"
      ]
     },
     "execution_count": 26,
     "metadata": {},
     "output_type": "execute_result"
    },
    {
     "data": {
      "image/png": "[encoded data removed]",
      "text/plain": [
       "<Figure size 500x500 with 1 Axes>"
      ]
     },
     "metadata": {},
     "output_type": "display_data"
    }
   ],
   "source": [
    "df[['serum_creatinine', 'Kematian']]\n",
    "sns.catplot(data=df, x='Kematian', y='serum_creatinine', kind='bar')\n",
    "plt.xticks(ticks=(0,1),labels=['Tidak meninggal','meninggal'])"
   ]
  },
  {
   "cell_type": "markdown",
   "id": "6d840202",
   "metadata": {},
   "source": [
    "##### Kesimpulan"
   ]
  },
  {
   "cell_type": "markdown",
   "id": "23b85281",
   "metadata": {},
   "source": [
    "Dari barplot di atas, dapat disimpulkan bahwa pada penderita serum_creatin, memiliki jumlah yang mengalami kematian jauh lebih besar daripada yang tidak mengalami kematian. maka penderita serum_creatin juga berpotensi mengalami gagal jantung dan resiko kematian"
   ]
  },
  {
   "cell_type": "markdown",
   "id": "6e8df468",
   "metadata": {},
   "source": [
    "#### Membandingkan kolom \"umur\" dan \"kematian\""
   ]
  },
  {
   "cell_type": "code",
   "execution_count": 29,
   "id": "f32becab",
   "metadata": {},
   "outputs": [
    {
     "data": {
      "text/plain": [
       "([<matplotlib.axis.XTick at 0x2aa6ef04040>,\n",
       "  <matplotlib.axis.XTick at 0x2aa6eefefd0>],\n",
       " [Text(0, 0, 'Tidak meninggal'), Text(1, 0, 'meninggal')])"
      ]
     },
     "execution_count": 29,
     "metadata": {},
     "output_type": "execute_result"
    },
    {
     "data": {
      "image/png": "[encoded data removed]",
      "text/plain": [
       "<Figure size 500x500 with 1 Axes>"
      ]
     },
     "metadata": {},
     "output_type": "display_data"
    }
   ],
   "source": [
    "df[['umur', 'Kematian']]\n",
    "sns.catplot(data=df, x='Kematian', y='umur', kind='bar')\n",
    "plt.xticks(ticks=(0,1),labels=['Tidak meninggal','meninggal'])"
   ]
  },
  {
   "cell_type": "markdown",
   "id": "0cb9129c",
   "metadata": {},
   "source": [
    "##### Kesimpulan"
   ]
  },
  {
   "cell_type": "markdown",
   "id": "60b64b99",
   "metadata": {},
   "source": [
    "Dari barplot di atas, dapat disimpulkan bahwa, jumlah yang mengalami kematian lebih besar daripada yang tidak mengalami kematian. maka umur juga merupakan salah satu penyebab dari seseorang mengalami gagal jantung dan resiko kematian"
   ]
  },
  {
   "cell_type": "markdown",
   "id": "8a18566c",
   "metadata": {},
   "source": [
    "# PreProcesing Data"
   ]
  },
  {
   "cell_type": "markdown",
   "id": "0d033a01",
   "metadata": {},
   "source": [
    "## Mengecek Outlier"
   ]
  },
  {
   "cell_type": "code",
   "execution_count": 59,
   "id": "c9cb5be1",
   "metadata": {},
   "outputs": [
    {
     "name": "stderr",
     "output_type": "stream",
     "text": [
      "C:\\ProgramData\\Anaconda3\\lib\\site-packages\\seaborn\\_decorators.py:36: FutureWarning: Pass the following variable as a keyword arg: x. From version 0.12, the only valid positional argument will be `data`, and passing other arguments without an explicit keyword will result in an error or misinterpretation.\n",
      "  warnings.warn(\n",
      "C:\\ProgramData\\Anaconda3\\lib\\site-packages\\seaborn\\_decorators.py:36: FutureWarning: Pass the following variable as a keyword arg: x. From version 0.12, the only valid positional argument will be `data`, and passing other arguments without an explicit keyword will result in an error or misinterpretation.\n",
      "  warnings.warn(\n",
      "C:\\ProgramData\\Anaconda3\\lib\\site-packages\\seaborn\\_decorators.py:36: FutureWarning: Pass the following variable as a keyword arg: x. From version 0.12, the only valid positional argument will be `data`, and passing other arguments without an explicit keyword will result in an error or misinterpretation.\n",
      "  warnings.warn(\n",
      "C:\\ProgramData\\Anaconda3\\lib\\site-packages\\seaborn\\_decorators.py:36: FutureWarning: Pass the following variable as a keyword arg: x. From version 0.12, the only valid positional argument will be `data`, and passing other arguments without an explicit keyword will result in an error or misinterpretation.\n",
      "  warnings.warn(\n",
      "C:\\ProgramData\\Anaconda3\\lib\\site-packages\\seaborn\\_decorators.py:36: FutureWarning: Pass the following variable as a keyword arg: x. From version 0.12, the only valid positional argument will be `data`, and passing other arguments without an explicit keyword will result in an error or misinterpretation.\n",
      "  warnings.warn(\n",
      "C:\\ProgramData\\Anaconda3\\lib\\site-packages\\seaborn\\_decorators.py:36: FutureWarning: Pass the following variable as a keyword arg: x. From version 0.12, the only valid positional argument will be `data`, and passing other arguments without an explicit keyword will result in an error or misinterpretation.\n",
      "  warnings.warn(\n",
      "C:\\ProgramData\\Anaconda3\\lib\\site-packages\\seaborn\\_decorators.py:36: FutureWarning: Pass the following variable as a keyword arg: x. From version 0.12, the only valid positional argument will be `data`, and passing other arguments without an explicit keyword will result in an error or misinterpretation.\n",
      "  warnings.warn(\n",
      "C:\\ProgramData\\Anaconda3\\lib\\site-packages\\seaborn\\_decorators.py:36: FutureWarning: Pass the following variable as a keyword arg: x. From version 0.12, the only valid positional argument will be `data`, and passing other arguments without an explicit keyword will result in an error or misinterpretation.\n",
      "  warnings.warn(\n",
      "C:\\ProgramData\\Anaconda3\\lib\\site-packages\\seaborn\\_decorators.py:36: FutureWarning: Pass the following variable as a keyword arg: x. From version 0.12, the only valid positional argument will be `data`, and passing other arguments without an explicit keyword will result in an error or misinterpretation.\n",
      "  warnings.warn(\n",
      "C:\\ProgramData\\Anaconda3\\lib\\site-packages\\seaborn\\_decorators.py:36: FutureWarning: Pass the following variable as a keyword arg: x. From version 0.12, the only valid positional argument will be `data`, and passing other arguments without an explicit keyword will result in an error or misinterpretation.\n",
      "  warnings.warn(\n",
      "C:\\ProgramData\\Anaconda3\\lib\\site-packages\\seaborn\\_decorators.py:36: FutureWarning: Pass the following variable as a keyword arg: x. From version 0.12, the only valid positional argument will be `data`, and passing other arguments without an explicit keyword will result in an error or misinterpretation.\n",
      "  warnings.warn(\n",
      "C:\\ProgramData\\Anaconda3\\lib\\site-packages\\seaborn\\_decorators.py:36: FutureWarning: Pass the following variable as a keyword arg: x. From version 0.12, the only valid positional argument will be `data`, and passing other arguments without an explicit keyword will result in an error or misinterpretation.\n",
      "  warnings.warn(\n",
      "C:\\ProgramData\\Anaconda3\\lib\\site-packages\\seaborn\\_decorators.py:36: FutureWarning: Pass the following variable as a keyword arg: x. From version 0.12, the only valid positional argument will be `data`, and passing other arguments without an explicit keyword will result in an error or misinterpretation.\n",
      "  warnings.warn(\n"
     ]
    },
    {
     "data": {
      "image/png": "[encoded data removed]",
      "text/plain": [
       "<Figure size 500x500 with 1 Axes>"
      ]
     },
     "metadata": {},
     "output_type": "display_data"
    },
    {
     "data": {
      "image/png": "[encoded data removed]",
      "text/plain": [
       "<Figure size 500x500 with 1 Axes>"
      ]
     },
     "metadata": {},
     "output_type": "display_data"
    },
    {
     "data": {
      "image/png": "[encoded data removed]",
      "text/plain": [
       "<Figure size 500x500 with 1 Axes>"
      ]
     },
     "metadata": {},
     "output_type": "display_data"
    },
    {
     "data": {
      "image/png": "[encoded data removed]",
      "text/plain": [
       "<Figure size 500x500 with 1 Axes>"
      ]
     },
     "metadata": {},
     "output_type": "display_data"
    },
    {
     "data": {
      "image/png": "[encoded data removed]",
      "text/plain": [
       "<Figure size 500x500 with 1 Axes>"
      ]
     },
     "metadata": {},
     "output_type": "display_data"
    },
    {
     "data": {
      "image/png": "[encoded data removed]",
      "text/plain": [
       "<Figure size 500x500 with 1 Axes>"
      ]
     },
     "metadata": {},
     "output_type": "display_data"
    },
    {
     "data": {
      "image/png": "[encoded data removed]",
      "text/plain": [
       "<Figure size 500x500 with 1 Axes>"
      ]
     },
     "metadata": {},
     "output_type": "display_data"
    },
    {
     "data": {
      "image/png": "[encoded data removed]",
      "text/plain": [
       "<Figure size 500x500 with 1 Axes>"
      ]
     },
     "metadata": {},
     "output_type": "display_data"
    },
    {
     "data": {
      "image/png": "[encoded data removed]",
      "text/plain": [
       "<Figure size 500x500 with 1 Axes>"
      ]
     },
     "metadata": {},
     "output_type": "display_data"
    },
    {
     "data": {
      "image/png": "[encoded data removed]",
      "text/plain": [
       "<Figure size 500x500 with 1 Axes>"
      ]
     },
     "metadata": {},
     "output_type": "display_data"
    },
    {
     "data": {
      "image/png": "[encoded data removed]",
      "text/plain": [
       "<Figure size 500x500 with 1 Axes>"
      ]
     },
     "metadata": {},
     "output_type": "display_data"
    },
    {
     "data": {
      "image/png": "[encoded data removed]",
      "text/plain": [
       "<Figure size 500x500 with 1 Axes>"
      ]
     },
     "metadata": {},
     "output_type": "display_data"
    },
    {
     "data": {
      "image/png": "[encoded data removed]",
      "text/plain": [
       "<Figure size 500x500 with 1 Axes>"
      ]
     },
     "metadata": {},
     "output_type": "display_data"
    }
   ],
   "source": [
    "for feature in df:\n",
    "    plt.figure(figsize=(5,5))\n",
    "    sns.boxplot(df[feature])\n",
    "    plt.title(feature)"
   ]
  },
  {
   "cell_type": "code",
   "execution_count": null,
   "id": "c07f60a1",
   "metadata": {},
   "outputs": [],
   "source": []
  }
 ],
 "metadata": {
  "kernelspec": {
   "display_name": "Python 3 (ipykernel)",
   "language": "python",
   "name": "python3"
  },
  "language_info": {
   "codemirror_mode": {
    "name": "ipython",
    "version": 3
   },
   "file_extension": ".py",
   "mimetype": "text/x-python",
   "name": "python",
   "nbconvert_exporter": "python",
   "pygments_lexer": "ipython3",
   "version": "3.9.13"
  }
 },
 "nbformat": 4,
 "nbformat_minor": 5
}
